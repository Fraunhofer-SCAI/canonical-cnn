{
 "cells": [
  {
   "cell_type": "code",
   "execution_count": null,
   "metadata": {},
   "outputs": [],
   "source": [
    "import copy\n",
    "import numpy as np\n",
    "import tensorly as tl\n",
    "from tensorly.decomposition import parafac\n",
    "import torch \n",
    "import time\n",
    "tl.set_backend('pytorch')"
   ]
  },
  {
   "cell_type": "code",
   "execution_count": null,
   "metadata": {},
   "outputs": [],
   "source": [
    "class CP_ALS():\n",
    "    \"\"\"\n",
    "    This class computes the Candecomp PARAFAC decomposition using \n",
    "    N-way Alternating least squares algorithm along with khatri rao product\n",
    "    \"\"\"\n",
    "    def moveaxis(self, tensor: torch.Tensor, source: int, destination: int) -> torch.Tensor:\n",
    "        \"\"\"\n",
    "        This method is from the implementation given in pytorch \n",
    "        https://github.com/pytorch/pytorch/issues/36048#issuecomment-652786245\n",
    "        \"\"\"\n",
    "        dim = tensor.dim()\n",
    "        perm = list(range(dim))\n",
    "        if destination < 0:\n",
    "            destination += dim\n",
    "        perm.pop(source)\n",
    "        perm.insert(destination, source)\n",
    "        return tensor.permute(*perm)\n",
    "    \n",
    "    def unfold_tensor(self, tensor, mode):\n",
    "        \"\"\" This method unfolds the given input tensor along with the specified mode.\n",
    "        Input :\n",
    "            tensor : Input tensor\n",
    "            mode : Specified mode of unfolding\n",
    "        Output :\n",
    "            matrix : Unfolded matrix of the tensor with specified mode\n",
    "        \"\"\"\n",
    "        #t = tensor.transpose(mode, 0)\n",
    "        t = self.moveaxis(tensor, mode, 0)\n",
    "        matrix = t.reshape(tensor.shape[mode], -1)\n",
    "        return matrix\n",
    "        #return torch.reshape(torch.moveaxis(tensor, mode, 0), (tensor.shape[mode], -1))\n",
    "\n",
    "    ## Old functions\n",
    "    #def perform_Kronecker_Product(self, t1, t2):\n",
    "    #    t1_flatten = torch.flatten(t1)\n",
    "    #    op = torch.empty((0, ))\n",
    "    #    for element in t1_flatten:\n",
    "    #        output = element*t2\n",
    "    #        op = torch.cat((op, output))\n",
    "    #    return op\n",
    "    \n",
    "    #def perform_Khatri_Rao_Product(self, t1, t2):\n",
    "    #    # Check for criteria if the columns of both matrices are same\n",
    "    #    r1, c1 = t1.shape\n",
    "    #    r2, c2 = t2.shape\n",
    "    #    if c1 != c2:\n",
    "    #        print(\"Number of columns are different. Product can't be performed\")\n",
    "    #        return 0\n",
    "    #    opt = torch.empty((r1*r2, c1))\n",
    "    #    for col_no in range(0, t1.shape[-1]):\n",
    "    #        x = self.perform_Kronecker_Product(t1[:, col_no], t2[:, col_no])\n",
    "    #        opt[:, col_no] = x\n",
    "    #    return opt\n",
    "    \n",
    "    # New functions\n",
    "    def perform_Kronecker_Product(self, A, B):\n",
    "        \"\"\" \n",
    "        This method performs the kronecker product of the two matrices\n",
    "        The method is adaption of the method proposed in https://discuss.pytorch.org/t/kronecker-product/3919/10\n",
    "        Input : \n",
    "            A : Input matrix 1\n",
    "            B : Input matrix 2\n",
    "        Output : \n",
    "            Output is the resultant matrix after kronecker product\n",
    "        \"\"\"\n",
    "        return torch.einsum(\"ab,cd->acbd\", A, B).view(A.size(0)*B.size(0),  A.size(1)*B.size(1))\n",
    "    \n",
    "    def perform_Khatri_Rao_Product(self, A, B):\n",
    "        \"\"\"\n",
    "        This methods performs the Khatri Rao product as it is the column wise kronecker product\n",
    "        Input : \n",
    "            A : Input matrix 1\n",
    "            B : Input matrix 2\n",
    "        Output : \n",
    "            result : The resultant Khatri-Rao product matrix\n",
    "        \"\"\"\n",
    "        if A.shape[1] != B.shape[1]:\n",
    "            print(\"Inputs must have same number of columns\")\n",
    "            return 0\n",
    "        result = None\n",
    "        for col in range(A.shape[1]):\n",
    "            res = self.perform_Kronecker_Product(A[:, col].unsqueeze(0), B[:, col].unsqueeze(0))\n",
    "            if col == 0:\n",
    "                result = res\n",
    "            else:\n",
    "                result = torch.cat((result, res), dim = 0)\n",
    "        return result.T\n",
    "\n",
    "    def compute_MTTKRP(self, tensor_matrix, A, k_value):\n",
    "        \"\"\"\n",
    "        This method computes the Matricized Tensor Times Khatri-Rao product\n",
    "        between the unfolded tensor and the all other factors apart from kth factor.\n",
    "        Input : \n",
    "            tensor_matrix : Unfolded tensor as a matrix\n",
    "            A : Factor matrices\n",
    "            k_value : index of kth matrix to be excluded\n",
    "        Output : \n",
    "            B : Resultant MTTKRP matrix\n",
    "        \"\"\"\n",
    "        A_matrix = copy.deepcopy(A)\n",
    "        A_matrix.pop(k_value)\n",
    "        krp_matrix = A_matrix[0]\n",
    "        for index in range(1, len(A_matrix)):\n",
    "            krp_matrix = self.perform_Khatri_Rao_Product(krp_matrix, A_matrix[index])\n",
    "        B = torch.matmul(tensor_matrix, krp_matrix)\n",
    "        return B\n",
    "    \n",
    "    def compute_V_Matrix(self, A, k_value):\n",
    "        \"\"\"\n",
    "        This method computes the V value as a hadamard product of \n",
    "        outer product of every factort matrix apart from kth factor matrix.\n",
    "        Input : \n",
    "            A : Factor matrices\n",
    "            k_value : index of kth matrix to be excluded\n",
    "        Output : \n",
    "            v : Resultant V matrix after the hadamard product\n",
    "        \"\"\"\n",
    "        A_matrix = copy.deepcopy(A)\n",
    "        A_matrix.pop(k_value)\n",
    "        v = torch.matmul(A_matrix[0].T, A_matrix[0])\n",
    "        for index in range(1, len(A_matrix)):\n",
    "            p = torch.matmul(A_matrix[index].T, A_matrix[index])\n",
    "            v = v*p\n",
    "        return v\n",
    "    \n",
    "    def create_A_Matrix(self, tensor_shape, rank):\n",
    "        \"\"\"\n",
    "        This method generates required number of factor matrices.\n",
    "        Input : \n",
    "            tensor_shape : shape of the input tensor\n",
    "            rank : Required rank of the factors\n",
    "        Output : \n",
    "            A : Resultant list of factor matrices\n",
    "        \"\"\"\n",
    "        A = []\n",
    "        for i in tensor_shape:\n",
    "            A.append(torch.randn((i, rank)))\n",
    "        return A\n",
    "    \n",
    "    def compute_ALS(self, input_tensor, max_iter, rank):\n",
    "        \"\"\"\n",
    "        This method is heart of this algorithm, this computes the factors and also lambdas of the algorithm.\n",
    "        Input : \n",
    "            input_tensor : Tensor containing input values\n",
    "            max_iter : maximum number of iterations\n",
    "            rank : prescribed rank of the resultant factors\n",
    "        Output : \n",
    "            A : factor matrices\n",
    "            lmbds : column norms of each factor matrices\n",
    "        \"\"\"\n",
    "        A = self.create_A_Matrix(input_tensor.shape, rank)\n",
    "        lmbds = []\n",
    "        for l_iter in range(0, max_iter):\n",
    "            for k in range(0, len(A)):\n",
    "                X_unfolded = self.unfold_tensor(input_tensor, k)\n",
    "                Z = self.compute_MTTKRP(X_unfolded, A, k)\n",
    "                V = self.compute_V_Matrix(A, k)\n",
    "                A_k = torch.matmul(Z, torch.pinverse(V))\n",
    "                l = torch.norm(A_k, dim=0)\n",
    "                d_l = np.zeros((rank, rank))\n",
    "                np.fill_diagonal(d_l, l)\n",
    "                #A_k = np.dot(A_k, np.linalg.pinv(d_l))\n",
    "                if l_iter == 0:\n",
    "                    lmbds.append(np.linalg.norm(l))\n",
    "                else:\n",
    "                    lmbds[k] = np.linalg.norm(l)\n",
    "                A[k] = A_k\n",
    "        return A, lmbds\n",
    "    \n",
    "    def reconstruct_tensor(self, factors, norm, rank, ip_shape):\n",
    "        \"\"\"\n",
    "        This method reconstructs the tensor given factor matrices and norms\n",
    "        Input : \n",
    "            factors : factor matrices\n",
    "            norm : column norms of every factor matrices\n",
    "            rank : prescribed rank of the resultant factors\n",
    "            ip_shape : Input tensor shape \n",
    "        Output : \n",
    "            M : Reconstructed tensor\n",
    "        \"\"\"\n",
    "        M = 0       \n",
    "        for c in range(0, rank):\n",
    "            op = factors[0][:, c]\n",
    "            for i in range(1, len(factors)):\n",
    "                op = np.outer(op.T, factors[i][:, c])\n",
    "            M += op\n",
    "        M = np.reshape(M, ip_shape)\n",
    "        return M\n",
    "\n",
    "    def reconstruct_Three_Way_Tensor(self, a, b, c):\n",
    "        \"\"\"This method reconstructs the tensor from the rank one factor matrices\n",
    "        Inputs: \n",
    "            a : First factor in CP decomposition\n",
    "            b : Second factor in CP decomposition\n",
    "            c : Third factor in CP decomposition\n",
    "        Output:\n",
    "            x_t : Reconstructed output tensor\"\"\"\n",
    "\n",
    "        x_t = 0\n",
    "        #row, col = a.shape()\n",
    "        for index in range(a.shape[1]):\n",
    "            x_t += torch.ger(a[:,index], b[:,index]).unsqueeze(2)*c[:,index].unsqueeze(0).unsqueeze(0)\n",
    "        return x_t\n",
    "\n",
    "    # Reconstruct the tensor from the factors\n",
    "    def reconstruct_Four_Way_Tensor(self, a, b, c, d):\n",
    "        \"\"\"This method reconstructs the tensor from the rank one factor matrices\n",
    "        Inputs: \n",
    "            a : First factor in CP decomposition\n",
    "            b : Second factor in CP decomposition\n",
    "            c : Third factor in CP decomposition\n",
    "            d : Fourth factor in CP decomposition\n",
    "        Output:\n",
    "            x_t : Reconstructed output tensor\"\"\"\n",
    "\n",
    "        x_t = 0\n",
    "        #row, col = a.shape()\n",
    "        for index in range(a.shape[1]):\n",
    "            Y = (torch.ger(a[:, index], b[:, index]).unsqueeze(2)*c[:, index]).unsqueeze(3)*d[:,index].unsqueeze(0).unsqueeze(0)\n",
    "            x_t += Y\n",
    "            #x_t += torch.ger(a[:,index], b[:,index]).unsqueeze(2)*c[:,index].unsqueeze(0).unsqueeze(0)\n",
    "        return x_t"
   ]
  },
  {
   "cell_type": "code",
   "execution_count": null,
   "metadata": {},
   "outputs": [],
   "source": [
    "ip_shape = (256, 64, 11, 11)\n",
    "r_state = 0\n",
    "max_iter = 100   \n",
    "r = 64\n",
    "torch.manual_seed(0)\n",
    "X_tensor = torch.randn(ip_shape)"
   ]
  },
  {
   "cell_type": "code",
   "execution_count": null,
   "metadata": {},
   "outputs": [],
   "source": [
    "cp_als = CP_ALS()"
   ]
  },
  {
   "cell_type": "code",
   "execution_count": null,
   "metadata": {
    "scrolled": false
   },
   "outputs": [],
   "source": [
    "start = time.time()\n",
    "A, lmbds =  cp_als.compute_ALS(X_tensor, max_iter, r)\n",
    "end = time.time()\n",
    "print(\"Run time in seconds: \", end-start)"
   ]
  },
  {
   "cell_type": "code",
   "execution_count": null,
   "metadata": {},
   "outputs": [],
   "source": [
    "print(A[0].shape)\n",
    "print(A[1].shape)\n",
    "print(A[2].shape)\n",
    "print(A[3].shape)"
   ]
  },
  {
   "cell_type": "code",
   "execution_count": null,
   "metadata": {},
   "outputs": [],
   "source": [
    "recon_tensor = cp_als.reconstruct_Three_Way_Tensor(A[0], A[1], A[2])"
   ]
  },
  {
   "cell_type": "code",
   "execution_count": null,
   "metadata": {},
   "outputs": [],
   "source": [
    "print(recon_tensor)"
   ]
  },
  {
   "cell_type": "code",
   "execution_count": null,
   "metadata": {
    "scrolled": false
   },
   "outputs": [],
   "source": [
    "start = time.time()\n",
    "X = parafac(X_tensor, r, n_iter_max= max_iter, init=\"random\", verbose=True)[1]\n",
    "end = time.time()\n",
    "print(\"Run time: \", end-start)"
   ]
  },
  {
   "cell_type": "code",
   "execution_count": null,
   "metadata": {},
   "outputs": [],
   "source": [
    "recon_tensor_tl = cp_als.reconstruct_Three_Way_Tensor(X[0], X[1], X[2])"
   ]
  },
  {
   "cell_type": "code",
   "execution_count": null,
   "metadata": {},
   "outputs": [],
   "source": [
    "print(recon_tensor_tl)"
   ]
  },
  {
   "cell_type": "code",
   "execution_count": null,
   "metadata": {},
   "outputs": [],
   "source": [
    "print(X[0], X[1], X[2])"
   ]
  },
  {
   "cell_type": "code",
   "execution_count": null,
   "metadata": {},
   "outputs": [],
   "source": []
  },
  {
   "cell_type": "code",
   "execution_count": null,
   "metadata": {},
   "outputs": [],
   "source": []
  },
  {
   "cell_type": "code",
   "execution_count": null,
   "metadata": {},
   "outputs": [],
   "source": []
  },
  {
   "cell_type": "markdown",
   "metadata": {},
   "source": [
    "## Graphs for presentation"
   ]
  },
  {
   "cell_type": "code",
   "execution_count": 13,
   "metadata": {},
   "outputs": [],
   "source": [
    "#from CP_N_Way_Decomposition import CP_ALS\n",
    "from tensorly.decomposition import parafac\n",
    "import torch\n",
    "import tensorly as tl\n",
    "import numpy as np\n",
    "tl.set_backend('pytorch')"
   ]
  },
  {
   "cell_type": "code",
   "execution_count": 2,
   "metadata": {
    "scrolled": true
   },
   "outputs": [
    {
     "name": "stdout",
     "output_type": "stream",
     "text": [
      "tensor([[[ 0.3526, -1.2983,  1.3089],\n",
      "         [-0.1945,  0.3134,  0.6991],\n",
      "         [-0.3194, -0.6510, -0.7283]],\n",
      "\n",
      "        [[ 1.4117, -0.9053,  0.8402],\n",
      "         [ 0.8852, -0.4564, -0.3287],\n",
      "         [-0.6722, -0.5561,  1.2224]]])\n"
     ]
    }
   ],
   "source": [
    "ones = torch.randn((2, 3, 3))\n",
    "print(ones)"
   ]
  },
  {
   "cell_type": "code",
   "execution_count": 29,
   "metadata": {},
   "outputs": [],
   "source": [
    "class CP_ALS():\n",
    "    \"\"\"\n",
    "    This class computes the Candecomp PARAFAC decomposition using \n",
    "    N-way Alternating least squares algorithm along with khatri rao product\n",
    "    \"\"\"\n",
    "    def moveaxis(self, tensor, source, destination):\n",
    "        \"\"\"\n",
    "        This method is from the implementation given in pytorch https://github.com/pytorch/pytorch/issues/36048#issuecomment-652786245\n",
    "        Input : \n",
    "            tensor : Input tensor\n",
    "            source : First axis to move\n",
    "            destination : Second axis to replace the first one\n",
    "        Output :\n",
    "            Output tensor to where the axis is moved\n",
    "        \"\"\"\n",
    "        dim = tensor.dim()\n",
    "        perm = list(range(dim))\n",
    "        if destination < 0:\n",
    "            destination += dim\n",
    "        perm.pop(source)\n",
    "        perm.insert(destination, source)\n",
    "        return tensor.permute(*perm)\n",
    "    \n",
    "    def unfold_tensor(self, tensor, mode):\n",
    "        \"\"\" This method unfolds the given input tensor along with the specified mode.\n",
    "        Input :\n",
    "            tensor : Input tensor\n",
    "            mode : Specified mode of unfolding\n",
    "        Output :\n",
    "            matrix : Unfolded matrix of the tensor with specified mode\n",
    "        \"\"\"\n",
    "        t = self.moveaxis(tensor, mode, 0)\n",
    "        matrix = t.reshape(tensor.shape[mode], -1)\n",
    "        return matrix\n",
    "    \n",
    "    #def perform_Kronecker_Product(self, t1, t2):\n",
    "    #    t1_flatten = torch.flatten(t1)\n",
    "    #    op = torch.empty((0, ))\n",
    "    #    for element in t1_flatten:\n",
    "    #        output = element*t2\n",
    "    #        op = torch.cat((op, output))\n",
    "    #    return op\n",
    "    \n",
    "    #def perform_Khatri_Rao_Product(self, t1, t2):\n",
    "    #    # Check for criteria if the columns of both matrices are same\n",
    "    #    r1, c1 = t1.shape\n",
    "    #    r2, c2 = t2.shape\n",
    "    #    if c1 != c2:\n",
    "    #        print(\"Number of columns are different. Product can't be performed\")\n",
    "    #        return 0\n",
    "    #    opt = torch.empty((r1*r2, c1))\n",
    "    #    for col_no in range(0, t1.shape[-1]):\n",
    "    #        x = self.perform_Kronecker_Product(t1[:, col_no], t2[:, col_no])\n",
    "    #        opt[:, col_no] = x\n",
    "    #    return opt\n",
    "\n",
    "    def perform_Kronecker_Product(self, A, B):\n",
    "        \"\"\" \n",
    "        This method performs the kronecker product of the two matrices\n",
    "        The method is adaption of the method proposed in https://discuss.pytorch.org/t/kronecker-product/3919/10\n",
    "        Input : \n",
    "            A : Input matrix 1\n",
    "            B : Input matrix 2\n",
    "        Output : \n",
    "            Output is the resultant matrix after kronecker product\n",
    "        \"\"\"\n",
    "        return torch.einsum(\"ab,cd->acbd\", A, B).view(A.size(0)*B.size(0),  A.size(1)*B.size(1))\n",
    "    \n",
    "    def perform_Khatri_Rao_Product(self, A, B):\n",
    "        \"\"\"\n",
    "        This methods performs the Khatri Rao product as it is the column wise kronecker product\n",
    "        Input : \n",
    "            A : Input matrix 1\n",
    "            B : Input matrix 2\n",
    "        Output : \n",
    "            result : The resultant Khatri-Rao product matrix\n",
    "        \"\"\"\n",
    "        if A.shape[1] != B.shape[1]:\n",
    "            print(\"Inputs must have same number of columns\")\n",
    "            return 0\n",
    "        result = None\n",
    "        for col in range(A.shape[1]):\n",
    "            res = self.perform_Kronecker_Product(A[:, col].unsqueeze(0), B[:, col].unsqueeze(0))\n",
    "            if col == 0:\n",
    "                result = res\n",
    "            else:\n",
    "                result = torch.cat((result, res), dim = 0)\n",
    "        return result.T\n",
    "\n",
    "    def compute_MTTKRP(self, tensor_matrix, A, k_value):\n",
    "        \"\"\"\n",
    "        This method computes the Matricized Tensor Times Khatri-Rao product\n",
    "        between the unfolded tensor and the all other factors apart from kth factor.\n",
    "        Input : \n",
    "            tensor_matrix : Unfolded tensor as a matrix\n",
    "            A : Factor matrices\n",
    "            k_value : index of kth matrix to be excluded\n",
    "        Output : \n",
    "            B : Resultant MTTKRP matrix\n",
    "        \"\"\"\n",
    "        #A_matrix = copy.deepcopy(A)\n",
    "        #A_matrix.pop(k_value)\n",
    "        krp_matrix = A[0]\n",
    "        for index in range(1, len(A)):\n",
    "            krp_matrix = self.perform_Khatri_Rao_Product(krp_matrix, A[index])\n",
    "        B = torch.matmul(tensor_matrix, krp_matrix)\n",
    "        return B\n",
    "    \n",
    "    def compute_fit(self, X, M):\n",
    "        diff = X-M\n",
    "        fit = np.linalg.norm(diff)/np.linalg.norm(X)\n",
    "        return 1-fit\n",
    "    \n",
    "    def compute_V_Matrix(self, A, k_value):\n",
    "        \"\"\"\n",
    "        This method computes the V value as a hadamard product of \n",
    "        outer product of every factort matrix apart from kth factor matrix.\n",
    "        Input : \n",
    "            A : Factor matrices\n",
    "            k_value : index of kth matrix to be excluded\n",
    "        Output : \n",
    "            v : Resultant V matrix after the hadamard product\n",
    "        \"\"\"\n",
    "        #A_matrix = copy.deepcopy(A)\n",
    "        #A_matrix.pop(k_value)\n",
    "        v = torch.matmul(A[0].T, A[0])\n",
    "        for index in range(1, len(A)):\n",
    "            p = torch.matmul(A[index].T, A[index])\n",
    "            v = v*p\n",
    "        return v\n",
    "    \n",
    "    def create_A_Matrix(self, tensor_shape, rank):\n",
    "        \"\"\"\n",
    "        This method generates required number of factor matrices.\n",
    "        Input : \n",
    "            tensor_shape : shape of the input tensor\n",
    "            rank : Required rank of the factors\n",
    "        Output : \n",
    "            A : Resultant list of factor matrices\n",
    "        \"\"\"\n",
    "        A = []\n",
    "        for i in tensor_shape:\n",
    "            A.append(torch.randn((i, rank)))\n",
    "        return A\n",
    "    \n",
    "    def compute_ALS(self, input_tensor, max_iter, rank):\n",
    "        \"\"\"\n",
    "        This method is heart of this algorithm, this computes the factors and also lambdas of the algorithm.\n",
    "        Input : \n",
    "            input_tensor : Tensor containing input values\n",
    "            max_iter : maximum number of iterations\n",
    "            rank : prescribed rank of the resultant factors\n",
    "        Output : \n",
    "            A : factor matrices\n",
    "            lmbds : column norms of each factor matrices\n",
    "        \"\"\"\n",
    "        A = self.create_A_Matrix(input_tensor.shape, rank)\n",
    "        lmbds = []\n",
    "        fit_list = []\n",
    "        for l_iter in range(0, max_iter):\n",
    "            for k in range(0, len(A)):\n",
    "                X_unfolded = self.unfold_tensor(input_tensor, k)\n",
    "                A.pop(k)\n",
    "                Z = self.compute_MTTKRP(X_unfolded, A, k)\n",
    "                V = self.compute_V_Matrix(A, k)\n",
    "                A_k = torch.matmul(Z, torch.pinverse(V))\n",
    "                #l = torch.norm(A_k, dim=0)\n",
    "                #d_l = np.zeros((rank, rank))\n",
    "                #np.fill_diagonal(d_l, l)\n",
    "                #A_k = np.dot(A_k, np.linalg.pinv(d_l))\n",
    "                #if l_iter == 0:\n",
    "                #    lmbds.append(np.linalg.norm(l))\n",
    "                #else:\n",
    "                #    lmbds[k] = np.linalg.norm(l)\n",
    "                #A[k] = A_k\n",
    "                A.insert(k, A_k)\n",
    "            if l_iter%5 == 0:\n",
    "                M = self.reconstruct_Three_Way_Tensor(A[0], A[1], A[2])\n",
    "                fit_val = self.compute_fit(input_tensor, M)\n",
    "                fit_list.append([l_iter, fit_val])\n",
    "        return A, lmbds, fit_list\n",
    "    \n",
    "    def reconstruct_tensor(self, factors, norm, rank, ip_shape):\n",
    "        \"\"\"\n",
    "        This method reconstructs the tensor given factor matrices and norms\n",
    "        Input : \n",
    "            factors : factor matrices\n",
    "            norm : column norms of every factor matrices\n",
    "            rank : prescribed rank of the resultant factors\n",
    "            ip_shape : Input tensor shape \n",
    "        Output : \n",
    "            M : Reconstructed tensor\n",
    "        \"\"\"\n",
    "        M = 0       \n",
    "        for c in range(0, rank):\n",
    "            op = factors[0][:, c]\n",
    "            for i in range(1, len(factors)):\n",
    "                op = np.outer(op.T, factors[i][:, c])\n",
    "            M += op\n",
    "        M = np.reshape(M, ip_shape)\n",
    "        return M\n",
    "\n",
    "    def reconstruct_Three_Way_Tensor(self, a, b, c):\n",
    "        \"\"\"This method reconstructs the tensor from the rank one factor matrices\n",
    "        Inputs: \n",
    "            a : First factor in CP decomposition\n",
    "            b : Second factor in CP decomposition\n",
    "            c : Third factor in CP decomposition\n",
    "        Output:\n",
    "            x_t : Reconstructed output tensor\"\"\"\n",
    "\n",
    "        x_t = 0\n",
    "        #row, col = a.shape()\n",
    "        for index in range(a.shape[1]):\n",
    "            x_t += torch.ger(a[:,index], b[:,index]).unsqueeze(2)*c[:,index].unsqueeze(0).unsqueeze(0)\n",
    "        return x_t\n",
    "\n",
    "    # Reconstruct the tensor from the factors\n",
    "    def reconstruct_Four_Way_Tensor(self, a, b, c, d):\n",
    "        \"\"\"This method reconstructs the tensor from the rank one factor matrices\n",
    "        Inputs: \n",
    "            a : First factor in CP decomposition\n",
    "            b : Second factor in CP decomposition\n",
    "            c : Third factor in CP decomposition\n",
    "            d : Fourth factor in CP decomposition\n",
    "        Output:\n",
    "            x_t : Reconstructed output tensor\"\"\"\n",
    "\n",
    "        x_t = 0\n",
    "        #row, col = a.shape()\n",
    "        for index in range(a.shape[1]):\n",
    "            Y = (torch.ger(a[:, index], b[:, index]).unsqueeze(2)*c[:, index]).unsqueeze(3)*d[:,index].unsqueeze(0).unsqueeze(0)\n",
    "            x_t += Y\n",
    "            #x_t += torch.ger(a[:,index], b[:,index]).unsqueeze(2)*c[:,index].unsqueeze(0).unsqueeze(0)\n",
    "        return x_t"
   ]
  },
  {
   "cell_type": "code",
   "execution_count": 30,
   "metadata": {},
   "outputs": [],
   "source": [
    "# parameters\n",
    "r = 3\n",
    "max_iter = 101\n",
    "als = CP_ALS()"
   ]
  },
  {
   "cell_type": "code",
   "execution_count": 31,
   "metadata": {},
   "outputs": [],
   "source": [
    "A, lmbds, f_list = als.compute_ALS(ones, max_iter, r)"
   ]
  },
  {
   "cell_type": "code",
   "execution_count": 25,
   "metadata": {},
   "outputs": [
    {
     "name": "stdout",
     "output_type": "stream",
     "text": [
      "[tensor([[-0.2799, -0.2374, -0.0253],\n",
      "        [ 0.1747,  0.3055,  0.5232]]), tensor([[ 0.2069, -1.2997, -1.8803],\n",
      "        [ 1.9892, -2.4892, -1.5717],\n",
      "        [-2.8279,  3.4064,  1.4838]]), tensor([[ 1.3101,  1.5179, -1.9958],\n",
      "        [-6.8521, -6.0765,  3.1541],\n",
      "        [ 4.4973,  5.5009, -2.8789]])]\n"
     ]
    }
   ],
   "source": [
    "print(A)"
   ]
  },
  {
   "cell_type": "code",
   "execution_count": 7,
   "metadata": {},
   "outputs": [],
   "source": [
    "m_recons = als.reconstruct_Three_Way_Tensor(A[0], A[1], A[2])"
   ]
  },
  {
   "cell_type": "code",
   "execution_count": 9,
   "metadata": {},
   "outputs": [
    {
     "name": "stdout",
     "output_type": "stream",
     "text": [
      "tensor([[[ 0.3232, -1.3108,  1.2993],\n",
      "         [ 0.1080,  0.3531,  0.6832],\n",
      "         [-0.0796, -0.6240, -0.7456]],\n",
      "\n",
      "        [[ 1.4219, -0.9092,  0.8343],\n",
      "         [ 0.8597, -0.4357, -0.2997],\n",
      "         [-0.6770, -0.5409,  1.2417]]])\n",
      "\n",
      "tensor([[[ 0.3526, -1.2983,  1.3089],\n",
      "         [-0.1945,  0.3134,  0.6991],\n",
      "         [-0.3194, -0.6510, -0.7283]],\n",
      "\n",
      "        [[ 1.4117, -0.9053,  0.8402],\n",
      "         [ 0.8852, -0.4564, -0.3287],\n",
      "         [-0.6722, -0.5561,  1.2224]]])\n"
     ]
    }
   ],
   "source": [
    "print(m_recons)\n",
    "print()\n",
    "print(ones)"
   ]
  },
  {
   "cell_type": "code",
   "execution_count": 10,
   "metadata": {},
   "outputs": [],
   "source": [
    "A_tl = parafac(ones, rank=r, n_iter_max=max_iter, init=\"random\")[1]"
   ]
  },
  {
   "cell_type": "code",
   "execution_count": 11,
   "metadata": {},
   "outputs": [
    {
     "name": "stdout",
     "output_type": "stream",
     "text": [
      "[tensor([[-0.4915, -0.0575,  1.0312],\n",
      "        [ 2.8940, -2.3096, -1.1267]]), tensor([[ 0.9337,  1.0079,  0.7103],\n",
      "        [ 0.8332,  0.7190,  1.8562],\n",
      "        [-0.9946, -0.7457, -2.3486]]), tensor([[-0.7546, -1.4381, -0.1413],\n",
      "        [ 4.1223,  4.7726,  1.1726],\n",
      "        [-2.9245, -3.6328, -0.3466]])]\n"
     ]
    }
   ],
   "source": [
    "print(A_tl)"
   ]
  },
  {
   "cell_type": "code",
   "execution_count": 12,
   "metadata": {},
   "outputs": [
    {
     "name": "stdout",
     "output_type": "stream",
     "text": [
      "tensor([[[ 0.3261, -1.3097,  1.2988],\n",
      "         [ 0.0980,  0.3587,  0.6845],\n",
      "         [-0.0883, -0.6198, -0.7461]],\n",
      "\n",
      "        [[ 1.4218, -0.9095,  0.8320],\n",
      "         [ 0.8639, -0.4368, -0.2948],\n",
      "         [-0.6787, -0.5429,  1.2438]]])\n",
      "\n",
      "tensor([[[ 0.3526, -1.2983,  1.3089],\n",
      "         [-0.1945,  0.3134,  0.6991],\n",
      "         [-0.3194, -0.6510, -0.7283]],\n",
      "\n",
      "        [[ 1.4117, -0.9053,  0.8402],\n",
      "         [ 0.8852, -0.4564, -0.3287],\n",
      "         [-0.6722, -0.5561,  1.2224]]])\n"
     ]
    }
   ],
   "source": [
    "m_recons_tl = als.reconstruct_Three_Way_Tensor(A_tl[0], A_tl[1], A_tl[2])\n",
    "print(m_recons_tl)\n",
    "print()\n",
    "print(ones)"
   ]
  },
  {
   "cell_type": "code",
   "execution_count": 66,
   "metadata": {},
   "outputs": [],
   "source": [
    "ones = torch.randn((3, 64, 192))\n",
    "r = 3\n",
    "max_iter = 200"
   ]
  },
  {
   "cell_type": "code",
   "execution_count": 67,
   "metadata": {},
   "outputs": [],
   "source": [
    "f_l = []\n",
    "for index in range(5):\n",
    "    _, _, f = als.compute_ALS(ones, max_iter, r)\n",
    "    f_l.append(f)"
   ]
  },
  {
   "cell_type": "code",
   "execution_count": 68,
   "metadata": {},
   "outputs": [
    {
     "name": "stdout",
     "output_type": "stream",
     "text": [
      "[[[0, 0.01010984182357788], [5, 0.017722129821777344], [10, 0.018670082092285156], [15, 0.01888442039489746], [20, 0.018950283527374268], [25, 0.018977105617523193], [30, 0.01899433135986328], [35, 0.019011974334716797], [40, 0.019034624099731445], [45, 0.01906365156173706], [50, 0.019096314907073975], [55, 0.01912713050842285], [60, 0.019152164459228516], [65, 0.01917099952697754], [70, 0.019184887409210205], [75, 0.019196033477783203], [80, 0.019205689430236816], [85, 0.019214749336242676], [90, 0.01922374963760376], [95, 0.019232869148254395], [100, 0.019242465496063232], [105, 0.01925206184387207], [110, 0.01926189661026001], [115, 0.019271254539489746], [120, 0.019280195236206055], [125, 0.019288301467895508], [130, 0.01929551362991333], [135, 0.01930183172225952], [140, 0.01930713653564453], [145, 0.019311845302581787], [150, 0.019315898418426514], [155, 0.01931941509246826], [160, 0.019322514533996582], [165, 0.019325315952301025], [170, 0.019327640533447266], [175, 0.019329845905303955], [180, 0.019331753253936768], [185, 0.01933342218399048], [190, 0.019334912300109863], [195, 0.019336283206939697]], [[0, 0.009449183940887451], [5, 0.016906440258026123], [10, 0.01837337017059326], [15, 0.018674373626708984], [20, 0.018772363662719727], [25, 0.0188179612159729], [30, 0.01884835958480835], [35, 0.01887589693069458], [40, 0.018906772136688232], [45, 0.018947720527648926], [50, 0.019007086753845215], [55, 0.019088685512542725], [60, 0.019175827503204346], [65, 0.019240379333496094], [70, 0.019276678562164307], [75, 0.01929527521133423], [80, 0.01930522918701172], [85, 0.019311070442199707], [90, 0.019315123558044434], [95, 0.019318461418151855], [100, 0.0193215012550354], [105, 0.01932460069656372], [110, 0.019328176975250244], [115, 0.01933223009109497], [120, 0.019336819648742676], [125, 0.01934218406677246], [130, 0.01934814453125], [135, 0.01935446262359619], [140, 0.019360721111297607], [145, 0.01936662197113037], [150, 0.019371867179870605], [155, 0.019376397132873535], [160, 0.01937997341156006], [165, 0.019383013248443604], [170, 0.01938563585281372], [175, 0.019387781620025635], [180, 0.019389808177947998], [185, 0.01939159631729126], [190, 0.01939338445663452], [195, 0.019395053386688232]], [[0, 0.010630607604980469], [5, 0.017716526985168457], [10, 0.01854860782623291], [15, 0.018935441970825195], [20, 0.0192449688911438], [25, 0.019450664520263672], [30, 0.019541382789611816], [35, 0.019578158855438232], [40, 0.019595026969909668], [45, 0.019603729248046875], [50, 0.019608795642852783], [55, 0.019612014293670654], [60, 0.019614219665527344], [65, 0.019615888595581055], [70, 0.019617080688476562], [75, 0.01961815357208252], [80, 0.0196189284324646], [85, 0.01961958408355713], [90, 0.019620180130004883], [95, 0.019620656967163086], [100, 0.019621074199676514], [105, 0.01962137222290039], [110, 0.019621729850769043], [115, 0.01962202787399292], [120, 0.01962226629257202], [125, 0.019622504711151123], [130, 0.019622743129730225], [135, 0.01962292194366455], [140, 0.0196230411529541], [145, 0.019623160362243652], [150, 0.019623219966888428], [155, 0.019623398780822754], [160, 0.01962345838546753], [165, 0.019623637199401855], [170, 0.01962369680404663], [175, 0.019623756408691406], [180, 0.019623875617980957], [185, 0.019623935222625732], [190, 0.019623994827270508], [195, 0.019623994827270508]], [[0, 0.011136889457702637], [5, 0.016746997833251953], [10, 0.017963945865631104], [15, 0.018677890300750732], [20, 0.01898103952407837], [25, 0.019123435020446777], [30, 0.01917964220046997], [35, 0.019199788570404053], [40, 0.019208252429962158], [45, 0.019213080406188965], [50, 0.019216835498809814], [55, 0.01922023296356201], [60, 0.01922374963760376], [65, 0.01922750473022461], [70, 0.019231677055358887], [75, 0.019236624240875244], [80, 0.019242465496063232], [85, 0.019249558448791504], [90, 0.01925826072692871], [95, 0.01926952600479126], [100, 0.019283771514892578], [105, 0.019301652908325195], [110, 0.019323229789733887], [115, 0.01934748888015747], [120, 0.019372522830963135], [125, 0.019395530223846436], [130, 0.01941460371017456], [135, 0.019428789615631104], [140, 0.019438743591308594], [145, 0.019445359706878662], [150, 0.01944965124130249], [155, 0.01945251226425171], [160, 0.01945430040359497], [165, 0.019455671310424805], [170, 0.019456565380096436], [175, 0.01945728063583374], [180, 0.01945781707763672], [185, 0.01945817470550537], [190, 0.019458532333374023], [195, 0.019458770751953125]], [[0, 0.010338008403778076], [5, 0.017632603645324707], [10, 0.018704235553741455], [15, 0.018900930881500244], [20, 0.018962979316711426], [25, 0.019004404544830322], [30, 0.019038856029510498], [35, 0.019064724445343018], [40, 0.019082367420196533], [45, 0.01909482479095459], [50, 0.019103825092315674], [55, 0.01911085844039917], [60, 0.019116699695587158], [65, 0.019121646881103516], [70, 0.01912599802017212], [75, 0.019129693508148193], [80, 0.019132912158966064], [85, 0.019135713577270508], [90, 0.0191381573677063], [95, 0.019140422344207764], [100, 0.019142329692840576], [105, 0.019144058227539062], [110, 0.019145667552947998], [115, 0.019147098064422607], [120, 0.019148528575897217], [125, 0.019149720668792725], [130, 0.019150912761688232], [135, 0.01915210485458374], [140, 0.019153296947479248], [145, 0.01915431022644043], [150, 0.019155442714691162], [155, 0.01915663480758667], [160, 0.019157826900482178], [165, 0.019159138202667236], [170, 0.019160449504852295], [175, 0.01916182041168213], [180, 0.019163310527801514], [185, 0.019164979457855225], [190, 0.019167006015777588], [195, 0.019169092178344727]]]\n"
     ]
    }
   ],
   "source": [
    "print(f_l)"
   ]
  },
  {
   "cell_type": "code",
   "execution_count": 69,
   "metadata": {},
   "outputs": [
    {
     "data": {
      "image/png": "[encoded data removed]",
      "text/plain": [
       "<Figure size 720x720 with 1 Axes>"
      ]
     },
     "metadata": {
      "needs_background": "light"
     },
     "output_type": "display_data"
    }
   ],
   "source": [
    "import matplotlib.pyplot as plt\n",
    "plt.figure(figsize=(10, 10))\n",
    "colors = ['r', 'b', 'g', 'k', 'm']\n",
    "for index, f_list in enumerate(f_l):\n",
    "    x = []\n",
    "    y = []\n",
    "    clr = colors[index]\n",
    "    for i in f_list:\n",
    "        plt.scatter(i[0], 1-i[1], c=clr)\n",
    "        x.append(i[0])\n",
    "        y.append(1-i[1])\n",
    "    plt.plot(x, y, c=clr)\n",
    "plt.show()"
   ]
  },
  {
   "cell_type": "code",
   "execution_count": null,
   "metadata": {},
   "outputs": [],
   "source": []
  }
 ],
 "metadata": {
  "kernelspec": {
   "display_name": "Python 3",
   "language": "python",
   "name": "python3"
  },
  "language_info": {
   "codemirror_mode": {
    "name": "ipython",
    "version": 3
   },
   "file_extension": ".py",
   "mimetype": "text/x-python",
   "name": "python",
   "nbconvert_exporter": "python",
   "pygments_lexer": "ipython3",
   "version": "3.8.3"
  }
 },
 "nbformat": 4,
 "nbformat_minor": 4
}
