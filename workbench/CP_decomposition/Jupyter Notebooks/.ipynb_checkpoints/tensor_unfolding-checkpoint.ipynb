{
 "cells": [
  {
   "cell_type": "code",
   "execution_count": 1,
   "metadata": {},
   "outputs": [],
   "source": [
    "import torch\n",
    "import numpy as np\n",
    "import pytest"
   ]
  },
  {
   "cell_type": "code",
   "execution_count": 25,
   "metadata": {},
   "outputs": [
    {
     "name": "stdout",
     "output_type": "stream",
     "text": [
      "(2, 3, 3)\n"
     ]
    }
   ],
   "source": [
    "tensor = np.array([[[0.3, 0.9, 0.1],\n",
    "                    [0.8, 0.2, 0.1],\n",
    "                    [0.4, 0.3, 0.9]],\n",
    "                   [[0.6, 0.9, 0.5],\n",
    "                    [0.5, 0.6, 0.4],\n",
    "                    [0.1, 0.4, 0.1]]])\n",
    "tensor = np.random.random((2, 3, 3))\n",
    "torch_tensor = torch.from_numpy(tensor)\n",
    "#print(tensor)\n",
    "print(tensor.shape)"
   ]
  },
  {
   "cell_type": "markdown",
   "metadata": {},
   "source": [
    "### Note:\n",
    "The numpy implementation (unfold method) is simple re-implementation of the tensorly unfold method.<br>\n",
    "The pytorch implementation is converted version of that unfold method."
   ]
  },
  {
   "cell_type": "code",
   "execution_count": 26,
   "metadata": {},
   "outputs": [],
   "source": [
    "def unfold(tensor, mode):\n",
    "    x = np.moveaxis(tensor, mode, 0)\n",
    "    print(x)\n",
    "    return np.reshape(np.moveaxis(tensor, mode, 0), (tensor.shape[mode], -1))"
   ]
  },
  {
   "cell_type": "code",
   "execution_count": 27,
   "metadata": {},
   "outputs": [],
   "source": [
    "def pytorch_unfold(tensor, mode):\n",
    "    #print(tensor.transpose(mode, 0).shape)\n",
    "    #t = tensor.transpose(mode, 0)\n",
    "    x = tensor[:, 0]\n",
    "    tensor[:, 0] = tensor[:, mode]\n",
    "    tensor[:, mode] = x\n",
    "    #print(t)\n",
    "    return tensor.reshape(tensor.shape[mode], -1)"
   ]
  },
  {
   "cell_type": "code",
   "execution_count": 32,
   "metadata": {},
   "outputs": [
    {
     "name": "stdout",
     "output_type": "stream",
     "text": [
      "[[[0.4143337  0.71811679 0.90265237]\n",
      "  [0.91514342 0.25802847 0.60676105]]\n",
      "\n",
      " [[0.46207118 0.67281967 0.92793877]\n",
      "  [0.98984126 0.1637119  0.74964393]]\n",
      "\n",
      " [[0.43998097 0.19866672 0.2511859 ]\n",
      "  [0.91411355 0.13963752 0.21682897]]]\n"
     ]
    }
   ],
   "source": [
    "mode = 2\n",
    "u1 = unfold(tensor, mode)\n",
    "#print(u)"
   ]
  },
  {
   "cell_type": "code",
   "execution_count": 33,
   "metadata": {},
   "outputs": [
    {
     "name": "stdout",
     "output_type": "stream",
     "text": [
      "tensor([[[0.4143, 0.9151],\n",
      "         [0.7181, 0.2580],\n",
      "         [0.9027, 0.6068]],\n",
      "\n",
      "        [[0.4621, 0.9898],\n",
      "         [0.6728, 0.1637],\n",
      "         [0.9279, 0.7496]],\n",
      "\n",
      "        [[0.4400, 0.9141],\n",
      "         [0.1987, 0.1396],\n",
      "         [0.2512, 0.2168]]], dtype=torch.float64)\n"
     ]
    }
   ],
   "source": [
    "u2 =  pytorch_unfold(torch_tensor, mode).detach().cpu().numpy()"
   ]
  },
  {
   "cell_type": "code",
   "execution_count": 7,
   "metadata": {},
   "outputs": [
    {
     "name": "stdout",
     "output_type": "stream",
     "text": [
      "(3, 24)\n",
      "(3, 24)\n"
     ]
    }
   ],
   "source": [
    "print(u1.shape)\n",
    "print(u2.shape)"
   ]
  },
  {
   "cell_type": "code",
   "execution_count": 8,
   "metadata": {},
   "outputs": [],
   "source": [
    "assert u1.all()==u2.all()"
   ]
  },
  {
   "cell_type": "markdown",
   "metadata": {},
   "source": [
    "## Tensorly backend check"
   ]
  },
  {
   "cell_type": "code",
   "execution_count": 9,
   "metadata": {},
   "outputs": [],
   "source": [
    "import tensorly as tl\n",
    "from tensorly.decomposition import parafac"
   ]
  },
  {
   "cell_type": "code",
   "execution_count": 10,
   "metadata": {},
   "outputs": [
    {
     "name": "stdout",
     "output_type": "stream",
     "text": [
      "<class 'numpy.ndarray'> <class 'numpy.ndarray'> <class 'numpy.ndarray'>\n"
     ]
    }
   ],
   "source": [
    "x = parafac(tensor, 3)\n",
    "a, b, c = x[1][0], x[1][1], x[1][2]\n",
    "print(type(a), type(b), type(c))"
   ]
  },
  {
   "cell_type": "code",
   "execution_count": 11,
   "metadata": {},
   "outputs": [],
   "source": [
    "tl.set_backend(\"pytorch\")"
   ]
  },
  {
   "cell_type": "code",
   "execution_count": 12,
   "metadata": {},
   "outputs": [],
   "source": [
    "a = tl.unfold(torch_tensor, 0)"
   ]
  },
  {
   "cell_type": "code",
   "execution_count": 13,
   "metadata": {},
   "outputs": [
    {
     "name": "stdout",
     "output_type": "stream",
     "text": [
      "<class 'torch.Tensor'>\n"
     ]
    }
   ],
   "source": [
    "print(type(a))"
   ]
  },
  {
   "cell_type": "code",
   "execution_count": 14,
   "metadata": {},
   "outputs": [],
   "source": [
    "x = parafac(torch_tensor, 3)"
   ]
  },
  {
   "cell_type": "code",
   "execution_count": 15,
   "metadata": {},
   "outputs": [],
   "source": [
    "a, b, c = x[1][0], x[1][1], x[1][2]"
   ]
  },
  {
   "cell_type": "code",
   "execution_count": 16,
   "metadata": {},
   "outputs": [
    {
     "name": "stdout",
     "output_type": "stream",
     "text": [
      "<class 'torch.Tensor'> <class 'torch.Tensor'> <class 'torch.Tensor'>\n"
     ]
    }
   ],
   "source": [
    "print(type(a), type(b), type(c))"
   ]
  }
 ],
 "metadata": {
  "kernelspec": {
   "display_name": "Python 3",
   "language": "python",
   "name": "python3"
  },
  "language_info": {
   "codemirror_mode": {
    "name": "ipython",
    "version": 3
   },
   "file_extension": ".py",
   "mimetype": "text/x-python",
   "name": "python",
   "nbconvert_exporter": "python",
   "pygments_lexer": "ipython3",
   "version": "3.8.3"
  }
 },
 "nbformat": 4,
 "nbformat_minor": 4
}
