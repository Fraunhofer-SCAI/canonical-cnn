{
 "cells": [
  {
   "cell_type": "code",
   "execution_count": 1,
   "metadata": {},
   "outputs": [],
   "source": [
    "import torch\n",
    "import numpy as np\n",
    "import pytest"
   ]
  },
  {
   "cell_type": "code",
   "execution_count": 2,
   "metadata": {},
   "outputs": [
    {
     "name": "stdout",
     "output_type": "stream",
     "text": [
      "(2, 3, 3)\n"
     ]
    }
   ],
   "source": [
    "tensor = np.array([[[0.3, 0.9, 0.1],\n",
    "                    [0.8, 0.2, 0.1],\n",
    "                    [0.4, 0.3, 0.9]],\n",
    "                   [[0.6, 0.9, 0.5],\n",
    "                    [0.5, 0.6, 0.4],\n",
    "                    [0.1, 0.4, 0.1]]])\n",
    "tensor = np.random.random((2, 3, 3))\n",
    "torch_tensor = torch.from_numpy(tensor)\n",
    "#print(tensor)\n",
    "print(tensor.shape)"
   ]
  },
  {
   "cell_type": "markdown",
   "metadata": {},
   "source": [
    "### Note:\n",
    "The numpy implementation (unfold method) is simple re-implementation of the tensorly unfold method.<br>\n",
    "The pytorch implementation is converted version of that unfold method."
   ]
  },
  {
   "cell_type": "code",
   "execution_count": 3,
   "metadata": {},
   "outputs": [],
   "source": [
    "def unfold(tensor, mode):\n",
    "    x = np.moveaxis(tensor, mode, 0)\n",
    "    print(x)\n",
    "    return np.reshape(np.moveaxis(tensor, mode, 0), (tensor.shape[mode], -1))"
   ]
  },
  {
   "cell_type": "code",
   "execution_count": 36,
   "metadata": {},
   "outputs": [],
   "source": [
    "def moveaxis(tensor: torch.Tensor, source: int, destination: int) -> torch.Tensor:\n",
    "    dim = tensor.dim()\n",
    "    perm = list(range(dim))\n",
    "    if destination < 0:\n",
    "        destination += dim\n",
    "    perm.pop(source)\n",
    "    perm.insert(destination, source)\n",
    "    return tensor.permute(*perm)"
   ]
  },
  {
   "cell_type": "code",
   "execution_count": 37,
   "metadata": {},
   "outputs": [],
   "source": [
    "def pytorch_unfold(tensor, mode):\n",
    "    #print(tensor.transpose(mode, 0).shape)\n",
    "    #t = tensor.transpose(mode, 0)\n",
    "    #x = tensor[:, 0]\n",
    "    #tensor[:, 0] = tensor[:, mode]\n",
    "    #tensor[:, mode] = x\n",
    "    #print(tensor)\n",
    "    #t = tensor.unsqueeze(0).transpose(0, mode)\n",
    "    t = moveaxis(tensor, mode, 0)\n",
    "    print(t)\n",
    "    return t.reshape(t.shape[mode], -1).T"
   ]
  },
  {
   "cell_type": "code",
   "execution_count": 40,
   "metadata": {},
   "outputs": [
    {
     "name": "stdout",
     "output_type": "stream",
     "text": [
      "[[[0.09137356 0.09137356 0.0823618 ]\n",
      "  [0.26015999 0.26015999 0.15970755]]\n",
      "\n",
      " [[0.89994109 0.89994109 0.74503774]\n",
      "  [0.86448336 0.86448336 0.81860706]]\n",
      "\n",
      " [[0.23391911 0.23391911 0.16136592]\n",
      "  [0.64704274 0.64704274 0.72591513]]]\n"
     ]
    }
   ],
   "source": [
    "mode = 2\n",
    "u1 = unfold(tensor, mode)\n",
    "#print(u)"
   ]
  },
  {
   "cell_type": "code",
   "execution_count": 41,
   "metadata": {},
   "outputs": [
    {
     "name": "stdout",
     "output_type": "stream",
     "text": [
      "tensor([[[0.0914, 0.0914, 0.0824],\n",
      "         [0.2602, 0.2602, 0.1597]],\n",
      "\n",
      "        [[0.8999, 0.8999, 0.7450],\n",
      "         [0.8645, 0.8645, 0.8186]],\n",
      "\n",
      "        [[0.2339, 0.2339, 0.1614],\n",
      "         [0.6470, 0.6470, 0.7259]]], dtype=torch.float64)\n"
     ]
    }
   ],
   "source": [
    "u2 =  pytorch_unfold(torch_tensor, mode).detach().cpu().numpy()"
   ]
  },
  {
   "cell_type": "code",
   "execution_count": null,
   "metadata": {},
   "outputs": [],
   "source": [
    "print(u1.shape)\n",
    "print(u2.shape)"
   ]
  },
  {
   "cell_type": "code",
   "execution_count": null,
   "metadata": {},
   "outputs": [],
   "source": [
    "assert u1.all()==u2.all()"
   ]
  },
  {
   "cell_type": "markdown",
   "metadata": {},
   "source": [
    "## Tensorly backend check"
   ]
  },
  {
   "cell_type": "code",
   "execution_count": null,
   "metadata": {},
   "outputs": [],
   "source": [
    "import tensorly as tl\n",
    "from tensorly.decomposition import parafac"
   ]
  },
  {
   "cell_type": "code",
   "execution_count": null,
   "metadata": {},
   "outputs": [],
   "source": [
    "x = parafac(tensor, 3)\n",
    "a, b, c = x[1][0], x[1][1], x[1][2]\n",
    "print(type(a), type(b), type(c))"
   ]
  },
  {
   "cell_type": "code",
   "execution_count": null,
   "metadata": {},
   "outputs": [],
   "source": [
    "tl.set_backend(\"pytorch\")"
   ]
  },
  {
   "cell_type": "code",
   "execution_count": null,
   "metadata": {},
   "outputs": [],
   "source": [
    "a = tl.unfold(torch_tensor, 0)"
   ]
  },
  {
   "cell_type": "code",
   "execution_count": null,
   "metadata": {},
   "outputs": [],
   "source": [
    "print(type(a))"
   ]
  },
  {
   "cell_type": "code",
   "execution_count": null,
   "metadata": {},
   "outputs": [],
   "source": [
    "x = parafac(torch_tensor, 3)"
   ]
  },
  {
   "cell_type": "code",
   "execution_count": null,
   "metadata": {},
   "outputs": [],
   "source": [
    "a, b, c = x[1][0], x[1][1], x[1][2]"
   ]
  },
  {
   "cell_type": "code",
   "execution_count": null,
   "metadata": {},
   "outputs": [],
   "source": [
    "print(type(a), type(b), type(c))"
   ]
  }
 ],
 "metadata": {
  "kernelspec": {
   "display_name": "Python 3",
   "language": "python",
   "name": "python3"
  },
  "language_info": {
   "codemirror_mode": {
    "name": "ipython",
    "version": 3
   },
   "file_extension": ".py",
   "mimetype": "text/x-python",
   "name": "python",
   "nbconvert_exporter": "python",
   "pygments_lexer": "ipython3",
   "version": "3.8.3"
  }
 },
 "nbformat": 4,
 "nbformat_minor": 4
}
