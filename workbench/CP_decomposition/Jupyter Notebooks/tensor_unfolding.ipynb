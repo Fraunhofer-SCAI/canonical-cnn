{
 "cells": [
  {
   "cell_type": "code",
   "execution_count": 51,
   "metadata": {},
   "outputs": [],
   "source": [
    "import torch\n",
    "import numpy as np\n",
    "import pytest"
   ]
  },
  {
   "cell_type": "code",
   "execution_count": 52,
   "metadata": {},
   "outputs": [
    {
     "name": "stdout",
     "output_type": "stream",
     "text": [
      "(3, 4, 3, 2)\n"
     ]
    }
   ],
   "source": [
    "tensor = np.array([[[0.3, 0.9, 0.1],\n",
    "                    [0.8, 0.2, 0.1],\n",
    "                    [0.4, 0.3, 0.9]],\n",
    "                   [[0.6, 0.9, 0.5],\n",
    "                    [0.5, 0.6, 0.4],\n",
    "                    [0.1, 0.4, 0.1]]])\n",
    "tensor = np.random.random((3, 4, 3, 2))\n",
    "torch_tensor = torch.from_numpy(tensor)\n",
    "#print(tensor)\n",
    "print(tensor.shape)"
   ]
  },
  {
   "cell_type": "markdown",
   "metadata": {},
   "source": [
    "### Note:\n",
    "The numpy implementation (unfold method) is simple re-implementation of the tensorly unfold method.<br>\n",
    "The pytorch implementation is converted version of that unfold method."
   ]
  },
  {
   "cell_type": "code",
   "execution_count": 53,
   "metadata": {},
   "outputs": [],
   "source": [
    "def unfold(tensor, mode):\n",
    "    #print(np.moveaxis(tensor, mode, 0).shape)\n",
    "    return np.reshape(np.moveaxis(tensor, mode, 0), (tensor.shape[mode], -1))"
   ]
  },
  {
   "cell_type": "code",
   "execution_count": 54,
   "metadata": {},
   "outputs": [],
   "source": [
    "def pytorch_unfold(tensor, mode):\n",
    "    #print(tensor.transpose(mode, 0).shape)\n",
    "    t = tensor.transpose(mode, 0)\n",
    "    return t.reshape(tensor.shape[mode], -1)"
   ]
  },
  {
   "cell_type": "code",
   "execution_count": 55,
   "metadata": {},
   "outputs": [],
   "source": [
    "mode = 2\n",
    "u1 = unfold(tensor, mode)\n",
    "#print(u)"
   ]
  },
  {
   "cell_type": "code",
   "execution_count": 56,
   "metadata": {},
   "outputs": [],
   "source": [
    "u2 =  pytorch_unfold(torch_tensor, mode).detach().cpu().numpy()"
   ]
  },
  {
   "cell_type": "code",
   "execution_count": 57,
   "metadata": {},
   "outputs": [
    {
     "name": "stdout",
     "output_type": "stream",
     "text": [
      "(3, 24)\n",
      "(3, 24)\n"
     ]
    }
   ],
   "source": [
    "print(u1.shape)\n",
    "print(u2.shape)"
   ]
  },
  {
   "cell_type": "code",
   "execution_count": 59,
   "metadata": {},
   "outputs": [],
   "source": [
    "assert u1.all()==u2.all()"
   ]
  },
  {
   "cell_type": "code",
   "execution_count": null,
   "metadata": {},
   "outputs": [],
   "source": []
  }
 ],
 "metadata": {
  "kernelspec": {
   "display_name": "Python 3",
   "language": "python",
   "name": "python3"
  },
  "language_info": {
   "codemirror_mode": {
    "name": "ipython",
    "version": 3
   },
   "file_extension": ".py",
   "mimetype": "text/x-python",
   "name": "python",
   "nbconvert_exporter": "python",
   "pygments_lexer": "ipython3",
   "version": "3.8.3"
  }
 },
 "nbformat": 4,
 "nbformat_minor": 4
}
