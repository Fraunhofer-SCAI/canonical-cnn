{
 "cells": [
  {
   "cell_type": "code",
   "execution_count": 1,
   "metadata": {},
   "outputs": [],
   "source": [
    "from tensorly.decomposition import parafac\n",
    "import torch\n",
    "import copy\n",
    "import numpy as np\n",
    "from scipy.linalg import khatri_rao\n",
    "import tensorly as tl\n",
    "import matplotlib.pyplot as plt"
   ]
  },
  {
   "cell_type": "code",
   "execution_count": 2,
   "metadata": {},
   "outputs": [
    {
     "name": "stdout",
     "output_type": "stream",
     "text": [
      "[[[4.17022005e-01 7.20324493e-01 1.14374817e-04]\n",
      "  [3.02332573e-01 1.46755891e-01 9.23385948e-02]\n",
      "  [1.86260211e-01 3.45560727e-01 3.96767474e-01]]\n",
      "\n",
      " [[5.38816734e-01 4.19194514e-01 6.85219500e-01]\n",
      "  [2.04452250e-01 8.78117436e-01 2.73875932e-02]\n",
      "  [6.70467510e-01 4.17304802e-01 5.58689828e-01]]]\n"
     ]
    }
   ],
   "source": [
    "np.random.seed(1)\n",
    "ip_shape = (2, 3, 3)\n",
    "X_tensor = np.random.random(ip_shape)\n",
    "max_iter = 10000\n",
    "r = 3\n",
    "print(X_tensor)"
   ]
  },
  {
   "cell_type": "code",
   "execution_count": 3,
   "metadata": {},
   "outputs": [],
   "source": [
    "def load_Image(image_path):\n",
    "    '''\n",
    "    This function reads the image and converts it into a tensor\n",
    "    Input:\n",
    "    image_path : Path of the image\n",
    "    Output:\n",
    "    image_torch_tensor : A tensor containing the input image\n",
    "    '''\n",
    "    print(\"Loading the image...\")\n",
    "    image = plt.imread(image_path)\n",
    "    plt.imshow(image)\n",
    "    plt.show()\n",
    "    np_image = np.asarray(image)\n",
    "    np_image = np_image.astype(np.float32)\n",
    "    image_torch_tensor = torch.from_numpy(np_image)\n",
    "    return image_torch_tensor"
   ]
  },
  {
   "cell_type": "code",
   "execution_count": 4,
   "metadata": {},
   "outputs": [],
   "source": [
    "#path = \"/home/lveeramacheneni/network-compression/CP_decomposition_image_application/scai_image.jpg\"\n",
    "#image_torch_tensor = load_Image(path).detach().numpy()\n",
    "#ip_shape = image_torch_tensor.shape\n",
    "#print(ip_shape)\n",
    "#X_tensor = image_torch_tensor"
   ]
  },
  {
   "cell_type": "markdown",
   "metadata": {},
   "source": [
    "## CP_ALS algorithm"
   ]
  },
  {
   "cell_type": "code",
   "execution_count": 5,
   "metadata": {},
   "outputs": [],
   "source": [
    "class cp_als():\n",
    "    \"\"\"\n",
    "    This class computes the Candecomp PARAFAC decomposition using \n",
    "    N-way Alternating least squares algorithm\n",
    "    \"\"\"\n",
    "    def perform_Kronecker_Product(self, t1, t2):\n",
    "        t1_flatten = torch.flatten(t1)\n",
    "        op = torch.empty((0, ))\n",
    "        for element in t1_flatten:\n",
    "            output = element*t2\n",
    "            op = torch.cat((op, output))\n",
    "        return op\n",
    "    \n",
    "    def perform_Khatri_Rao_Product(self, t1, t2):\n",
    "        # Check for criteria if the columns of both matrices are same\n",
    "        t1 = torch.Tensor(t1)\n",
    "        t2 = torch.Tensor(t2)\n",
    "        r1, c1 = t1.shape\n",
    "        r2, c2 = t2.shape\n",
    "        if c1 != c2:\n",
    "            print(\"Number of columns are different. Product can't be performed\")\n",
    "            return 0\n",
    "        opt = torch.empty((r1*r2, c1))\n",
    "        for col_no in range(0, t1.shape[-1]):\n",
    "            x = self.perform_Kronecker_Product(t1[:, col_no], t2[:, col_no])\n",
    "            opt[:, col_no] = x\n",
    "        opt = opt.detach().numpy()\n",
    "        return opt\n",
    "    \n",
    "    \n",
    "    def compute_MTTKRP(self, tensor_matrix, A, k_value):\n",
    "        \"\"\"\n",
    "        This method computes the Matricized Tensor Times Khatri-Rao product\n",
    "        between the unfolded tensor and the all other factors apart from kth factor.\n",
    "        Input : \n",
    "            tensor_matrix : Unfolded tensor as a matrix\n",
    "            A : Factor matrices\n",
    "            k_value : index of kth matrix to be excluded\n",
    "        Output : \n",
    "            B : Resultant MTTKRP matrix\n",
    "        \"\"\"\n",
    "        A_matrix = copy.deepcopy(A)\n",
    "        A_matrix.pop(k_value)\n",
    "        krp_matrix = A_matrix[0]\n",
    "        for index in range(1, len(A_matrix)):\n",
    "            #krp_matrix = khatri_rao(krp_matrix, A_matrix[index])\n",
    "            krp_matrix = self.perform_Khatri_Rao_Product(krp_matrix, A_matrix[index])\n",
    "        B = np.dot(tensor_matrix, krp_matrix)\n",
    "        return B\n",
    "    \n",
    "    def create_A_Matrix(self, tensor_shape, rank):\n",
    "        \"\"\"\n",
    "        This method generates required number of factor matrices.\n",
    "        Input : \n",
    "            tensor_shape : shape of the input tensor\n",
    "            rank : Required rank of the factors\n",
    "        Output : \n",
    "            A : Resultant list of factor matrices\n",
    "        \"\"\"\n",
    "        A = []\n",
    "        for i in tensor_shape:\n",
    "            A.append(np.random.random((i, rank)))\n",
    "        return A\n",
    "\n",
    "    def compute_V_Matrix(self, A, k_value):\n",
    "        \"\"\"\n",
    "        This method computes the V value as a hadamard product of \n",
    "        outer product of every factort matrix apart from kth factor matrix.\n",
    "        Input : \n",
    "            A : Factor matrices\n",
    "            k_value : index of kth matrix to be excluded\n",
    "        Output : \n",
    "            v : Resultant V matrix after the hadamard product\n",
    "        \"\"\"\n",
    "        A_matrix = copy.deepcopy(A)\n",
    "        A_matrix.pop(k_value)\n",
    "        v = np.dot(A_matrix[0].T, A_matrix[0])\n",
    "        for index in range(1, len(A_matrix)):\n",
    "            p = np.dot(A_matrix[index].T, A_matrix[index])\n",
    "            v = v*p\n",
    "        return v\n",
    "        \n",
    "    def compute_ALS(self, input_tensor, max_iter, rank):\n",
    "        \"\"\"\n",
    "        This method is heart of this algorithm, this computes the factors and also lambdas of the algorithm.\n",
    "        Input : \n",
    "            input_tensor : Tensor containing input values\n",
    "            max_iter : maximum number of iterations\n",
    "            rank : prescribed rank of the resultant factors\n",
    "        Output : \n",
    "            A : factor matrices\n",
    "            lmbds : column norms of each factor matrices\n",
    "        \"\"\"\n",
    "        A = self.create_A_Matrix(input_tensor.shape, rank)\n",
    "        lmbds = []\n",
    "        for l_iter in range(0, max_iter):\n",
    "            for k in range(0, len(A)):\n",
    "                X_unfolded = tl.unfold(input_tensor, mode = k)\n",
    "                Z = self.compute_MTTKRP(X_unfolded, A, k)\n",
    "                V = self.compute_V_Matrix(A, k)\n",
    "                A_k = np.dot(Z, np.linalg.pinv(V))\n",
    "                l = np.linalg.norm(A_k, dim=0)\n",
    "                d_l = torch.zeros((rank, rank))\n",
    "                np.fill_diagonal(d_l, l)\n",
    "                #A_k = np.dot(A_k, np.linalg.pinv(d_l))\n",
    "                if l_iter == 0:\n",
    "                    lmbds.append(np.linalg.norm(l))\n",
    "                else:\n",
    "                    lmbds[k] = np.linalg.norm(l)\n",
    "                A[k] = A_k\n",
    "        return A, lmbds\n",
    "    \n",
    "    def reconstruct_tensor(self, factors, norm, rank, ip_shape):\n",
    "        \"\"\"\n",
    "        This method reconstructs the tensor given factor matrices and norms\n",
    "        Input : \n",
    "            factors : factor matrices\n",
    "            norm : column norms of every factor matrices\n",
    "            rank : prescribed rank of the resultant factors\n",
    "            ip_shape : Input tensor shape \n",
    "        Output : \n",
    "            M : Reconstructed tensor\n",
    "        \"\"\"\n",
    "        M = 0       \n",
    "        for c in range(0, rank):\n",
    "            op = factors[0][:, c]\n",
    "            for i in range(1, len(factors)):\n",
    "                op = np.outer(op.T, factors[i][:, c])\n",
    "            M += op\n",
    "        M = np.reshape(M, ip_shape)\n",
    "        return M"
   ]
  },
  {
   "cell_type": "code",
   "execution_count": 6,
   "metadata": {},
   "outputs": [],
   "source": [
    "cp = cp_als()\n",
    "A, lmbds = cp.compute_ALS(X_tensor, max_iter, r)"
   ]
  },
  {
   "cell_type": "code",
   "execution_count": 7,
   "metadata": {},
   "outputs": [],
   "source": [
    "#print(A[0])\n",
    "#print(\"####\")\n",
    "#print(A[1])\n",
    "#print(\"####\")\n",
    "#print(A[2])"
   ]
  },
  {
   "cell_type": "code",
   "execution_count": 8,
   "metadata": {},
   "outputs": [
    {
     "name": "stdout",
     "output_type": "stream",
     "text": [
      "Reconstruction tensor: \n",
      "----------------------\n",
      "[[[0.417 0.72  0.   ]\n",
      "  [0.539 0.419 0.685]\n",
      "  [0.302 0.147 0.092]]\n",
      "\n",
      " [[0.204 0.878 0.027]\n",
      "  [0.186 0.346 0.397]\n",
      "  [0.67  0.417 0.559]]]\n",
      "****\n",
      "Original tensor: \n",
      "----------------\n",
      "[[[0.417 0.72  0.   ]\n",
      "  [0.302 0.147 0.092]\n",
      "  [0.186 0.346 0.397]]\n",
      "\n",
      " [[0.539 0.419 0.685]\n",
      "  [0.204 0.878 0.027]\n",
      "  [0.67  0.417 0.559]]]\n"
     ]
    }
   ],
   "source": [
    "M_als = cp.reconstruct_tensor(A, lmbds, r, ip_shape)\n",
    "print(\"Reconstruction tensor: \")\n",
    "print(\"----------------------\")\n",
    "print(np.round(M_als, 3))\n",
    "#plt.imshow((M_als * 255).astype(np.uint8))\n",
    "#plt.show()\n",
    "print(\"****\")\n",
    "print(\"Original tensor: \")\n",
    "print(\"----------------\")\n",
    "print(np.round(X_tensor, 3))\n",
    "#plt.imshow((X_tensor * 255).astype(np.uint8))"
   ]
  },
  {
   "cell_type": "markdown",
   "metadata": {},
   "source": [
    "## Tensorly"
   ]
  },
  {
   "cell_type": "code",
   "execution_count": 9,
   "metadata": {},
   "outputs": [],
   "source": [
    "x = parafac(tl.tensor(X_tensor), rank=r, normalize_factors=False, init='random', random_state=1, n_iter_max= max_iter)"
   ]
  },
  {
   "cell_type": "code",
   "execution_count": 10,
   "metadata": {},
   "outputs": [
    {
     "name": "stdout",
     "output_type": "stream",
     "text": [
      "[1. 1. 1.]\n"
     ]
    }
   ],
   "source": [
    "print(x[0])"
   ]
  },
  {
   "cell_type": "code",
   "execution_count": 11,
   "metadata": {
    "scrolled": false
   },
   "outputs": [],
   "source": [
    "#for i in x[1]:\n",
    "#    print(i)"
   ]
  },
  {
   "cell_type": "code",
   "execution_count": 12,
   "metadata": {},
   "outputs": [
    {
     "name": "stdout",
     "output_type": "stream",
     "text": [
      "Reconstruction tensor: \n",
      "----------------------\n",
      "[[[0.417 0.72  0.   ]\n",
      "  [0.539 0.419 0.685]\n",
      "  [0.302 0.147 0.092]]\n",
      "\n",
      " [[0.204 0.878 0.027]\n",
      "  [0.186 0.346 0.397]\n",
      "  [0.67  0.417 0.559]]]\n",
      "****\n",
      "Original tensor: \n",
      "----------------\n",
      "[[[0.417 0.72  0.   ]\n",
      "  [0.302 0.147 0.092]\n",
      "  [0.186 0.346 0.397]]\n",
      "\n",
      " [[0.539 0.419 0.685]\n",
      "  [0.204 0.878 0.027]\n",
      "  [0.67  0.417 0.559]]]\n"
     ]
    }
   ],
   "source": [
    "M_fac = cp.reconstruct_tensor(x[1], x[0], r, ip_shape)\n",
    "print(\"Reconstruction tensor: \")\n",
    "print(\"----------------------\")\n",
    "print(np.round(M_fac, 3))\n",
    "#plt.imshow((M_fac * 255).astype(np.uint8))\n",
    "#plt.show()\n",
    "print(\"****\")\n",
    "print(\"Original tensor: \")\n",
    "print(\"----------------\")\n",
    "print(np.round(X_tensor, 3))\n",
    "#plt.imshow((X_tensor * 255).astype(np.uint8))"
   ]
  },
  {
   "cell_type": "code",
   "execution_count": 13,
   "metadata": {},
   "outputs": [
    {
     "name": "stdout",
     "output_type": "stream",
     "text": [
      "Difference between reconstrcutions from tensorly and implementations is: \n",
      "[[[ 0. -0. -0.]\n",
      "  [ 0. -0. -0.]\n",
      "  [-0.  0.  0.]]\n",
      "\n",
      " [[-0.  0.  0.]\n",
      "  [-0.  0.  0.]\n",
      "  [-0.  0.  0.]]]\n"
     ]
    }
   ],
   "source": [
    "print(\"Difference between reconstrcutions from tensorly and implementations is: \")\n",
    "print(np.round(M_als-M_fac, 3))"
   ]
  },
  {
   "cell_type": "code",
   "execution_count": null,
   "metadata": {},
   "outputs": [],
   "source": []
  },
  {
   "cell_type": "code",
   "execution_count": null,
   "metadata": {},
   "outputs": [],
   "source": []
  },
  {
   "cell_type": "markdown",
   "metadata": {},
   "source": [
    "## Pytorch implementation of CP_ALS"
   ]
  },
  {
   "cell_type": "markdown",
   "metadata": {},
   "source": [
    "1. Implement Khatri Rao product\n",
    "2. Convert the code of CP_ALS into pytorch"
   ]
  },
  {
   "cell_type": "markdown",
   "metadata": {},
   "source": [
    "## Khatri-Rao product"
   ]
  },
  {
   "cell_type": "code",
   "execution_count": 14,
   "metadata": {},
   "outputs": [],
   "source": [
    "t1 = torch.from_numpy(np.array([[1, 2, 3],\n",
    "                                [4, 5, 6],\n",
    "                                [7, 8, 9]], dtype=np.float32))\n",
    "t2 = torch.from_numpy(np.array([[1, 4, 7],\n",
    "                                [2, 5, 8],\n",
    "                                [3, 6, 9]], dtype=np.float32))"
   ]
  },
  {
   "cell_type": "code",
   "execution_count": 15,
   "metadata": {},
   "outputs": [],
   "source": [
    "def perform_Kronecker_Product(t1, t2):\n",
    "    t1_flatten = torch.flatten(t1)\n",
    "    print(t1_flatten)\n",
    "    op = torch.empty((0, ))\n",
    "    for element in t1_flatten:\n",
    "        output = element*t2\n",
    "        op = torch.cat((op, output))\n",
    "    return op\n",
    "def perform_Khatri_Rao_Product(t1, t2):\n",
    "    # Check for criteria if the columns of both matrices are same\n",
    "    r1, c1 = t1.shape\n",
    "    r2, c2 = t2.shape\n",
    "    if c1 != c2:\n",
    "        print(\"Number of columns are different. Product can't be performed\")\n",
    "        return 0\n",
    "    opt = torch.empty((r1*r2, c1))\n",
    "    for col_no in range(0, t1.shape[-1]):\n",
    "        x = perform_Kronecker_Product(t1[:, col_no], t2[:, col_no])\n",
    "        opt[:, col_no] = x\n",
    "    return opt"
   ]
  },
  {
   "cell_type": "code",
   "execution_count": 16,
   "metadata": {},
   "outputs": [
    {
     "name": "stdout",
     "output_type": "stream",
     "text": [
      "tensor([1., 4., 7.])\n",
      "tensor([2., 5., 8.])\n",
      "tensor([3., 6., 9.])\n",
      "tensor([[ 1.,  8., 21.],\n",
      "        [ 2., 10., 24.],\n",
      "        [ 3., 12., 27.],\n",
      "        [ 4., 20., 42.],\n",
      "        [ 8., 25., 48.],\n",
      "        [12., 30., 54.],\n",
      "        [ 7., 32., 63.],\n",
      "        [14., 40., 72.],\n",
      "        [21., 48., 81.]])\n"
     ]
    }
   ],
   "source": [
    "op = perform_Khatri_Rao_Product(t1, t2)\n",
    "print(op)"
   ]
  },
  {
   "cell_type": "code",
   "execution_count": 17,
   "metadata": {},
   "outputs": [],
   "source": [
    "t1 = torch.from_numpy(np.array([[1, 2],\n",
    "                                [3, 4]], dtype=np.float32))\n",
    "t2 = torch.from_numpy(np.array([[0, 5],\n",
    "                                [6, 7]], dtype=np.float32))"
   ]
  },
  {
   "cell_type": "code",
   "execution_count": 18,
   "metadata": {},
   "outputs": [
    {
     "name": "stdout",
     "output_type": "stream",
     "text": [
      "tensor([1., 2., 3., 4.])\n",
      "tensor([[ 0.,  5.],\n",
      "        [ 6.,  7.],\n",
      "        [ 0., 10.],\n",
      "        [12., 14.],\n",
      "        [ 0., 15.],\n",
      "        [18., 21.],\n",
      "        [ 0., 20.],\n",
      "        [24., 28.]])\n"
     ]
    }
   ],
   "source": [
    "op = perform_Kronecker_Product(t1, t2)\n",
    "print(op)"
   ]
  },
  {
   "cell_type": "code",
   "execution_count": 19,
   "metadata": {},
   "outputs": [
    {
     "name": "stdout",
     "output_type": "stream",
     "text": [
      "tensor([1., 3.])\n",
      "tensor([2., 4.])\n",
      "tensor([[ 0., 10.],\n",
      "        [ 6., 14.],\n",
      "        [ 0., 20.],\n",
      "        [18., 28.]])\n"
     ]
    }
   ],
   "source": [
    "print(perform_Khatri_Rao_Product(t1, t2))"
   ]
  }
 ],
 "metadata": {
  "kernelspec": {
   "display_name": "Python 3",
   "language": "python",
   "name": "python3"
  },
  "language_info": {
   "codemirror_mode": {
    "name": "ipython",
    "version": 3
   },
   "file_extension": ".py",
   "mimetype": "text/x-python",
   "name": "python",
   "nbconvert_exporter": "python",
   "pygments_lexer": "ipython3",
   "version": "3.8.3"
  }
 },
 "nbformat": 4,
 "nbformat_minor": 4
}
