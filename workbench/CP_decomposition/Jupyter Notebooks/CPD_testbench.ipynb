{
 "cells": [
  {
   "cell_type": "code",
   "execution_count": null,
   "metadata": {},
   "outputs": [],
   "source": [
    "import copy\n",
    "import numpy as np\n",
    "import tensorly as tl\n",
    "from tensorly.decomposition import parafac\n",
    "import torch \n",
    "import time\n",
    "tl.set_backend('pytorch')"
   ]
  },
  {
   "cell_type": "code",
   "execution_count": null,
   "metadata": {},
   "outputs": [],
   "source": [
    "class CP_ALS():\n",
    "    \"\"\"\n",
    "    This class computes the Candecomp PARAFAC decomposition using \n",
    "    N-way Alternating least squares algorithm along with khatri rao product\n",
    "    \"\"\"\n",
    "    def moveaxis(self, tensor: torch.Tensor, source: int, destination: int) -> torch.Tensor:\n",
    "        \"\"\"\n",
    "        This method is from the implementation given in pytorch \n",
    "        https://github.com/pytorch/pytorch/issues/36048#issuecomment-652786245\n",
    "        \"\"\"\n",
    "        dim = tensor.dim()\n",
    "        perm = list(range(dim))\n",
    "        if destination < 0:\n",
    "            destination += dim\n",
    "        perm.pop(source)\n",
    "        perm.insert(destination, source)\n",
    "        return tensor.permute(*perm)\n",
    "    \n",
    "    def unfold_tensor(self, tensor, mode):\n",
    "        \"\"\" This method unfolds the given input tensor along with the specified mode.\n",
    "        Input :\n",
    "            tensor : Input tensor\n",
    "            mode : Specified mode of unfolding\n",
    "        Output :\n",
    "            matrix : Unfolded matrix of the tensor with specified mode\n",
    "        \"\"\"\n",
    "        #t = tensor.transpose(mode, 0)\n",
    "        t = self.moveaxis(tensor, mode, 0)\n",
    "        matrix = t.reshape(tensor.shape[mode], -1)\n",
    "        return matrix\n",
    "        #return torch.reshape(torch.moveaxis(tensor, mode, 0), (tensor.shape[mode], -1))\n",
    "\n",
    "    ## Old functions\n",
    "    #def perform_Kronecker_Product(self, t1, t2):\n",
    "    #    t1_flatten = torch.flatten(t1)\n",
    "    #    op = torch.empty((0, ))\n",
    "    #    for element in t1_flatten:\n",
    "    #        output = element*t2\n",
    "    #        op = torch.cat((op, output))\n",
    "    #    return op\n",
    "    \n",
    "    #def perform_Khatri_Rao_Product(self, t1, t2):\n",
    "    #    # Check for criteria if the columns of both matrices are same\n",
    "    #    r1, c1 = t1.shape\n",
    "    #    r2, c2 = t2.shape\n",
    "    #    if c1 != c2:\n",
    "    #        print(\"Number of columns are different. Product can't be performed\")\n",
    "    #        return 0\n",
    "    #    opt = torch.empty((r1*r2, c1))\n",
    "    #    for col_no in range(0, t1.shape[-1]):\n",
    "    #        x = self.perform_Kronecker_Product(t1[:, col_no], t2[:, col_no])\n",
    "    #        opt[:, col_no] = x\n",
    "    #    return opt\n",
    "    \n",
    "    # New functions\n",
    "    def perform_Kronecker_Product(self, A, B):\n",
    "        \"\"\" \n",
    "        This method performs the kronecker product of the two matrices\n",
    "        The method is adaption of the method proposed in https://discuss.pytorch.org/t/kronecker-product/3919/10\n",
    "        Input : \n",
    "            A : Input matrix 1\n",
    "            B : Input matrix 2\n",
    "        Output : \n",
    "            Output is the resultant matrix after kronecker product\n",
    "        \"\"\"\n",
    "        return torch.einsum(\"ab,cd->acbd\", A, B).view(A.size(0)*B.size(0),  A.size(1)*B.size(1))\n",
    "    \n",
    "    def perform_Khatri_Rao_Product(self, A, B):\n",
    "        \"\"\"\n",
    "        This methods performs the Khatri Rao product as it is the column wise kronecker product\n",
    "        Input : \n",
    "            A : Input matrix 1\n",
    "            B : Input matrix 2\n",
    "        Output : \n",
    "            result : The resultant Khatri-Rao product matrix\n",
    "        \"\"\"\n",
    "        if A.shape[1] != B.shape[1]:\n",
    "            print(\"Inputs must have same number of columns\")\n",
    "            return 0\n",
    "        result = None\n",
    "        for col in range(A.shape[1]):\n",
    "            res = self.perform_Kronecker_Product(A[:, col].unsqueeze(0), B[:, col].unsqueeze(0))\n",
    "            if col == 0:\n",
    "                result = res\n",
    "            else:\n",
    "                result = torch.cat((result, res), dim = 0)\n",
    "        return result.T\n",
    "\n",
    "    def compute_MTTKRP(self, tensor_matrix, A, k_value):\n",
    "        \"\"\"\n",
    "        This method computes the Matricized Tensor Times Khatri-Rao product\n",
    "        between the unfolded tensor and the all other factors apart from kth factor.\n",
    "        Input : \n",
    "            tensor_matrix : Unfolded tensor as a matrix\n",
    "            A : Factor matrices\n",
    "            k_value : index of kth matrix to be excluded\n",
    "        Output : \n",
    "            B : Resultant MTTKRP matrix\n",
    "        \"\"\"\n",
    "        A_matrix = copy.deepcopy(A)\n",
    "        A_matrix.pop(k_value)\n",
    "        krp_matrix = A_matrix[0]\n",
    "        for index in range(1, len(A_matrix)):\n",
    "            krp_matrix = self.perform_Khatri_Rao_Product(krp_matrix, A_matrix[index])\n",
    "        B = torch.matmul(tensor_matrix, krp_matrix)\n",
    "        return B\n",
    "    \n",
    "    def compute_V_Matrix(self, A, k_value):\n",
    "        \"\"\"\n",
    "        This method computes the V value as a hadamard product of \n",
    "        outer product of every factort matrix apart from kth factor matrix.\n",
    "        Input : \n",
    "            A : Factor matrices\n",
    "            k_value : index of kth matrix to be excluded\n",
    "        Output : \n",
    "            v : Resultant V matrix after the hadamard product\n",
    "        \"\"\"\n",
    "        A_matrix = copy.deepcopy(A)\n",
    "        A_matrix.pop(k_value)\n",
    "        v = torch.matmul(A_matrix[0].T, A_matrix[0])\n",
    "        for index in range(1, len(A_matrix)):\n",
    "            p = torch.matmul(A_matrix[index].T, A_matrix[index])\n",
    "            v = v*p\n",
    "        return v\n",
    "    \n",
    "    def create_A_Matrix(self, tensor_shape, rank):\n",
    "        \"\"\"\n",
    "        This method generates required number of factor matrices.\n",
    "        Input : \n",
    "            tensor_shape : shape of the input tensor\n",
    "            rank : Required rank of the factors\n",
    "        Output : \n",
    "            A : Resultant list of factor matrices\n",
    "        \"\"\"\n",
    "        A = []\n",
    "        for i in tensor_shape:\n",
    "            A.append(torch.randn((i, rank)))\n",
    "        return A\n",
    "    \n",
    "    def compute_ALS(self, input_tensor, max_iter, rank):\n",
    "        \"\"\"\n",
    "        This method is heart of this algorithm, this computes the factors and also lambdas of the algorithm.\n",
    "        Input : \n",
    "            input_tensor : Tensor containing input values\n",
    "            max_iter : maximum number of iterations\n",
    "            rank : prescribed rank of the resultant factors\n",
    "        Output : \n",
    "            A : factor matrices\n",
    "            lmbds : column norms of each factor matrices\n",
    "        \"\"\"\n",
    "        A = self.create_A_Matrix(input_tensor.shape, rank)\n",
    "        lmbds = []\n",
    "        for l_iter in range(0, max_iter):\n",
    "            for k in range(0, len(A)):\n",
    "                X_unfolded = self.unfold_tensor(input_tensor, k)\n",
    "                Z = self.compute_MTTKRP(X_unfolded, A, k)\n",
    "                V = self.compute_V_Matrix(A, k)\n",
    "                A_k = torch.matmul(Z, torch.pinverse(V))\n",
    "                l = torch.norm(A_k, dim=0)\n",
    "                d_l = np.zeros((rank, rank))\n",
    "                np.fill_diagonal(d_l, l)\n",
    "                #A_k = np.dot(A_k, np.linalg.pinv(d_l))\n",
    "                if l_iter == 0:\n",
    "                    lmbds.append(np.linalg.norm(l))\n",
    "                else:\n",
    "                    lmbds[k] = np.linalg.norm(l)\n",
    "                A[k] = A_k\n",
    "        return A, lmbds\n",
    "    \n",
    "    def reconstruct_tensor(self, factors, norm, rank, ip_shape):\n",
    "        \"\"\"\n",
    "        This method reconstructs the tensor given factor matrices and norms\n",
    "        Input : \n",
    "            factors : factor matrices\n",
    "            norm : column norms of every factor matrices\n",
    "            rank : prescribed rank of the resultant factors\n",
    "            ip_shape : Input tensor shape \n",
    "        Output : \n",
    "            M : Reconstructed tensor\n",
    "        \"\"\"\n",
    "        M = 0       \n",
    "        for c in range(0, rank):\n",
    "            op = factors[0][:, c]\n",
    "            for i in range(1, len(factors)):\n",
    "                op = np.outer(op.T, factors[i][:, c])\n",
    "            M += op\n",
    "        M = np.reshape(M, ip_shape)\n",
    "        return M\n",
    "\n",
    "    def reconstruct_Three_Way_Tensor(self, a, b, c):\n",
    "        \"\"\"This method reconstructs the tensor from the rank one factor matrices\n",
    "        Inputs: \n",
    "            a : First factor in CP decomposition\n",
    "            b : Second factor in CP decomposition\n",
    "            c : Third factor in CP decomposition\n",
    "        Output:\n",
    "            x_t : Reconstructed output tensor\"\"\"\n",
    "\n",
    "        x_t = 0\n",
    "        #row, col = a.shape()\n",
    "        for index in range(a.shape[1]):\n",
    "            x_t += torch.ger(a[:,index], b[:,index]).unsqueeze(2)*c[:,index].unsqueeze(0).unsqueeze(0)\n",
    "        return x_t\n",
    "\n",
    "    # Reconstruct the tensor from the factors\n",
    "    def reconstruct_Four_Way_Tensor(self, a, b, c, d):\n",
    "        \"\"\"This method reconstructs the tensor from the rank one factor matrices\n",
    "        Inputs: \n",
    "            a : First factor in CP decomposition\n",
    "            b : Second factor in CP decomposition\n",
    "            c : Third factor in CP decomposition\n",
    "            d : Fourth factor in CP decomposition\n",
    "        Output:\n",
    "            x_t : Reconstructed output tensor\"\"\"\n",
    "\n",
    "        x_t = 0\n",
    "        #row, col = a.shape()\n",
    "        for index in range(a.shape[1]):\n",
    "            Y = (torch.ger(a[:, index], b[:, index]).unsqueeze(2)*c[:, index]).unsqueeze(3)*d[:,index].unsqueeze(0).unsqueeze(0)\n",
    "            x_t += Y\n",
    "            #x_t += torch.ger(a[:,index], b[:,index]).unsqueeze(2)*c[:,index].unsqueeze(0).unsqueeze(0)\n",
    "        return x_t"
   ]
  },
  {
   "cell_type": "code",
   "execution_count": null,
   "metadata": {},
   "outputs": [],
   "source": [
    "ip_shape = (256, 64, 11, 11)\n",
    "r_state = 0\n",
    "max_iter = 100   \n",
    "r = 64\n",
    "torch.manual_seed(0)\n",
    "X_tensor = torch.randn(ip_shape)"
   ]
  },
  {
   "cell_type": "code",
   "execution_count": null,
   "metadata": {},
   "outputs": [],
   "source": [
    "cp_als = CP_ALS()"
   ]
  },
  {
   "cell_type": "code",
   "execution_count": null,
   "metadata": {
    "scrolled": false
   },
   "outputs": [],
   "source": [
    "start = time.time()\n",
    "A, lmbds =  cp_als.compute_ALS(X_tensor, max_iter, r)\n",
    "end = time.time()\n",
    "print(\"Run time in seconds: \", end-start)"
   ]
  },
  {
   "cell_type": "code",
   "execution_count": null,
   "metadata": {},
   "outputs": [],
   "source": [
    "print(A[0].shape)\n",
    "print(A[1].shape)\n",
    "print(A[2].shape)\n",
    "print(A[3].shape)"
   ]
  },
  {
   "cell_type": "code",
   "execution_count": null,
   "metadata": {},
   "outputs": [],
   "source": [
    "recon_tensor = cp_als.reconstruct_Three_Way_Tensor(A[0], A[1], A[2])"
   ]
  },
  {
   "cell_type": "code",
   "execution_count": null,
   "metadata": {},
   "outputs": [],
   "source": [
    "print(recon_tensor)"
   ]
  },
  {
   "cell_type": "code",
   "execution_count": null,
   "metadata": {
    "scrolled": false
   },
   "outputs": [],
   "source": [
    "start = time.time()\n",
    "X = parafac(X_tensor, r, n_iter_max= max_iter, init=\"random\", verbose=True)[1]\n",
    "end = time.time()\n",
    "print(\"Run time: \", end-start)"
   ]
  },
  {
   "cell_type": "code",
   "execution_count": null,
   "metadata": {},
   "outputs": [],
   "source": [
    "recon_tensor_tl = cp_als.reconstruct_Three_Way_Tensor(X[0], X[1], X[2])"
   ]
  },
  {
   "cell_type": "code",
   "execution_count": null,
   "metadata": {},
   "outputs": [],
   "source": [
    "print(recon_tensor_tl)"
   ]
  },
  {
   "cell_type": "code",
   "execution_count": null,
   "metadata": {},
   "outputs": [],
   "source": [
    "print(X[0], X[1], X[2])"
   ]
  },
  {
   "cell_type": "code",
   "execution_count": null,
   "metadata": {},
   "outputs": [],
   "source": []
  },
  {
   "cell_type": "code",
   "execution_count": null,
   "metadata": {},
   "outputs": [],
   "source": []
  },
  {
   "cell_type": "code",
   "execution_count": null,
   "metadata": {},
   "outputs": [],
   "source": []
  },
  {
   "cell_type": "markdown",
   "metadata": {},
   "source": [
    "## Graphs for presentation"
   ]
  },
  {
   "cell_type": "code",
   "execution_count": 18,
   "metadata": {},
   "outputs": [],
   "source": [
    "#from CP_N_Way_Decomposition import CP_ALS\n",
    "from tensorly.decomposition import parafac\n",
    "import torch\n",
    "import tensorly as tl\n",
    "import numpy as np\n",
    "#import matplotlib\n",
    "#matplotlib.use('AGG')\n",
    "#matplotlib.rcParams['text.usetex'] = True\n",
    "tl.set_backend('pytorch')"
   ]
  },
  {
   "cell_type": "code",
   "execution_count": 19,
   "metadata": {
    "scrolled": true
   },
   "outputs": [
    {
     "name": "stdout",
     "output_type": "stream",
     "text": [
      "tensor([[[-1.4192, -0.5040,  0.4957],\n",
      "         [-0.9996,  0.8199,  0.6812],\n",
      "         [ 1.0946, -2.0008,  0.7139]],\n",
      "\n",
      "        [[ 0.6136,  1.2167, -0.5914],\n",
      "         [-0.0321,  1.2354, -0.4008],\n",
      "         [ 0.2624,  1.1269,  0.4031]]])\n"
     ]
    }
   ],
   "source": [
    "ones = torch.randn((2, 3, 3))\n",
    "print(ones)"
   ]
  },
  {
   "cell_type": "code",
   "execution_count": 40,
   "metadata": {},
   "outputs": [],
   "source": [
    "class CP_ALS():\n",
    "    \"\"\"\n",
    "    This class computes the Candecomp PARAFAC decomposition using \n",
    "    N-way Alternating least squares algorithm along with khatri rao product\n",
    "    \"\"\"\n",
    "    def moveaxis(self, tensor, source, destination):\n",
    "        \"\"\"\n",
    "        This method is from the implementation given in pytorch https://github.com/pytorch/pytorch/issues/36048#issuecomment-652786245\n",
    "        Input : \n",
    "            tensor : Input tensor\n",
    "            source : First axis to move\n",
    "            destination : Second axis to replace the first one\n",
    "        Output :\n",
    "            Output tensor to where the axis is moved\n",
    "        \"\"\"\n",
    "        dim = tensor.dim()\n",
    "        perm = list(range(dim))\n",
    "        if destination < 0:\n",
    "            destination += dim\n",
    "        perm.pop(source)\n",
    "        perm.insert(destination, source)\n",
    "        return tensor.permute(*perm)\n",
    "    \n",
    "    def unfold_tensor(self, tensor, mode):\n",
    "        \"\"\" This method unfolds the given input tensor along with the specified mode.\n",
    "        Input :\n",
    "            tensor : Input tensor\n",
    "            mode : Specified mode of unfolding\n",
    "        Output :\n",
    "            matrix : Unfolded matrix of the tensor with specified mode\n",
    "        \"\"\"\n",
    "        t = self.moveaxis(tensor, mode, 0)\n",
    "        matrix = t.reshape(tensor.shape[mode], -1)\n",
    "        return matrix\n",
    "    \n",
    "    #def perform_Kronecker_Product(self, t1, t2):\n",
    "    #    t1_flatten = torch.flatten(t1)\n",
    "    #    op = torch.empty((0, ))\n",
    "    #    for element in t1_flatten:\n",
    "    #        output = element*t2\n",
    "    #        op = torch.cat((op, output))\n",
    "    #    return op\n",
    "    \n",
    "    #def perform_Khatri_Rao_Product(self, t1, t2):\n",
    "    #    # Check for criteria if the columns of both matrices are same\n",
    "    #    r1, c1 = t1.shape\n",
    "    #    r2, c2 = t2.shape\n",
    "    #    if c1 != c2:\n",
    "    #        print(\"Number of columns are different. Product can't be performed\")\n",
    "    #        return 0\n",
    "    #    opt = torch.empty((r1*r2, c1))\n",
    "    #    for col_no in range(0, t1.shape[-1]):\n",
    "    #        x = self.perform_Kronecker_Product(t1[:, col_no], t2[:, col_no])\n",
    "    #        opt[:, col_no] = x\n",
    "    #    return opt\n",
    "\n",
    "    def perform_Kronecker_Product(self, A, B):\n",
    "        \"\"\" \n",
    "        This method performs the kronecker product of the two matrices\n",
    "        The method is adaption of the method proposed in https://discuss.pytorch.org/t/kronecker-product/3919/10\n",
    "        Input : \n",
    "            A : Input matrix 1\n",
    "            B : Input matrix 2\n",
    "        Output : \n",
    "            Output is the resultant matrix after kronecker product\n",
    "        \"\"\"\n",
    "        return torch.einsum(\"ab,cd->acbd\", A, B).view(A.size(0)*B.size(0),  A.size(1)*B.size(1))\n",
    "    \n",
    "    def perform_Khatri_Rao_Product(self, A, B):\n",
    "        \"\"\"\n",
    "        This methods performs the Khatri Rao product as it is the column wise kronecker product\n",
    "        Input : \n",
    "            A : Input matrix 1\n",
    "            B : Input matrix 2\n",
    "        Output : \n",
    "            result : The resultant Khatri-Rao product matrix\n",
    "        \"\"\"\n",
    "        if A.shape[1] != B.shape[1]:\n",
    "            print(\"Inputs must have same number of columns\")\n",
    "            return 0\n",
    "        result = None\n",
    "        for col in range(A.shape[1]):\n",
    "            res = self.perform_Kronecker_Product(A[:, col].unsqueeze(0), B[:, col].unsqueeze(0))\n",
    "            if col == 0:\n",
    "                result = res\n",
    "            else:\n",
    "                result = torch.cat((result, res), dim = 0)\n",
    "        return result.T\n",
    "\n",
    "    def compute_MTTKRP(self, tensor_matrix, A, k_value):\n",
    "        \"\"\"\n",
    "        This method computes the Matricized Tensor Times Khatri-Rao product\n",
    "        between the unfolded tensor and the all other factors apart from kth factor.\n",
    "        Input : \n",
    "            tensor_matrix : Unfolded tensor as a matrix\n",
    "            A : Factor matrices\n",
    "            k_value : index of kth matrix to be excluded\n",
    "        Output : \n",
    "            B : Resultant MTTKRP matrix\n",
    "        \"\"\"\n",
    "        #A_matrix = copy.deepcopy(A)\n",
    "        #A_matrix.pop(k_value)\n",
    "        krp_matrix = A[0]\n",
    "        for index in range(1, len(A)):\n",
    "            krp_matrix = self.perform_Khatri_Rao_Product(krp_matrix, A[index])\n",
    "        B = torch.matmul(tensor_matrix, krp_matrix)\n",
    "        return B\n",
    "    \n",
    "    def compute_fit(self, X, M):\n",
    "        diff = X-M\n",
    "        fit = (np.linalg.norm(diff))/(np.linalg.norm(X))\n",
    "        return fit\n",
    "    \n",
    "    def compute_V_Matrix(self, A, k_value):\n",
    "        \"\"\"\n",
    "        This method computes the V value as a hadamard product of \n",
    "        outer product of every factort matrix apart from kth factor matrix.\n",
    "        Input : \n",
    "            A : Factor matrices\n",
    "            k_value : index of kth matrix to be excluded\n",
    "        Output : \n",
    "            v : Resultant V matrix after the hadamard product\n",
    "        \"\"\"\n",
    "        #A_matrix = copy.deepcopy(A)\n",
    "        #A_matrix.pop(k_value)\n",
    "        v = torch.matmul(A[0].T, A[0])\n",
    "        for index in range(1, len(A)):\n",
    "            p = torch.matmul(A[index].T, A[index])\n",
    "            v = v*p\n",
    "        return v\n",
    "    \n",
    "    def create_A_Matrix(self, tensor_shape, rank):\n",
    "        \"\"\"\n",
    "        This method generates required number of factor matrices.\n",
    "        Input : \n",
    "            tensor_shape : shape of the input tensor\n",
    "            rank : Required rank of the factors\n",
    "        Output : \n",
    "            A : Resultant list of factor matrices\n",
    "        \"\"\"\n",
    "        A = []\n",
    "        for i in tensor_shape:\n",
    "            A.append(torch.randn((i, rank)))\n",
    "        return A\n",
    "    \n",
    "    def compute_ALS(self, input_tensor, max_iter, rank):\n",
    "        \"\"\"\n",
    "        This method is heart of this algorithm, this computes the factors and also lambdas of the algorithm.\n",
    "        Input : \n",
    "            input_tensor : Tensor containing input values\n",
    "            max_iter : maximum number of iterations\n",
    "            rank : prescribed rank of the resultant factors\n",
    "        Output : \n",
    "            A : factor matrices\n",
    "            lmbds : column norms of each factor matrices\n",
    "        \"\"\"\n",
    "        A = self.create_A_Matrix(input_tensor.shape, rank)\n",
    "        lmbds = []\n",
    "        fit_list = []\n",
    "        for l_iter in range(0, max_iter):\n",
    "            for k in range(0, len(A)):\n",
    "                X_unfolded = self.unfold_tensor(input_tensor, k)\n",
    "                A.pop(k)\n",
    "                Z = self.compute_MTTKRP(X_unfolded, A, k)\n",
    "                V = self.compute_V_Matrix(A, k)\n",
    "                A_k = torch.matmul(Z, torch.pinverse(V))\n",
    "                #l = torch.norm(A_k, dim=0)\n",
    "                #d_l = np.zeros((rank, rank))\n",
    "                #np.fill_diagonal(d_l, l)\n",
    "                #A_k = np.dot(A_k, np.linalg.pinv(d_l))\n",
    "                #if l_iter == 0:\n",
    "                #    lmbds.append(np.linalg.norm(l))\n",
    "                #else:\n",
    "                #    lmbds[k] = np.linalg.norm(l)\n",
    "                #A[k] = A_k\n",
    "                A.insert(k, A_k)\n",
    "            if l_iter%5 == 0:\n",
    "                M = self.reconstruct_Three_Way_Tensor(A[0], A[1], A[2])\n",
    "                fit_val = self.compute_fit(input_tensor, M)\n",
    "                fit_list.append([l_iter, fit_val])\n",
    "        return A, lmbds, fit_list\n",
    "    \n",
    "    def reconstruct_tensor(self, factors, norm, rank, ip_shape):\n",
    "        \"\"\"\n",
    "        This method reconstructs the tensor given factor matrices and norms\n",
    "        Input : \n",
    "            factors : factor matrices\n",
    "            norm : column norms of every factor matrices\n",
    "            rank : prescribed rank of the resultant factors\n",
    "            ip_shape : Input tensor shape \n",
    "        Output : \n",
    "            M : Reconstructed tensor\n",
    "        \"\"\"\n",
    "        M = 0       \n",
    "        for c in range(0, rank):\n",
    "            op = factors[0][:, c]\n",
    "            for i in range(1, len(factors)):\n",
    "                op = np.outer(op.T, factors[i][:, c])\n",
    "            M += op\n",
    "        M = np.reshape(M, ip_shape)\n",
    "        return M\n",
    "\n",
    "    def reconstruct_Three_Way_Tensor(self, a, b, c):\n",
    "        \"\"\"This method reconstructs the tensor from the rank one factor matrices\n",
    "        Inputs: \n",
    "            a : First factor in CP decomposition\n",
    "            b : Second factor in CP decomposition\n",
    "            c : Third factor in CP decomposition\n",
    "        Output:\n",
    "            x_t : Reconstructed output tensor\"\"\"\n",
    "\n",
    "        x_t = 0\n",
    "        #row, col = a.shape()\n",
    "        for index in range(a.shape[1]):\n",
    "            x_t += torch.ger(a[:,index], b[:,index]).unsqueeze(2)*c[:,index].unsqueeze(0).unsqueeze(0)\n",
    "        return x_t\n",
    "\n",
    "    # Reconstruct the tensor from the factors\n",
    "    def reconstruct_Four_Way_Tensor(self, a, b, c, d):\n",
    "        \"\"\"This method reconstructs the tensor from the rank one factor matrices\n",
    "        Inputs: \n",
    "            a : First factor in CP decomposition\n",
    "            b : Second factor in CP decomposition\n",
    "            c : Third factor in CP decomposition\n",
    "            d : Fourth factor in CP decomposition\n",
    "        Output:\n",
    "            x_t : Reconstructed output tensor\"\"\"\n",
    "\n",
    "        x_t = 0\n",
    "        #row, col = a.shape()\n",
    "        for index in range(a.shape[1]):\n",
    "            Y = (torch.ger(a[:, index], b[:, index]).unsqueeze(2)*c[:, index]).unsqueeze(3)*d[:,index].unsqueeze(0).unsqueeze(0)\n",
    "            x_t += Y\n",
    "            #x_t += torch.ger(a[:,index], b[:,index]).unsqueeze(2)*c[:,index].unsqueeze(0).unsqueeze(0)\n",
    "        return x_t"
   ]
  },
  {
   "cell_type": "code",
   "execution_count": 41,
   "metadata": {},
   "outputs": [],
   "source": [
    "# parameters\n",
    "r = 2\n",
    "max_iter = 101\n",
    "als = CP_ALS()"
   ]
  },
  {
   "cell_type": "code",
   "execution_count": 42,
   "metadata": {},
   "outputs": [],
   "source": [
    "A, lmbds, f_list = als.compute_ALS(ones, max_iter, r)"
   ]
  },
  {
   "cell_type": "code",
   "execution_count": 43,
   "metadata": {},
   "outputs": [
    {
     "name": "stdout",
     "output_type": "stream",
     "text": [
      "[tensor([[-0.3008,  0.5871],\n",
      "        [ 0.2954, -0.0256]]), tensor([[ 3.9065,  2.0330],\n",
      "        [ 2.5978,  2.6058],\n",
      "        [ 1.8892, -2.4003]]), tensor([[ 0.2799, -0.7384],\n",
      "        [ 1.3142,  1.0169],\n",
      "        [-0.5219, -0.0465]])]\n",
      "[100, 0.31077987]\n"
     ]
    }
   ],
   "source": [
    "print(A)\n",
    "print(f_list[-1])"
   ]
  },
  {
   "cell_type": "code",
   "execution_count": 44,
   "metadata": {},
   "outputs": [],
   "source": [
    "m_recons = als.reconstruct_Three_Way_Tensor(A[0], A[1], A[2])"
   ]
  },
  {
   "cell_type": "code",
   "execution_count": 45,
   "metadata": {},
   "outputs": [
    {
     "name": "stdout",
     "output_type": "stream",
     "text": [
      "tensor([[[-1.2103, -0.3307,  0.5578],\n",
      "         [-1.3484,  0.5286,  0.3366],\n",
      "         [ 0.8815, -2.1799,  0.3622]],\n",
      "\n",
      "        [[ 0.3615,  1.4637, -0.5998],\n",
      "         [ 0.2641,  0.9407, -0.3974],\n",
      "         [ 0.1108,  0.7960, -0.2941]]])\n",
      "\n",
      "tensor([[[-1.4192, -0.5040,  0.4957],\n",
      "         [-0.9996,  0.8199,  0.6812],\n",
      "         [ 1.0946, -2.0008,  0.7139]],\n",
      "\n",
      "        [[ 0.6136,  1.2167, -0.5914],\n",
      "         [-0.0321,  1.2354, -0.4008],\n",
      "         [ 0.2624,  1.1269,  0.4031]]])\n"
     ]
    }
   ],
   "source": [
    "print(m_recons)\n",
    "print()\n",
    "print(ones)"
   ]
  },
  {
   "cell_type": "code",
   "execution_count": 46,
   "metadata": {},
   "outputs": [
    {
     "name": "stdout",
     "output_type": "stream",
     "text": [
      "reconstruction error=0.6505117416381836\n",
      "iteration 1,  reconstraction error: 0.5159079432487488, decrease = 0.13460379838943481, unnormalized = 2.047833204269409\n",
      "iteration 2,  reconstraction error: 0.5053101778030396, decrease = 0.010597765445709229, unnormalized = 2.0057666301727295\n",
      "iteration 3,  reconstraction error: 0.4983913004398346, decrease = 0.006918877363204956, unnormalized = 1.978303074836731\n",
      "iteration 4,  reconstraction error: 0.48912376165390015, decrease = 0.009267538785934448, unnormalized = 1.9415167570114136\n",
      "iteration 5,  reconstraction error: 0.4731593132019043, decrease = 0.01596444845199585, unnormalized = 1.878147840499878\n",
      "iteration 6,  reconstraction error: 0.4395270347595215, decrease = 0.03363227844238281, unnormalized = 1.7446485757827759\n",
      "iteration 7,  reconstraction error: 0.3713935613632202, decrease = 0.06813347339630127, unnormalized = 1.4742012023925781\n",
      "iteration 8,  reconstraction error: 0.32454413175582886, decrease = 0.04684942960739136, unnormalized = 1.2882380485534668\n",
      "iteration 9,  reconstraction error: 0.31671780347824097, decrease = 0.00782632827758789, unnormalized = 1.2571724653244019\n",
      "iteration 10,  reconstraction error: 0.31374314427375793, decrease = 0.0029746592044830322, unnormalized = 1.2453649044036865\n",
      "iteration 11,  reconstraction error: 0.3124310374259949, decrease = 0.0013121068477630615, unnormalized = 1.240156650543213\n",
      "iteration 12,  reconstraction error: 0.31176525354385376, decrease = 0.0006657838821411133, unnormalized = 1.2375138998031616\n",
      "iteration 13,  reconstraction error: 0.3113953769207001, decrease = 0.0003698766231536865, unnormalized = 1.2360457181930542\n",
      "iteration 14,  reconstraction error: 0.31117627024650574, decrease = 0.00021910667419433594, unnormalized = 1.2351759672164917\n",
      "iteration 15,  reconstraction error: 0.3110412359237671, decrease = 0.00013503432273864746, unnormalized = 1.2346400022506714\n",
      "iteration 16,  reconstraction error: 0.3109554052352905, decrease = 8.58306884765625e-05, unnormalized = 1.2342993021011353\n",
      "iteration 17,  reconstraction error: 0.3108987510204315, decrease = 5.665421485900879e-05, unnormalized = 1.2340744733810425\n",
      "iteration 18,  reconstraction error: 0.3108619451522827, decrease = 3.680586814880371e-05, unnormalized = 1.2339283227920532\n",
      "iteration 19,  reconstraction error: 0.31083622574806213, decrease = 2.5719404220581055e-05, unnormalized = 1.2338262796401978\n",
      "iteration 20,  reconstraction error: 0.3108191192150116, decrease = 1.710653305053711e-05, unnormalized = 1.2337583303451538\n",
      "iteration 21,  reconstraction error: 0.3108070492744446, decrease = 1.2069940567016602e-05, unnormalized = 1.2337104082107544\n",
      "iteration 22,  reconstraction error: 0.310799241065979, decrease = 7.808208465576172e-06, unnormalized = 1.2336794137954712\n",
      "iteration 23,  reconstraction error: 0.310793399810791, decrease = 5.841255187988281e-06, unnormalized = 1.2336562871932983\n",
      "iteration 24,  reconstraction error: 0.31078970432281494, decrease = 3.6954879760742188e-06, unnormalized = 1.2336416244506836\n",
      "iteration 25,  reconstraction error: 0.31078657507896423, decrease = 3.129243850708008e-06, unnormalized = 1.2336292266845703\n",
      "iteration 26,  reconstraction error: 0.3107844591140747, decrease = 2.115964889526367e-06, unnormalized = 1.2336207628250122\n",
      "iteration 27,  reconstraction error: 0.3107832968235016, decrease = 1.1622905731201172e-06, unnormalized = 1.2336161136627197\n",
      "iteration 28,  reconstraction error: 0.3107824921607971, decrease = 8.046627044677734e-07, unnormalized = 1.2336130142211914\n",
      "iteration 29,  reconstraction error: 0.310781329870224, decrease = 1.1622905731201172e-06, unnormalized = 1.233608365058899\n",
      "iteration 30,  reconstraction error: 0.31078073382377625, decrease = 5.960464477539062e-07, unnormalized = 1.233605980873108\n",
      "iteration 31,  reconstraction error: 0.31078094244003296, decrease = -2.086162567138672e-07, unnormalized = 1.2336068153381348\n",
      "iteration 32,  reconstraction error: 0.3107803463935852, decrease = 5.960464477539062e-07, unnormalized = 1.2336044311523438\n",
      "iteration 33,  reconstraction error: 0.3107801675796509, decrease = 1.7881393432617188e-07, unnormalized = 1.2336037158966064\n",
      "iteration 34,  reconstraction error: 0.31077978014945984, decrease = 3.8743019104003906e-07, unnormalized = 1.2336021661758423\n",
      "iteration 35,  reconstraction error: 0.31077995896339417, decrease = -1.7881393432617188e-07, unnormalized = 1.2336028814315796\n",
      "iteration 36,  reconstraction error: 0.31077995896339417, decrease = 0.0, unnormalized = 1.2336028814315796\n",
      "PARAFAC converged after 36 iterations\n"
     ]
    }
   ],
   "source": [
    "A_tl = parafac(ones, rank=r, n_iter_max=max_iter, init=\"random\", verbose=True)[1]"
   ]
  },
  {
   "cell_type": "code",
   "execution_count": 47,
   "metadata": {},
   "outputs": [
    {
     "name": "stdout",
     "output_type": "stream",
     "text": [
      "[tensor([[ 3.7983, -4.4157],\n",
      "        [-0.1637,  4.3405]]), tensor([[-0.3551,  0.5931],\n",
      "        [-0.4554,  0.3942],\n",
      "        [ 0.4200,  0.2873]]), tensor([[ 0.6529,  0.1258],\n",
      "        [-0.8981,  0.5889],\n",
      "        [ 0.0410, -0.2339]])]\n"
     ]
    }
   ],
   "source": [
    "print(A_tl)"
   ]
  },
  {
   "cell_type": "code",
   "execution_count": 48,
   "metadata": {},
   "outputs": [
    {
     "name": "stdout",
     "output_type": "stream",
     "text": [
      "tensor([[[-1.2102, -0.3308,  0.5573],\n",
      "         [-1.3483,  0.5285,  0.3363],\n",
      "         [ 0.8820, -2.1798,  0.3621]],\n",
      "\n",
      "        [[ 0.3618,  1.4638, -0.5998],\n",
      "         [ 0.2639,  0.9406, -0.3971],\n",
      "         [ 0.1120,  0.7961, -0.2945]]])\n",
      "\n",
      "tensor([[[-1.4192, -0.5040,  0.4957],\n",
      "         [-0.9996,  0.8199,  0.6812],\n",
      "         [ 1.0946, -2.0008,  0.7139]],\n",
      "\n",
      "        [[ 0.6136,  1.2167, -0.5914],\n",
      "         [-0.0321,  1.2354, -0.4008],\n",
      "         [ 0.2624,  1.1269,  0.4031]]])\n"
     ]
    }
   ],
   "source": [
    "m_recons_tl = als.reconstruct_Three_Way_Tensor(A_tl[0], A_tl[1], A_tl[2])\n",
    "print(m_recons_tl)\n",
    "print()\n",
    "print(ones)"
   ]
  },
  {
   "cell_type": "code",
   "execution_count": 4,
   "metadata": {},
   "outputs": [],
   "source": [
    "ones = torch.randn((3, 64, 192))\n",
    "r = 190\n",
    "r = [50, 100, 150, 180, 190, 210]\n",
    "max_iter = 100"
   ]
  },
  {
   "cell_type": "code",
   "execution_count": 5,
   "metadata": {},
   "outputs": [],
   "source": [
    "f_l = []\n",
    "for index in range(len(r)):\n",
    "    _, _, f = als.compute_ALS(ones, max_iter, r[index])\n",
    "    f_l.append(f)"
   ]
  },
  {
   "cell_type": "code",
   "execution_count": 6,
   "metadata": {},
   "outputs": [
    {
     "data": {
      "image/png": "[encoded data removed]",
      "text/plain": [
       "<Figure size 720x720 with 1 Axes>"
      ]
     },
     "metadata": {
      "needs_background": "light"
     },
     "output_type": "display_data"
    }
   ],
   "source": [
    "import matplotlib.pyplot as plt\n",
    "plt.figure(figsize=(10, 10))\n",
    "colors = ['r', 'b', 'g', 'k', 'm', 'c']\n",
    "for index, f_list in enumerate(f_l):\n",
    "    x = []\n",
    "    y = []\n",
    "    clr = colors[index]\n",
    "    for i in f_list:\n",
    "        plt.scatter(i[0], i[1], c=clr)\n",
    "        x.append(i[0])\n",
    "        y.append(i[1])\n",
    "    lbl = \"rank : \"+str(r[index])\n",
    "    plt.plot(x, y, c=clr, label = lbl)\n",
    "plt.legend()\n",
    "plt.xlabel(\"Number of iterations\")\n",
    "plt.ylabel(\"Fit\")\n",
    "plt.grid()\n",
    "plt.show()"
   ]
  },
  {
   "cell_type": "code",
   "execution_count": null,
   "metadata": {},
   "outputs": [],
   "source": [
    "A, _, f = als.compute_ALS(ones, max_iter, 150)"
   ]
  },
  {
   "cell_type": "code",
   "execution_count": null,
   "metadata": {},
   "outputs": [],
   "source": [
    "print(torch.matrix_rank(A[2]))\n",
    "print(A[1].shape)"
   ]
  },
  {
   "cell_type": "code",
   "execution_count": null,
   "metadata": {},
   "outputs": [],
   "source": [
    "print(torch.matrix_rank(ones[0, :, :]))"
   ]
  },
  {
   "cell_type": "code",
   "execution_count": 21,
   "metadata": {},
   "outputs": [],
   "source": [
    "ones = torch.randn((2, 3, 3))\n",
    "r = [1, 2, 3]\n",
    "#r = [50, 100, 150, 180, 190, 210]\n",
    "max_iter = 100"
   ]
  },
  {
   "cell_type": "code",
   "execution_count": 22,
   "metadata": {},
   "outputs": [],
   "source": [
    "_, _, f1 = als.compute_ALS(ones, max_iter, 1)\n",
    "_, _, f2 = als.compute_ALS(ones, max_iter, 2)\n",
    "_, _, f3 = als.compute_ALS(ones, max_iter, 3)"
   ]
  },
  {
   "cell_type": "code",
   "execution_count": 34,
   "metadata": {},
   "outputs": [
    {
     "data": {
      "image/png": "[encoded data removed]",
      "text/plain": [
       "<Figure size 720x720 with 1 Axes>"
      ]
     },
     "metadata": {
      "needs_background": "light"
     },
     "output_type": "display_data"
    }
   ],
   "source": [
    "import matplotlib.pyplot as plt\n",
    "f_l = [f1, f2, f3]\n",
    "plt.figure(figsize=(10, 10))\n",
    "colors = ['r', 'b', 'g', 'k', 'm', 'c']\n",
    "for index, f_list in enumerate(f_l):\n",
    "    x = []\n",
    "    y = []\n",
    "    clr = colors[index]\n",
    "    for i in f_list:\n",
    "        plt.scatter(i[0], 1-i[1], c=clr)\n",
    "        x.append(i[0])\n",
    "        y.append(1-i[1])\n",
    "    lbl = \"rank : \"+str(r[index])\n",
    "    plt.plot(x, y, c=clr, label = lbl)\n",
    "plt.legend(fontsize=18)\n",
    "#ylbl = r\"\\TeX\\ Fit $\\frac{||X-M||^2}{||X||^2}$\"\n",
    "ylbl = \"Fit\"\n",
    "plt.xlabel(\"Number of iterations\", fontsize=20)\n",
    "plt.ylabel(ylbl, fontsize=20)\n",
    "plt.grid()\n",
    "plt.xticks(fontsize=20)\n",
    "plt.yticks(fontsize=20)\n",
    "plt.savefig(\"Multirank.png\", dpi=400)\n",
    "plt.show()"
   ]
  },
  {
   "cell_type": "code",
   "execution_count": null,
   "metadata": {},
   "outputs": [],
   "source": []
  }
 ],
 "metadata": {
  "kernelspec": {
   "display_name": "Python 3",
   "language": "python",
   "name": "python3"
  },
  "language_info": {
   "codemirror_mode": {
    "name": "ipython",
    "version": 3
   },
   "file_extension": ".py",
   "mimetype": "text/x-python",
   "name": "python",
   "nbconvert_exporter": "python",
   "pygments_lexer": "ipython3",
   "version": "3.8.3"
  }
 },
 "nbformat": 4,
 "nbformat_minor": 4
}
