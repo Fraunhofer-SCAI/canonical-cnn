{
 "cells": [
  {
   "cell_type": "code",
   "execution_count": 1,
   "metadata": {},
   "outputs": [],
   "source": [
    "import torch\n",
    "import numpy as np"
   ]
  },
  {
   "cell_type": "code",
   "execution_count": 20,
   "metadata": {},
   "outputs": [],
   "source": [
    "A = torch.from_numpy(np.array([[1, 2],\n",
    "              [3, 4]]))\n",
    "B = torch.from_numpy(np.array([[1, 1],\n",
    "              [2, 3]]))\n",
    "C = torch.from_numpy(np.array([[4, 3],\n",
    "              [1, 2]]))\n",
    "D = torch.from_numpy(np.array([[1, 2],\n",
    "              [1, 2]]))"
   ]
  },
  {
   "cell_type": "code",
   "execution_count": 3,
   "metadata": {},
   "outputs": [],
   "source": [
    "Y = torch.ger(A[:, 0], B[:, 0])"
   ]
  },
  {
   "cell_type": "code",
   "execution_count": 12,
   "metadata": {},
   "outputs": [],
   "source": [
    "X = Y.unsqueeze(2)"
   ]
  },
  {
   "cell_type": "code",
   "execution_count": 14,
   "metadata": {},
   "outputs": [
    {
     "name": "stdout",
     "output_type": "stream",
     "text": [
      "tensor([[[1],\n",
      "         [2]],\n",
      "\n",
      "        [[3],\n",
      "         [6]]])\n",
      "torch.Size([2, 2, 1])\n"
     ]
    }
   ],
   "source": [
    "print(X)\n",
    "print(X.shape)"
   ]
  },
  {
   "cell_type": "code",
   "execution_count": 16,
   "metadata": {},
   "outputs": [
    {
     "name": "stdout",
     "output_type": "stream",
     "text": [
      "tensor([[[ 4,  1],\n",
      "         [ 8,  2]],\n",
      "\n",
      "        [[12,  3],\n",
      "         [24,  6]]])\n",
      "torch.Size([2, 2, 2])\n"
     ]
    }
   ],
   "source": [
    "X_1 = X*C[:, 0]\n",
    "print(X_1)\n",
    "print(X_1.shape)"
   ]
  },
  {
   "cell_type": "code",
   "execution_count": 17,
   "metadata": {},
   "outputs": [
    {
     "name": "stdout",
     "output_type": "stream",
     "text": [
      "tensor([[[[ 4,  1],\n",
      "          [ 8,  2]],\n",
      "\n",
      "         [[12,  3],\n",
      "          [24,  6]]]])\n",
      "torch.Size([1, 2, 2, 2])\n"
     ]
    }
   ],
   "source": [
    "X_2 = X_1.unsqueeze(0)\n",
    "print(X_2)\n",
    "print(X_2.shape)"
   ]
  },
  {
   "cell_type": "code",
   "execution_count": 18,
   "metadata": {},
   "outputs": [
    {
     "name": "stdout",
     "output_type": "stream",
     "text": [
      "tensor([[[[[ 4,  1],\n",
      "           [ 8,  2]],\n",
      "\n",
      "          [[12,  3],\n",
      "           [24,  6]]]]])\n",
      "torch.Size([1, 1, 2, 2, 2])\n"
     ]
    }
   ],
   "source": [
    "X_3 = X_2.unsqueeze(0)\n",
    "print(X_3)\n",
    "print(X_3.shape)"
   ]
  },
  {
   "cell_type": "code",
   "execution_count": 31,
   "metadata": {},
   "outputs": [
    {
     "name": "stdout",
     "output_type": "stream",
     "text": [
      "tensor([[[ 4,  1],\n",
      "         [ 8,  2]],\n",
      "\n",
      "        [[12,  3],\n",
      "         [24,  6]]])\n",
      "torch.Size([2, 2, 2])\n",
      "tensor([[[ 6,  4],\n",
      "         [18, 12]],\n",
      "\n",
      "        [[12,  8],\n",
      "         [36, 24]]])\n",
      "torch.Size([2, 2, 2])\n",
      "tensor([[[10,  5],\n",
      "         [26, 14]],\n",
      "\n",
      "        [[24, 11],\n",
      "         [60, 30]]])\n",
      "torch.Size([2, 2, 2])\n"
     ]
    }
   ],
   "source": [
    "X_t = 0\n",
    "r = 2\n",
    "for i in range(2):\n",
    "    Y = torch.ger(A[:, i], B[:, i]).unsqueeze(2)*C[:, i].unsqueeze(0).unsqueeze(0)\n",
    "    print(Y)\n",
    "    print(Y.shape)\n",
    "    X_t += Y\n",
    "print(X_t)\n",
    "print(X_t.shape)"
   ]
  },
  {
   "cell_type": "code",
   "execution_count": 64,
   "metadata": {},
   "outputs": [
    {
     "name": "stdout",
     "output_type": "stream",
     "text": [
      "torch.Size([2, 2, 2, 2])\n"
     ]
    }
   ],
   "source": [
    "Y = torch.ger(A[:, 0], B[:, 0]).unsqueeze(2)*C[:, 0]\n",
    "#print(Y.shape)\n",
    "Y_1 = Y.unsqueeze(3)\n",
    "Y_2 = Y_1*D[:, 0]\n",
    "#print(Y_2.shape)\n",
    "X_t = 0\n",
    "r = 2\n",
    "for i in range(2):\n",
    "    Y = (torch.ger(A[:, i], B[:, i]).unsqueeze(2)*C[:, i]).unsqueeze(3)*D[:, i].unsqueeze(0).unsqueeze(0)\n",
    "    X_t += Y\n",
    "print(X_t.shape)"
   ]
  },
  {
   "cell_type": "code",
   "execution_count": null,
   "metadata": {},
   "outputs": [],
   "source": []
  }
 ],
 "metadata": {
  "kernelspec": {
   "display_name": "Python 3",
   "language": "python",
   "name": "python3"
  },
  "language_info": {
   "codemirror_mode": {
    "name": "ipython",
    "version": 3
   },
   "file_extension": ".py",
   "mimetype": "text/x-python",
   "name": "python",
   "nbconvert_exporter": "python",
   "pygments_lexer": "ipython3",
   "version": "3.8.3"
  }
 },
 "nbformat": 4,
 "nbformat_minor": 4
}
