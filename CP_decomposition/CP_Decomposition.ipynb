{
 "cells": [
  {
   "cell_type": "code",
   "execution_count": 1,
   "metadata": {},
   "outputs": [],
   "source": [
    "import numpy as np\n",
    "from scipy.linalg import khatri_rao\n",
    "import matplotlib.pyplot as plt\n",
    "import tensorly as tl"
   ]
  },
  {
   "cell_type": "markdown",
   "metadata": {},
   "source": [
    "## Tensor unfolding \n",
    "Mode-0, Mode-1, Mode-2 Unfolding"
   ]
  },
  {
   "cell_type": "code",
   "execution_count": 2,
   "metadata": {},
   "outputs": [],
   "source": [
    "class unfold_Tensor():\n",
    "    def mode_zero_unfold(self, tensor):\n",
    "        new_matrix = tensor[0]\n",
    "        number, _, _ = tensor.shape\n",
    "        for i in range(1, number):\n",
    "             new_matrix = np.hstack((new_matrix, tensor[i]))\n",
    "        return new_matrix\n",
    "\n",
    "    def mode_one_unfold(self, tensor):\n",
    "        new_matrix = tensor[0].T\n",
    "        number, _, _ = tensor.shape\n",
    "        for i in range(1, number):\n",
    "             new_matrix = np.hstack((new_matrix, tensor[i].T))\n",
    "        return new_matrix\n",
    "\n",
    "    def mode_two_unfold(self, tensor):\n",
    "        new_matrix = tensor[0].T.flatten()\n",
    "        number, _, _ = tensor.shape\n",
    "        for i in range(1, number):\n",
    "            new_matrix = np.vstack((new_matrix, tensor[i].T.flatten()))\n",
    "        return new_matrix\n",
    "\n",
    "    def tensor_unfold(self, tensor, mode):\n",
    "        unfold_tensor = None\n",
    "        if mode == 0:\n",
    "            unfold_tensor = self.mode_zero_unfold(tensor)\n",
    "        elif mode == 1:\n",
    "            unfold_tensor = self.mode_one_unfold(tensor)\n",
    "        elif mode == 2:\n",
    "            unfold_tensor = self.mode_two_unfold(tensor)\n",
    "        else:\n",
    "            print(\"Wrong mode value please enter mode between 0, 1 and 2 only.\")\n",
    "        return unfold_tensor"
   ]
  },
  {
   "cell_type": "code",
   "execution_count": 3,
   "metadata": {},
   "outputs": [],
   "source": [
    "#A = np.array([[[0, 2, 4, 6], [8, 10, 12, 14], [16, 18, 20, 22]], \n",
    "              #[[1, 3, 5, 7], [9, 11, 13, 15], [17, 19, 21, 23]]])\n",
    "#u = unfold_Tensor()\n",
    "#print(\"Tensor [frontal slices]: \")\n",
    "#print(A)\n",
    "#print()\n",
    "#X_0 = u.tensor_unfold(A, 0)\n",
    "#print(\"Mode-0 unfolding...\")\n",
    "#print(X_0)\n",
    "#print()\n",
    "#X_1 = u.tensor_unfold(A, 1)\n",
    "#print(\"Mode-1 unfolding...\")\n",
    "#print(X_1)\n",
    "#print()\n",
    "#X_2 = u.tensor_unfold(A, 2)\n",
    "#print(\"Mode-2 unfolding...\")\n",
    "#print(X_2)"
   ]
  },
  {
   "cell_type": "markdown",
   "metadata": {},
   "source": [
    "## CANDECOMP/PARAFAC Decomposition:"
   ]
  },
  {
   "cell_type": "code",
   "execution_count": 4,
   "metadata": {},
   "outputs": [],
   "source": [
    "def reconstruct_estimation_tensor(a, b, c, input_shape):\n",
    "    M = np.zeros(input_shape)\n",
    "    if a.shape[1] == b.shape[1] == c.shape[1]:\n",
    "        pass\n",
    "    else:\n",
    "        print(\"Columns of a, b, c matrices must be equal\")\n",
    "        return None\n",
    "    for col_index in range(0, a.shape[1]):\n",
    "        a_tilde = np.asarray([a[:, col_index]]).T\n",
    "        b_tilde = np.asarray([b[:, col_index]]).T\n",
    "        c_tilde = np.asarray([c[:, col_index]]).T\n",
    "        result_1 = khatri_rao(a_tilde, b_tilde)\n",
    "        result_2 = khatri_rao(result_1,c_tilde)\n",
    "        result_2 = np.reshape(result_2, input_shape)\n",
    "        M += result_2\n",
    "    return M\n",
    "        \n",
    "def CP_Decomposition(tensor, rank, max_iter):\n",
    "    error = []\n",
    "    u = unfold_Tensor()\n",
    "    a = np.random.random((rank, tensor.shape[0]))\n",
    "    b = np.random.random((rank, tensor.shape[1]))\n",
    "    c = np.random.random((rank, tensor.shape[2]))\n",
    "\n",
    "    for epoch in range(max_iter):\n",
    "        input_a = khatri_rao(b.T, c.T)\n",
    "        target_a = u.tensor_unfold(tensor, mode=2).T\n",
    "       # print(input_a.T.dot(input_a).shape)\n",
    "        #print(input_a.T.dot(target_a).shape)\n",
    "        a = np.linalg.solve(input_a.T.dot(input_a), input_a.T.dot(target_a))\n",
    "        input_b = khatri_rao(a.T, c.T)\n",
    "        target_b = u.tensor_unfold(tensor, mode=0).T\n",
    "        #print(input_b.T.dot(input_b).shape)\n",
    "        #print(input_b.T.dot(target_b).shape)\n",
    "        b = np.linalg.solve(input_b.T.dot(input_b), input_b.T.dot(target_b))\n",
    "        input_c = khatri_rao(a.T, b.T)\n",
    "        target_c = u.tensor_unfold(tensor, mode=1).T\n",
    "        #print(input_c.T.dot(input_c).shape)\n",
    "        #print(input_c.T.dot(target_c).shape)\n",
    "        c = np.linalg.solve(input_c.T.dot(input_c), input_c.T.dot(target_c))\n",
    "        M = reconstruct_estimation_tensor(a.T, b.T, c.T, tensor.shape)\n",
    "        sse_error = (np.linalg.norm((tensor-M)))**2\n",
    "        error.append(sse_error)\n",
    "        if epoch %50 == 0:\n",
    "            print(\"Epoch: \",epoch, \"Sum of squared error: \", sse_error)\n",
    "    return a.T, b.T, c.T, error"
   ]
  },
  {
   "cell_type": "code",
   "execution_count": 5,
   "metadata": {},
   "outputs": [],
   "source": [
    "#input_shape = (3, 6, 5)\n",
    "#A = np.random.random(input_shape)\n",
    "#max_iter = 300"
   ]
  },
  {
   "cell_type": "code",
   "execution_count": 6,
   "metadata": {
    "scrolled": false
   },
   "outputs": [],
   "source": [
    "#a, b, c, error = CP_Decomposition(A, 3, max_iter)\n",
    "#M = reconstruct_estimation_tensor(a, b, c, input_shape)\n",
    "#plt.figure(figsize=(10, 10))\n",
    "#plt.plot(error)\n",
    "#plt.grid()\n",
    "#plt.xlabel(\"# of Iterations\")\n",
    "#plt.ylabel(\"SSE\")\n",
    "#plt.show()"
   ]
  },
  {
   "cell_type": "code",
   "execution_count": 7,
   "metadata": {},
   "outputs": [],
   "source": [
    "#print(\"Difference between original and reconstructed matrix\")\n",
    "#print(A-M)"
   ]
  },
  {
   "cell_type": "markdown",
   "metadata": {},
   "source": [
    "## Pytorch implementation of 3 way decomposition"
   ]
  },
  {
   "cell_type": "code",
   "execution_count": 8,
   "metadata": {},
   "outputs": [],
   "source": [
    "import torch\n",
    "import tensorly"
   ]
  },
  {
   "cell_type": "code",
   "execution_count": 9,
   "metadata": {},
   "outputs": [],
   "source": [
    "class unfold_Tensor():\n",
    "    def mode_zero_unfold(self, tensor):\n",
    "        new_matrix = tensor[0]\n",
    "        for i in range(1, tensor.shape[0]):\n",
    "            new_matrix = torch.cat((new_matrix, tensor[i]), 1)\n",
    "        return new_matrix\n",
    "\n",
    "    def mode_one_unfold(self, tensor):\n",
    "        new_matrix = tensor[0].T\n",
    "        for i in range(1, tensor.shape[0]):\n",
    "            new_matrix = torch.cat((new_matrix, tensor[i].T), 1)\n",
    "        return new_matrix\n",
    "\n",
    "    def mode_two_unfold(self, tensor):\n",
    "        x, y, z = tensor.shape\n",
    "        new_matrix = torch.flatten(tensor[0].T)\n",
    "        for i in range(1, tensor.shape[0]):\n",
    "            new_matrix = torch.cat((new_matrix, torch.flatten(tensor[i].T)), dim=0)\n",
    "        new_matrix = torch.reshape(new_matrix, (x, y*z))\n",
    "        return new_matrix\n",
    "\n",
    "    def tensor_unfold(self, tensor, mode):\n",
    "        unfold_tensor = None\n",
    "        if mode == 0:\n",
    "            unfold_tensor = self.mode_zero_unfold(tensor)\n",
    "        elif mode == 1:\n",
    "            unfold_tensor = self.mode_one_unfold(tensor)\n",
    "        elif mode == 2:\n",
    "            unfold_tensor = self.mode_two_unfold(tensor)\n",
    "        else:\n",
    "            print(\"Wrong mode value please enter mode between 0, 1 and 2 only.\")\n",
    "        return unfold_tensor"
   ]
  },
  {
   "cell_type": "code",
   "execution_count": 10,
   "metadata": {},
   "outputs": [
    {
     "name": "stdout",
     "output_type": "stream",
     "text": [
      "Type of A before conv:  <class 'numpy.ndarray'>\n",
      "Type of A after conv:  <class 'torch.Tensor'>\n",
      "Tensor [frontal slices]: \n",
      "tensor([[[ 0,  2,  4,  6],\n",
      "         [ 8, 10, 12, 14],\n",
      "         [16, 18, 20, 22]],\n",
      "\n",
      "        [[ 0,  2,  4,  6],\n",
      "         [ 8, 10, 12, 14],\n",
      "         [16, 18, 20, 22]],\n",
      "\n",
      "        [[ 1,  3,  5,  7],\n",
      "         [ 9, 11, 13, 15],\n",
      "         [17, 19, 21, 23]]])\n",
      "\n",
      "Mode-0 unfolding...\n",
      "tensor([[ 0,  2,  4,  6,  0,  2,  4,  6,  1,  3,  5,  7],\n",
      "        [ 8, 10, 12, 14,  8, 10, 12, 14,  9, 11, 13, 15],\n",
      "        [16, 18, 20, 22, 16, 18, 20, 22, 17, 19, 21, 23]])\n",
      "\n",
      "Mode-1 unfolding...\n",
      "tensor([[ 0,  8, 16,  0,  8, 16,  1,  9, 17],\n",
      "        [ 2, 10, 18,  2, 10, 18,  3, 11, 19],\n",
      "        [ 4, 12, 20,  4, 12, 20,  5, 13, 21],\n",
      "        [ 6, 14, 22,  6, 14, 22,  7, 15, 23]])\n",
      "\n",
      "Mode-2 unfolding...\n",
      "tensor([[ 0,  8, 16,  2, 10, 18,  4, 12, 20,  6, 14, 22],\n",
      "        [ 0,  8, 16,  2, 10, 18,  4, 12, 20,  6, 14, 22],\n",
      "        [ 1,  9, 17,  3, 11, 19,  5, 13, 21,  7, 15, 23]])\n"
     ]
    }
   ],
   "source": [
    "A = np.array([[[0, 2, 4, 6], [8, 10, 12, 14], [16, 18, 20, 22]],\n",
    "              [[0, 2, 4, 6], [8, 10, 12, 14], [16, 18, 20, 22]],\n",
    "              [[1, 3, 5, 7], [9, 11, 13, 15], [17, 19, 21, 23]]])\n",
    "print(\"Type of A before conv: \", type(A))\n",
    "A = torch.from_numpy(A)\n",
    "print(\"Type of A after conv: \", type(A))\n",
    "#A = torch.rand(3, 6, 5)\n",
    "u = unfold_Tensor()\n",
    "print(\"Tensor [frontal slices]: \")\n",
    "print(A)\n",
    "print()\n",
    "X_0 = u.tensor_unfold(A, 0)\n",
    "print(\"Mode-0 unfolding...\")\n",
    "print(X_0)\n",
    "print()\n",
    "X_1 = u.tensor_unfold(A, 1)\n",
    "print(\"Mode-1 unfolding...\")\n",
    "print(X_1)\n",
    "print()\n",
    "X_2 = u.tensor_unfold(A, 2)\n",
    "print(\"Mode-2 unfolding...\")\n",
    "print(X_2)"
   ]
  },
  {
   "cell_type": "code",
   "execution_count": 11,
   "metadata": {},
   "outputs": [],
   "source": [
    "def reconstruct_estimation_tensor(a, b, c, input_shape):\n",
    "    M = np.zeros(input_shape)\n",
    "    a = a.numpy()\n",
    "    b = b.numpy()\n",
    "    c = c.numpy()\n",
    "    if a.shape[1] == b.shape[1] == c.shape[1]:\n",
    "        pass\n",
    "    else:\n",
    "        print(\"Columns of a, b, c matrices must be equal\")\n",
    "        return None\n",
    "    for col_index in range(0, a.shape[1]):\n",
    "        a_tilde = np.asarray([a[:, col_index]]).T\n",
    "        b_tilde = np.asarray([b[:, col_index]]).T\n",
    "        c_tilde = np.asarray([c[:, col_index]]).T\n",
    "        result_1 = khatri_rao(a_tilde, b_tilde)\n",
    "        result_2 = khatri_rao(result_1,c_tilde)\n",
    "        result_2 = np.reshape(result_2, input_shape)\n",
    "        M += result_2\n",
    "    return M\n",
    "        \n",
    "def CP_Decomposition(tensor, rank, max_iter):\n",
    "    error = []\n",
    "    u = unfold_Tensor()\n",
    "    a = torch.rand((rank, tensor.shape[0]))\n",
    "    b = torch.rand((rank, tensor.shape[1]))\n",
    "    c = torch.rand((rank, tensor.shape[2]))\n",
    "\n",
    "    for epoch in range(max_iter):\n",
    "        input_a = khatri_rao(b.T, c.T)\n",
    "        input_a = torch.from_numpy(input_a)\n",
    "        target_a = u.tensor_unfold(tensor, mode=2).T\n",
    "        r1 = torch.matmul(input_a.T,input_a)\n",
    "        r2 = torch.matmul(input_a.T,target_a)\n",
    "        a = torch.solve(r2, r1)[0]\n",
    "\n",
    "        input_b = khatri_rao(a.T, c.T)\n",
    "        input_b = torch.from_numpy(input_b)\n",
    "        target_b = u.tensor_unfold(tensor, mode=0).T\n",
    "        r1 = torch.matmul(input_b.T,input_b)\n",
    "        r2 = torch.matmul(input_b.T,target_b)\n",
    "        b = torch.solve(r2, r1)[0]\n",
    "\n",
    "        input_c = khatri_rao(a.T, b.T)\n",
    "        input_c = torch.from_numpy(input_c)\n",
    "        target_c = u.tensor_unfold(tensor, mode=1).T\n",
    "        r1 = torch.matmul(input_c.T,input_c)\n",
    "        r2 = torch.matmul(input_c.T,target_c)\n",
    "        c = torch.solve(r2, r1)[0]\n",
    "\n",
    "        #M = reconstruct_estimation_tensor(a.T, b.T, c.T, tensor.shape)\n",
    "        #M = torch.from_numpy(M)\n",
    "        #sse_error = (np.linalg.norm((tensor-M)))**2\n",
    "        #error.append(sse_error)\n",
    "        #if epoch %50 == 0:\n",
    "            #print(\"Epoch: \",epoch, \"Sum of squared error: \", sse_error)\n",
    "    return a.T, b.T, c.T, error"
   ]
  },
  {
   "cell_type": "code",
   "execution_count": 12,
   "metadata": {},
   "outputs": [],
   "source": [
    "input_shape = (3, 6, 5)\n",
    "torch.manual_seed(0)\n",
    "A = torch.rand(input_shape)\n",
    "max_iter = 1"
   ]
  },
  {
   "cell_type": "code",
   "execution_count": 13,
   "metadata": {},
   "outputs": [],
   "source": [
    "a, b, c, error = CP_Decomposition(A, 3, max_iter)"
   ]
  },
  {
   "cell_type": "code",
   "execution_count": 14,
   "metadata": {
    "scrolled": true
   },
   "outputs": [
    {
     "name": "stdout",
     "output_type": "stream",
     "text": [
      "tensor([[0.8325, 0.6978, 0.6329],\n",
      "        [0.6378, 0.2375, 1.1617],\n",
      "        [0.7149, 1.7045, 0.5741]])\n",
      "tensor([[ 0.4722,  0.5958,  0.2462],\n",
      "        [ 1.3109,  0.0173,  0.1455],\n",
      "        [ 0.7875,  0.1996, -0.0884],\n",
      "        [ 1.0278,  0.1739, -0.0429],\n",
      "        [ 1.0343,  0.1170,  0.5939],\n",
      "        [ 0.5967,  0.2952,  0.0787]])\n",
      "tensor([[ 0.4740,  0.5082,  0.2890],\n",
      "        [ 0.5949,  0.5263,  0.9597],\n",
      "        [ 0.7614, -0.1970,  0.1716],\n",
      "        [ 0.4875,  0.4487,  0.2581],\n",
      "        [ 0.5683,  0.3464,  0.4223]])\n"
     ]
    }
   ],
   "source": [
    "print(a)\n",
    "print(b)\n",
    "print(c)"
   ]
  },
  {
   "cell_type": "markdown",
   "metadata": {},
   "source": [
    "## New implementation\n",
    "Define A, B and C. Update these matrices based on the error from $X-\\tilde X$"
   ]
  },
  {
   "cell_type": "code",
   "execution_count": 27,
   "metadata": {},
   "outputs": [],
   "source": [
    "def reconstruct(A,B,C):\n",
    "    X_tilde = 0\n",
    "    r = A.shape[1]\n",
    "    for i in range(r):\n",
    "        X_tilde += torch.ger(A[:,i], B[:,i]).unsqueeze(2)*C[:,i].unsqueeze(0).unsqueeze(0)\n",
    "    return X_tilde\n",
    "\n",
    "def CP_decomposition(X, r, max_iter, lr):\n",
    "    A = torch.randn((X.shape[0],r), requires_grad=True)\n",
    "    B = torch.randn((X.shape[1],r), requires_grad=True)\n",
    "    C = torch.randn((X.shape[2],r), requires_grad=True)\n",
    "    factors = [A, B, C]\n",
    "    opt = torch.optim.Adam(factors, lr=lr)\n",
    "    losses = []\n",
    "    for i in range(max_iter):    \n",
    "        X_tilde = reconstruct(*factors)\n",
    "    \n",
    "        opt.zero_grad()\n",
    "        #print(X.shape)\n",
    "        #print(X_tilde.shape)\n",
    "        loss = torch.mean((X - X_tilde)**2)\n",
    "        #print(loss)\n",
    "        losses.append(loss.item())\n",
    "\n",
    "        loss.backward(retain_graph=True)\n",
    "        opt.step()\n",
    "    return losses, factors"
   ]
  },
  {
   "cell_type": "code",
   "execution_count": 42,
   "metadata": {},
   "outputs": [
    {
     "name": "stdout",
     "output_type": "stream",
     "text": [
      "Factors are: \n",
      "tensor([[ 0.9349],\n",
      "        [ 1.0063],\n",
      "        [-0.1104]], requires_grad=True)\n",
      "tensor([[-0.3328],\n",
      "        [-0.0632],\n",
      "        [-0.4016],\n",
      "        [-1.0601],\n",
      "        [-0.7033],\n",
      "        [-1.5164]], requires_grad=True)\n",
      "tensor([[-0.2694],\n",
      "        [ 0.6326],\n",
      "        [ 0.3870],\n",
      "        [-0.6757],\n",
      "        [-1.3487]], requires_grad=True)\n"
     ]
    }
   ],
   "source": [
    "r = 1\n",
    "max_iter = 10000\n",
    "lr = 0.1\n",
    "torch.manual_seed(0)\n",
    "input_val = torch.randn((3,6,5))\n",
    "outputs = CP_decomposition(input_val, r, max_iter, lr)\n",
    "loss = outputs[0]\n",
    "factors = outputs[1]\n",
    "print(\"Factors are: \")\n",
    "print(factors[0])\n",
    "print(factors[1])\n",
    "print(factors[2])"
   ]
  },
  {
   "cell_type": "markdown",
   "metadata": {},
   "source": [
    "## Tensorly outputs"
   ]
  },
  {
   "cell_type": "code",
   "execution_count": 33,
   "metadata": {},
   "outputs": [],
   "source": [
    "from tensorly.decomposition import parafac"
   ]
  },
  {
   "cell_type": "code",
   "execution_count": 38,
   "metadata": {},
   "outputs": [],
   "source": [
    "w, factors = parafac(tensorly.tensor(input_val), 1, 10000, init='random', random_state=0)"
   ]
  },
  {
   "cell_type": "code",
   "execution_count": 39,
   "metadata": {},
   "outputs": [
    {
     "name": "stdout",
     "output_type": "stream",
     "text": [
      "[1.]\n"
     ]
    }
   ],
   "source": [
    "print(w)"
   ]
  },
  {
   "cell_type": "code",
   "execution_count": 43,
   "metadata": {},
   "outputs": [
    {
     "name": "stdout",
     "output_type": "stream",
     "text": [
      "Factors are: \n",
      "tensor([[ 0.9349],\n",
      "        [ 1.0063],\n",
      "        [-0.1104]], requires_grad=True)\n",
      "###\n",
      "tensor([[-0.3328],\n",
      "        [-0.0632],\n",
      "        [-0.4016],\n",
      "        [-1.0601],\n",
      "        [-0.7033],\n",
      "        [-1.5164]], requires_grad=True)\n",
      "###\n",
      "tensor([[-0.2694],\n",
      "        [ 0.6326],\n",
      "        [ 0.3870],\n",
      "        [-0.6757],\n",
      "        [-1.3487]], requires_grad=True)\n"
     ]
    }
   ],
   "source": [
    "print(\"Factors are: \")\n",
    "print(factors[0])\n",
    "print(\"###\")\n",
    "print(factors[1])\n",
    "print(\"###\")\n",
    "print(factors[2])"
   ]
  }
 ],
 "metadata": {
  "kernelspec": {
   "display_name": "Python 3",
   "language": "python",
   "name": "python3"
  },
  "language_info": {
   "codemirror_mode": {
    "name": "ipython",
    "version": 3
   },
   "file_extension": ".py",
   "mimetype": "text/x-python",
   "name": "python",
   "nbconvert_exporter": "python",
   "pygments_lexer": "ipython3",
   "version": "3.8.3"
  }
 },
 "nbformat": 4,
 "nbformat_minor": 4
}
