{
 "cells": [
  {
   "cell_type": "code",
   "execution_count": 1,
   "metadata": {},
   "outputs": [],
   "source": [
    "import numpy as np\n",
    "from scipy.linalg import khatri_rao\n",
    "import matplotlib.pyplot as plt"
   ]
  },
  {
   "cell_type": "markdown",
   "metadata": {},
   "source": [
    "## Tensor unfolding \n",
    "Mode-0, Mode-1, Mode-2 Unfolding"
   ]
  },
  {
   "cell_type": "code",
   "execution_count": 31,
   "metadata": {},
   "outputs": [],
   "source": [
    "class unfold_Tensor():\n",
    "    def mode_zero_unfold(self, tensor):\n",
    "        new_matrix = tensor[0]\n",
    "        number, _, _ = tensor.shape\n",
    "        for i in range(1, number):\n",
    "             new_matrix = np.hstack((new_matrix, tensor[i]))\n",
    "        return new_matrix\n",
    "\n",
    "    def mode_one_unfold(self, tensor):\n",
    "        new_matrix = tensor[0].T\n",
    "        number, _, _ = tensor.shape\n",
    "        for i in range(1, number):\n",
    "             new_matrix = np.hstack((new_matrix, tensor[i].T))\n",
    "        return new_matrix\n",
    "\n",
    "    def mode_two_unfold(self, tensor):\n",
    "        new_matrix = tensor[0].T.flatten()\n",
    "        number, _, _ = tensor.shape\n",
    "        for i in range(1, number):\n",
    "            new_matrix = np.vstack((new_matrix, tensor[i].T.flatten()))\n",
    "        return new_matrix\n",
    "\n",
    "    def tensor_unfold(self, tensor, mode):\n",
    "        unfold_tensor = None\n",
    "        if mode == 0:\n",
    "            unfold_tensor = self.mode_zero_unfold(tensor)\n",
    "        elif mode == 1:\n",
    "            unfold_tensor = self.mode_one_unfold(tensor)\n",
    "        elif mode == 2:\n",
    "            unfold_tensor = self.mode_two_unfold(tensor)\n",
    "        else:\n",
    "            print(\"Wrong mode value please enter mode between 0, 1 and 2 only.\")\n",
    "        return unfold_tensor"
   ]
  },
  {
   "cell_type": "code",
   "execution_count": 32,
   "metadata": {},
   "outputs": [
    {
     "name": "stdout",
     "output_type": "stream",
     "text": [
      "Tensor [frontal slices]: \n",
      "[[[ 0  2  4  6]\n",
      "  [ 8 10 12 14]\n",
      "  [16 18 20 22]]\n",
      "\n",
      " [[ 1  3  5  7]\n",
      "  [ 9 11 13 15]\n",
      "  [17 19 21 23]]]\n",
      "\n",
      "Mode-0 unfolding...\n",
      "[[ 0  2  4  6  1  3  5  7]\n",
      " [ 8 10 12 14  9 11 13 15]\n",
      " [16 18 20 22 17 19 21 23]]\n",
      "\n",
      "Mode-1 unfolding...\n",
      "[[ 0  8 16  1  9 17]\n",
      " [ 2 10 18  3 11 19]\n",
      " [ 4 12 20  5 13 21]\n",
      " [ 6 14 22  7 15 23]]\n",
      "\n",
      "Mode-2 unfolding...\n",
      "[[ 0  8 16  2 10 18  4 12 20  6 14 22]\n",
      " [ 1  9 17  3 11 19  5 13 21  7 15 23]]\n"
     ]
    }
   ],
   "source": [
    "A = np.array([[[0, 2, 4, 6], [8, 10, 12, 14], [16, 18, 20, 22]], \n",
    "              [[1, 3, 5, 7], [9, 11, 13, 15], [17, 19, 21, 23]]])\n",
    "u = unfold_Tensor()\n",
    "print(\"Tensor [frontal slices]: \")\n",
    "print(A)\n",
    "print()\n",
    "X_0 = u.tensor_unfold(A, 0)\n",
    "print(\"Mode-0 unfolding...\")\n",
    "print(X_0)\n",
    "print()\n",
    "X_1 = u.tensor_unfold(A, 1)\n",
    "print(\"Mode-1 unfolding...\")\n",
    "print(X_1)\n",
    "print()\n",
    "X_2 = u.tensor_unfold(A, 2)\n",
    "print(\"Mode-2 unfolding...\")\n",
    "print(X_2)"
   ]
  },
  {
   "cell_type": "markdown",
   "metadata": {},
   "source": [
    "## CANDECOMP/PARAFAC Decomposition:"
   ]
  },
  {
   "cell_type": "code",
   "execution_count": 36,
   "metadata": {},
   "outputs": [],
   "source": [
    "def reconstruct_estimation_tensor(a, b, c, input_shape):\n",
    "    M = np.zeros(input_shape)\n",
    "    if a.shape[1] == b.shape[1] == c.shape[1]:\n",
    "        pass\n",
    "    else:\n",
    "        print(\"Columns of a, b, c matrices must be equal\")\n",
    "        return None\n",
    "    for col_index in range(0, a.shape[1]):\n",
    "        a_tilde = np.asarray([a[:, col_index]]).T\n",
    "        b_tilde = np.asarray([b[:, col_index]]).T\n",
    "        c_tilde = np.asarray([c[:, col_index]]).T\n",
    "        result_1 = khatri_rao(a_tilde, b_tilde)\n",
    "        result_2 = khatri_rao(result_1,c_tilde)\n",
    "        result_2 = np.reshape(result_2, input_shape)\n",
    "        M += result_2\n",
    "    return M\n",
    "        \n",
    "def CP_Decomposition(tensor, rank, max_iter):\n",
    "    error = []\n",
    "    u = unfold_Tensor()\n",
    "    a = np.random.random((rank, tensor.shape[0]))\n",
    "    b = np.random.random((rank, tensor.shape[1]))\n",
    "    c = np.random.random((rank, tensor.shape[2]))\n",
    "\n",
    "    for epoch in range(max_iter):\n",
    "        input_a = khatri_rao(b.T, c.T)\n",
    "        target_a = u.tensor_unfold(tensor, mode=2).T\n",
    "       # print(input_a.T.dot(input_a).shape)\n",
    "        #print(input_a.T.dot(target_a).shape)\n",
    "        a = np.linalg.solve(input_a.T.dot(input_a), input_a.T.dot(target_a))\n",
    "        input_b = khatri_rao(a.T, c.T)\n",
    "        target_b = u.tensor_unfold(tensor, mode=0).T\n",
    "        #print(input_b.T.dot(input_b).shape)\n",
    "        #print(input_b.T.dot(target_b).shape)\n",
    "        b = np.linalg.solve(input_b.T.dot(input_b), input_b.T.dot(target_b))\n",
    "        input_c = khatri_rao(a.T, b.T)\n",
    "        target_c = u.tensor_unfold(tensor, mode=1).T\n",
    "        #print(input_c.T.dot(input_c).shape)\n",
    "        #print(input_c.T.dot(target_c).shape)\n",
    "        c = np.linalg.solve(input_c.T.dot(input_c), input_c.T.dot(target_c))\n",
    "        M = reconstruct_estimation_tensor(a.T, b.T, c.T, tensor.shape)\n",
    "        sse_error = (np.linalg.norm((tensor-M)))**2\n",
    "        error.append(sse_error)\n",
    "        if epoch %50 == 0:\n",
    "            print(\"Epoch: \",epoch, \"Sum of squared error: \", sse_error)\n",
    "    return a.T, b.T, c.T, error"
   ]
  },
  {
   "cell_type": "code",
   "execution_count": 43,
   "metadata": {},
   "outputs": [],
   "source": [
    "input_shape = (3, 6, 5)\n",
    "A = np.random.random(input_shape)\n",
    "max_iter = 300"
   ]
  },
  {
   "cell_type": "code",
   "execution_count": 58,
   "metadata": {
    "scrolled": false
   },
   "outputs": [
    {
     "name": "stdout",
     "output_type": "stream",
     "text": [
      "Epoch:  0 Sum of squared error:  4.295690856409684\n",
      "Epoch:  50 Sum of squared error:  3.9747840584975482\n",
      "Epoch:  100 Sum of squared error:  3.7699370957201404\n",
      "Epoch:  150 Sum of squared error:  4.131661307800996\n",
      "Epoch:  200 Sum of squared error:  3.7541371484759765\n",
      "Epoch:  250 Sum of squared error:  3.8383036054095006\n"
     ]
    },
    {
     "data": {
      "image/png": "[encoded data removed]",
      "text/plain": [
       "<Figure size 720x720 with 1 Axes>"
      ]
     },
     "metadata": {
      "needs_background": "light"
     },
     "output_type": "display_data"
    }
   ],
   "source": [
    "a, b, c, error = CP_Decomposition(A, 3, max_iter)\n",
    "M = reconstruct_estimation_tensor(a, b, c, input_shape)\n",
    "plt.figure(figsize=(10, 10))\n",
    "plt.plot(error)\n",
    "plt.grid()\n",
    "plt.xlabel(\"# of Iterations\")\n",
    "plt.ylabel(\"SSE\")\n",
    "plt.show()"
   ]
  },
  {
   "cell_type": "code",
   "execution_count": 7,
   "metadata": {},
   "outputs": [
    {
     "name": "stdout",
     "output_type": "stream",
     "text": [
      "Difference between original and reconstructed matrix\n",
      "[[[ 0.05179587 -0.28683818  0.0625481   0.18149907 -0.31017774]\n",
      "  [ 0.1640461  -0.13923858 -0.25478662  0.00810661 -0.07670249]\n",
      "  [-0.14305685  0.15033877  0.28786657  0.20393328  0.48739423]\n",
      "  [-0.21577623 -0.02818237 -0.62090459 -0.08400895  0.14672311]\n",
      "  [-0.18300856  0.01058477  0.29518203 -0.21514504 -0.26427383]\n",
      "  [ 0.40130244 -0.10106811 -0.0421677   0.1431782  -0.36176503]]\n",
      "\n",
      " [[-0.38489894  0.03685338 -0.29444482  0.25911474  0.01112754]\n",
      "  [ 0.27294415 -0.16468056  0.07199505 -0.15924983  0.13048584]\n",
      "  [ 0.27132277 -0.24258908  0.54750082  0.12892101  0.0387166 ]\n",
      "  [ 0.16474954 -0.15824264 -0.05188902 -0.09337434  0.00981463]\n",
      "  [ 0.51161431 -0.27381445  0.28228872 -0.1624814   0.12648234]\n",
      "  [ 0.06855649  0.37078797  0.09096913 -0.26338422 -0.22299489]]\n",
      "\n",
      " [[-0.05848998  0.23345786  0.0780755  -0.18573547  0.26417519]\n",
      "  [-0.35364287  0.13409175  0.19782538  0.17701692  0.21633389]\n",
      "  [ 0.02414032 -0.12035562 -0.35830758 -0.39998929 -0.41066847]\n",
      "  [-0.14404166  0.22462342  0.12671243  0.26542965  0.14719841]\n",
      "  [ 0.16586472  0.24725913  0.16965701  0.21413538 -0.15720904]\n",
      "  [-0.17685254  0.00949454 -0.39253412 -0.28270429  0.25639939]]]\n"
     ]
    }
   ],
   "source": [
    "print(\"Difference between original and reconstructed matrix\")\n",
    "print(A-M)"
   ]
  },
  {
   "cell_type": "code",
   "execution_count": 8,
   "metadata": {},
   "outputs": [
    {
     "name": "stdout",
     "output_type": "stream",
     "text": [
      "[[[0.81234836 0.13266249 0.84907361 0.88740105 0.32551655]\n",
      "  [0.96027563 0.19834951 0.43821835 0.8575058  0.33661173]\n",
      "  [0.32221807 0.39636418 0.88419276 0.61691852 0.9395156 ]\n",
      "  [0.30288686 0.24176597 0.09315309 0.36810744 0.67816716]\n",
      "  [0.40626542 0.27753818 0.9904362  0.35704185 0.19565124]\n",
      "  [0.91632511 0.16978995 0.47148695 0.63602174 0.03451638]]\n",
      "\n",
      " [[0.39763814 0.79921448 0.05977835 0.83358772 0.87449248]\n",
      "  [0.77914866 0.14897888 0.29050709 0.35553584 0.39624612]\n",
      "  [0.7132173  0.15191899 0.92975893 0.43853678 0.59577367]\n",
      "  [0.64231289 0.25192867 0.44504175 0.2341385  0.64440748]\n",
      "  [0.93381212 0.01340268 0.69569485 0.19226636 0.54961696]\n",
      "  [0.55781052 0.82434614 0.3082169  0.11486865 0.27716798]]\n",
      "\n",
      " [[0.71318273 0.69852131 0.8355679  0.5091507  0.94365429]\n",
      "  [0.41121458 0.46941718 0.82412868 0.99359317 0.60351149]\n",
      "  [0.49401143 0.1476373  0.23878797 0.00297298 0.07341534]\n",
      "  [0.37889411 0.51664821 0.84959311 0.70501858 0.71662518]\n",
      "  [0.74201156 0.52009514 0.84946571 0.76429521 0.31130515]\n",
      "  [0.34006986 0.30471785 0.09639224 0.19992666 0.67277174]]]\n"
     ]
    }
   ],
   "source": [
    "print(A)"
   ]
  },
  {
   "cell_type": "markdown",
   "metadata": {},
   "source": [
    "## Pytorch implementation of 3 way decomposition"
   ]
  },
  {
   "cell_type": "code",
   "execution_count": 9,
   "metadata": {},
   "outputs": [],
   "source": [
    "import torch\n",
    "import tensorly"
   ]
  },
  {
   "cell_type": "code",
   "execution_count": 10,
   "metadata": {},
   "outputs": [],
   "source": [
    "class unfold_Tensor():\n",
    "    def mode_zero_unfold(self, tensor):\n",
    "        new_matrix = tensor[0]\n",
    "        for i in range(1, tensor.shape[0]):\n",
    "            new_matrix = torch.cat((new_matrix, tensor[i]), 1)\n",
    "        return new_matrix\n",
    "\n",
    "    def mode_one_unfold(self, tensor):\n",
    "        new_matrix = tensor[0].T\n",
    "        for i in range(1, tensor.shape[0]):\n",
    "            new_matrix = torch.cat((new_matrix, tensor[i].T), 1)\n",
    "        return new_matrix\n",
    "\n",
    "    def mode_two_unfold(self, tensor):\n",
    "        x, y, z = tensor.shape\n",
    "        new_matrix = torch.flatten(tensor[0].T)\n",
    "        for i in range(1, tensor.shape[0]):\n",
    "            new_matrix = torch.cat((new_matrix, torch.flatten(tensor[i].T)), dim=0)\n",
    "        new_matrix = torch.reshape(new_matrix, (x, y*z))\n",
    "        return new_matrix\n",
    "\n",
    "    def tensor_unfold(self, tensor, mode):\n",
    "        unfold_tensor = None\n",
    "        if mode == 0:\n",
    "            unfold_tensor = self.mode_zero_unfold(tensor)\n",
    "        elif mode == 1:\n",
    "            unfold_tensor = self.mode_one_unfold(tensor)\n",
    "        elif mode == 2:\n",
    "            unfold_tensor = self.mode_two_unfold(tensor)\n",
    "        else:\n",
    "            print(\"Wrong mode value please enter mode between 0, 1 and 2 only.\")\n",
    "        return unfold_tensor"
   ]
  },
  {
   "cell_type": "code",
   "execution_count": 11,
   "metadata": {},
   "outputs": [
    {
     "name": "stdout",
     "output_type": "stream",
     "text": [
      "Type of A before conv:  <class 'numpy.ndarray'>\n",
      "Type of A after conv:  <class 'torch.Tensor'>\n",
      "Tensor [frontal slices]: \n",
      "tensor([[[ 0,  2,  4,  6],\n",
      "         [ 8, 10, 12, 14],\n",
      "         [16, 18, 20, 22]],\n",
      "\n",
      "        [[ 0,  2,  4,  6],\n",
      "         [ 8, 10, 12, 14],\n",
      "         [16, 18, 20, 22]],\n",
      "\n",
      "        [[ 1,  3,  5,  7],\n",
      "         [ 9, 11, 13, 15],\n",
      "         [17, 19, 21, 23]]])\n",
      "\n",
      "Mode-0 unfolding...\n",
      "tensor([[ 0,  2,  4,  6,  0,  2,  4,  6,  1,  3,  5,  7],\n",
      "        [ 8, 10, 12, 14,  8, 10, 12, 14,  9, 11, 13, 15],\n",
      "        [16, 18, 20, 22, 16, 18, 20, 22, 17, 19, 21, 23]])\n",
      "\n",
      "Mode-1 unfolding...\n",
      "tensor([[ 0,  8, 16,  0,  8, 16,  1,  9, 17],\n",
      "        [ 2, 10, 18,  2, 10, 18,  3, 11, 19],\n",
      "        [ 4, 12, 20,  4, 12, 20,  5, 13, 21],\n",
      "        [ 6, 14, 22,  6, 14, 22,  7, 15, 23]])\n",
      "\n",
      "Mode-2 unfolding...\n",
      "tensor([[ 0,  8, 16,  2, 10, 18,  4, 12, 20,  6, 14, 22],\n",
      "        [ 0,  8, 16,  2, 10, 18,  4, 12, 20,  6, 14, 22],\n",
      "        [ 1,  9, 17,  3, 11, 19,  5, 13, 21,  7, 15, 23]])\n"
     ]
    }
   ],
   "source": [
    "A = np.array([[[0, 2, 4, 6], [8, 10, 12, 14], [16, 18, 20, 22]],\n",
    "              [[0, 2, 4, 6], [8, 10, 12, 14], [16, 18, 20, 22]],\n",
    "              [[1, 3, 5, 7], [9, 11, 13, 15], [17, 19, 21, 23]]])\n",
    "print(\"Type of A before conv: \", type(A))\n",
    "A = torch.from_numpy(A)\n",
    "print(\"Type of A after conv: \", type(A))\n",
    "#A = torch.rand(3, 6, 5)\n",
    "u = unfold_Tensor()\n",
    "print(\"Tensor [frontal slices]: \")\n",
    "print(A)\n",
    "print()\n",
    "X_0 = u.tensor_unfold(A, 0)\n",
    "print(\"Mode-0 unfolding...\")\n",
    "print(X_0)\n",
    "print()\n",
    "X_1 = u.tensor_unfold(A, 1)\n",
    "print(\"Mode-1 unfolding...\")\n",
    "print(X_1)\n",
    "print()\n",
    "X_2 = u.tensor_unfold(A, 2)\n",
    "print(\"Mode-2 unfolding...\")\n",
    "print(X_2)"
   ]
  },
  {
   "cell_type": "code",
   "execution_count": 23,
   "metadata": {},
   "outputs": [],
   "source": [
    "def reconstruct_estimation_tensor(a, b, c, input_shape):\n",
    "    M = np.zeros(input_shape)\n",
    "    a = a.numpy()\n",
    "    b = b.numpy()\n",
    "    c = c.numpy()\n",
    "    if a.shape[1] == b.shape[1] == c.shape[1]:\n",
    "        pass\n",
    "    else:\n",
    "        print(\"Columns of a, b, c matrices must be equal\")\n",
    "        return None\n",
    "    for col_index in range(0, a.shape[1]):\n",
    "        a_tilde = np.asarray([a[:, col_index]]).T\n",
    "        b_tilde = np.asarray([b[:, col_index]]).T\n",
    "        c_tilde = np.asarray([c[:, col_index]]).T\n",
    "        result_1 = khatri_rao(a_tilde, b_tilde)\n",
    "        result_2 = khatri_rao(result_1,c_tilde)\n",
    "        result_2 = np.reshape(result_2, input_shape)\n",
    "        M += result_2\n",
    "    return M\n",
    "        \n",
    "def CP_Decomposition(tensor, rank, max_iter):\n",
    "    error = []\n",
    "    u = unfold_Tensor()\n",
    "    a = torch.rand((rank, tensor.shape[0]))\n",
    "    b = torch.rand((rank, tensor.shape[1]))\n",
    "    c = torch.rand((rank, tensor.shape[2]))\n",
    "\n",
    "    for epoch in range(max_iter):\n",
    "        input_a = khatri_rao(b.T, c.T)\n",
    "        input_a = torch.from_numpy(input_a)\n",
    "        target_a = u.tensor_unfold(tensor, mode=2).T\n",
    "        r1 = torch.matmul(input_a.T,input_a)\n",
    "        r2 = torch.matmul(input_a.T,target_a)\n",
    "        a = torch.solve(r2, r1)[0]\n",
    "\n",
    "        input_b = khatri_rao(a.T, c.T)\n",
    "        input_b = torch.from_numpy(input_b)\n",
    "        target_b = u.tensor_unfold(tensor, mode=0).T\n",
    "        r1 = torch.matmul(input_b.T,input_b)\n",
    "        r2 = torch.matmul(input_b.T,target_b)\n",
    "        b = torch.solve(r2, r1)[0]\n",
    "\n",
    "        input_c = khatri_rao(a.T, b.T)\n",
    "        input_c = torch.from_numpy(input_c)\n",
    "        target_c = u.tensor_unfold(tensor, mode=1).T\n",
    "        r1 = torch.matmul(input_c.T,input_c)\n",
    "        r2 = torch.matmul(input_c.T,target_c)\n",
    "        c = torch.solve(r2, r1)[0]\n",
    "\n",
    "        #M = reconstruct_estimation_tensor(a.T, b.T, c.T, tensor.shape)\n",
    "        #M = torch.from_numpy(M)\n",
    "        #sse_error = (np.linalg.norm((tensor-M)))**2\n",
    "        #error.append(sse_error)\n",
    "        #if epoch %50 == 0:\n",
    "            #print(\"Epoch: \",epoch, \"Sum of squared error: \", sse_error)\n",
    "    return a.T, b.T, c.T, error"
   ]
  },
  {
   "cell_type": "code",
   "execution_count": 24,
   "metadata": {},
   "outputs": [],
   "source": [
    "input_shape = (3, 6, 5)\n",
    "torch.manual_seed(0)\n",
    "A = torch.rand(input_shape)\n",
    "max_iter = 1"
   ]
  },
  {
   "cell_type": "code",
   "execution_count": 25,
   "metadata": {},
   "outputs": [],
   "source": [
    "a, b, c, error = CP_Decomposition(A, 3, max_iter)"
   ]
  },
  {
   "cell_type": "code",
   "execution_count": 30,
   "metadata": {},
   "outputs": [
    {
     "name": "stdout",
     "output_type": "stream",
     "text": [
      "tensor([[0.8325, 0.6978, 0.6329],\n",
      "        [0.6378, 0.2375, 1.1617],\n",
      "        [0.7149, 1.7045, 0.5741]])\n",
      "tensor([[ 0.4722,  0.5958,  0.2462],\n",
      "        [ 1.3109,  0.0173,  0.1455],\n",
      "        [ 0.7875,  0.1996, -0.0884],\n",
      "        [ 1.0278,  0.1739, -0.0429],\n",
      "        [ 1.0343,  0.1170,  0.5939],\n",
      "        [ 0.5967,  0.2952,  0.0787]])\n",
      "tensor([[ 0.4740,  0.5082,  0.2890],\n",
      "        [ 0.5949,  0.5263,  0.9597],\n",
      "        [ 0.7614, -0.1970,  0.1716],\n",
      "        [ 0.4875,  0.4487,  0.2581],\n",
      "        [ 0.5683,  0.3464,  0.4223]])\n"
     ]
    }
   ],
   "source": [
    "print(a)\n",
    "print(b)\n",
    "print(c)"
   ]
  }
 ],
 "metadata": {
  "kernelspec": {
   "display_name": "Python 3",
   "language": "python",
   "name": "python3"
  },
  "language_info": {
   "codemirror_mode": {
    "name": "ipython",
    "version": 3
   },
   "file_extension": ".py",
   "mimetype": "text/x-python",
   "name": "python",
   "nbconvert_exporter": "python",
   "pygments_lexer": "ipython3",
   "version": "3.6.10"
  }
 },
 "nbformat": 4,
 "nbformat_minor": 4
}
