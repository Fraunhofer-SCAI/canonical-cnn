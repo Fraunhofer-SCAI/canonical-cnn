{
 "cells": [
  {
   "cell_type": "code",
   "execution_count": 1,
   "metadata": {},
   "outputs": [],
   "source": [
    "from tensorly.decomposition import parafac\n",
    "import torch\n",
    "import numpy as np\n",
    "import scipy\n",
    "import tensorly as tl"
   ]
  },
  {
   "cell_type": "code",
   "execution_count": 2,
   "metadata": {
    "scrolled": false
   },
   "outputs": [
    {
     "name": "stdout",
     "output_type": "stream",
     "text": [
      "tensor([[[ 1,  4,  5],\n",
      "         [ 0,  4,  8],\n",
      "         [ 2,  6,  6]],\n",
      "\n",
      "        [[ 2,  7,  8],\n",
      "         [ 0,  6, 12],\n",
      "         [ 4, 11, 10]],\n",
      "\n",
      "        [[ 1,  5,  7],\n",
      "         [ 0,  6, 12],\n",
      "         [ 2,  7,  8]]])\n"
     ]
    }
   ],
   "source": [
    "tensor = torch.randn(3, 6, 6)\n",
    "#print(tensor)\n",
    "#u, s, v = np.linalg.svd(tensor)\n",
    "#print(u)\n",
    "#print(s)\n",
    "#print(v.T)\n",
    "tensor = np.array([[[1, 4, 5], [0, 4, 8], [2, 6, 6]],\n",
    "                   [[2, 7, 8], [0, 6, 12], [4, 11, 10]],\n",
    "                   [[1, 5, 7], [0, 6, 12], [2, 7, 8]]])\n",
    "tensor = torch.from_numpy(tensor)\n",
    "print(tensor)"
   ]
  },
  {
   "cell_type": "markdown",
   "metadata": {},
   "source": [
    "## Standard PARAFAC method from tensorly:"
   ]
  },
  {
   "cell_type": "code",
   "execution_count": 3,
   "metadata": {
    "scrolled": true
   },
   "outputs": [
    {
     "name": "stdout",
     "output_type": "stream",
     "text": [
      "[1 1 1]\n",
      "[[ 1.39573578e+01 -2.63747243e+00  7.49884072e-17]\n",
      " [ 2.14232443e+01 -3.58290544e+00  3.23867218e-16]\n",
      " [ 2.04488291e+01 -4.32951185e+00 -9.89019967e-17]]\n",
      "[[-0.46814108  0.15714387  4.95998065]\n",
      " [-0.62868266 -0.71714192 -1.43255439]\n",
      " [-0.62194084  0.6728587  10.63623848]]\n",
      "[[-9.84937510e-02 -4.29697132e-01  4.79503916e+14]\n",
      " [-5.41393670e-01 -3.48248980e-01  8.55487044e+14]\n",
      " [-7.87306087e-01  5.92593438e-01  2.72462339e+14]]\n"
     ]
    }
   ],
   "source": [
    "x = parafac(tl.tensor(tensor), rank=3)\n",
    "print(x[0])\n",
    "for i in x[1]:\n",
    "    print(i)"
   ]
  },
  {
   "cell_type": "markdown",
   "metadata": {},
   "source": [
    "## Implementation of ALS algorithm:"
   ]
  },
  {
   "cell_type": "code",
   "execution_count": 4,
   "metadata": {},
   "outputs": [
    {
     "name": "stdout",
     "output_type": "stream",
     "text": [
      "[[ 5 21]\n",
      " [ 6 24]\n",
      " [10 28]\n",
      " [12 32]]\n",
      "[[ 5 21]\n",
      " [12 32]]\n"
     ]
    }
   ],
   "source": [
    "A = np.array([[1, 3], [2, 4]])\n",
    "B = np.array([[5, 7], [6, 8]])\n",
    "m = scipy.linalg.khatri_rao(A, B)\n",
    "print(m)\n",
    "print(A*B)"
   ]
  },
  {
   "cell_type": "code",
   "execution_count": 26,
   "metadata": {},
   "outputs": [
    {
     "name": "stdout",
     "output_type": "stream",
     "text": [
      "[[[4. 7. 0.]\n",
      "  [3. 1. 1.]\n",
      "  [2. 3. 4.]]\n",
      "\n",
      " [[5. 4. 7.]\n",
      "  [2. 9. 0.]\n",
      "  [7. 4. 6.]]]\n"
     ]
    }
   ],
   "source": [
    "np.random.seed(1)\n",
    "X_tensor = np.round(np.random.random((2, 3, 3))*10)\n",
    "print(X_tensor)"
   ]
  },
  {
   "cell_type": "code",
   "execution_count": 31,
   "metadata": {},
   "outputs": [],
   "source": [
    "def compute_ALS_CANDECOMP_PARAFAC(input_matrix, max_iterations, rank):\n",
    "    np.random.seed(1)\n",
    "    A = np.round(np.random.randn(input_matrix.shape[-1], rank),2)\n",
    "    while(max_iterations > 0):\n",
    "        for i in range(0, input_matrix.shape[-1]):\n",
    "            ## Step-01 (V calculation)\n",
    "            A_new = A[:, 0:i+1]\n",
    "            V = np.dot(A_new[:, 0:1], A_new[:, 0:1].T)\n",
    "            if i != 0:\n",
    "                for j in range(1, A_new.shape[-1]):\n",
    "                    V = V*A_new[:, j:j+1]\n",
    "            ## A Calculation\n",
    "            V_inv = np.linalg.pinv(V)\n",
    "            A_new = A[:, 0:i+1]\n",
    "            A_KProduct = A_new[:, 0:1]\n",
    "            if i != 0:\n",
    "                for j in range(1, A_new.shape[-1]):\n",
    "                    A_KProduct = scipy.linalg.khatri_rao(A_KProduct, A_new[:, j:j+1])\n",
    "            X_unfolded = tl.unfold(input_matrix, mode = i)\n",
    "            print(\"Shapes: \")\n",
    "            print(X_unfolded.shape)\n",
    "            print(A_KProduct.shape)\n",
    "            print(V_inv.shape)\n",
    "            print(\"######\")\n",
    "        max_iterations -= 1"
   ]
  },
  {
   "cell_type": "code",
   "execution_count": 32,
   "metadata": {},
   "outputs": [
    {
     "name": "stdout",
     "output_type": "stream",
     "text": [
      "Shapes: \n",
      "(2, 9)\n",
      "(3, 1)\n",
      "(3, 3)\n",
      "######\n",
      "Shapes: \n",
      "(3, 6)\n",
      "(9, 1)\n",
      "(3, 3)\n",
      "######\n",
      "Shapes: \n",
      "(3, 6)\n",
      "(27, 1)\n",
      "(3, 3)\n",
      "######\n"
     ]
    }
   ],
   "source": [
    "compute_ALS_CANDECOMP_PARAFAC(X_tensor, 1, 3)"
   ]
  }
 ],
 "metadata": {
  "kernelspec": {
   "display_name": "Python 3",
   "language": "python",
   "name": "python3"
  },
  "language_info": {
   "codemirror_mode": {
    "name": "ipython",
    "version": 3
   },
   "file_extension": ".py",
   "mimetype": "text/x-python",
   "name": "python",
   "nbconvert_exporter": "python",
   "pygments_lexer": "ipython3",
   "version": "3.7.4"
  }
 },
 "nbformat": 4,
 "nbformat_minor": 4
}
