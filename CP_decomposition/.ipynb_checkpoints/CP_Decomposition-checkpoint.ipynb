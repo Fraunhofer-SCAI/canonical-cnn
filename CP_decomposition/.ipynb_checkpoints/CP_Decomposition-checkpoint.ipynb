{
 "cells": [
  {
   "cell_type": "code",
   "execution_count": 1,
   "metadata": {},
   "outputs": [
    {
     "name": "stderr",
     "output_type": "stream",
     "text": [
      "Matplotlib is building the font cache; this may take a moment.\n"
     ]
    }
   ],
   "source": [
    "import numpy as np\n",
    "from scipy.linalg import khatri_rao\n",
    "import matplotlib.pyplot as plt"
   ]
  },
  {
   "cell_type": "markdown",
   "metadata": {},
   "source": [
    "## Tensor unfolding \n",
    "Mode-0, Mode-1, Mode-2 Unfolding"
   ]
  },
  {
   "cell_type": "code",
   "execution_count": 2,
   "metadata": {},
   "outputs": [],
   "source": [
    "class unfold_Tensor():\n",
    "    def mode_zero_unfold(self, tensor):\n",
    "        new_matrix = tensor[0]\n",
    "        number, _, _ = tensor.shape\n",
    "        for i in range(1, number):\n",
    "             new_matrix = np.hstack((new_matrix, tensor[i]))\n",
    "        return new_matrix\n",
    "\n",
    "    def mode_one_unfold(self, tensor):\n",
    "        new_matrix = tensor[0].T\n",
    "        number, _, _ = tensor.shape\n",
    "        for i in range(1, number):\n",
    "             new_matrix = np.hstack((new_matrix, tensor[i].T))\n",
    "        return new_matrix\n",
    "\n",
    "    def mode_two_unfold(self, tensor):\n",
    "        new_matrix = tensor[0].T.flatten()\n",
    "        number, _, _ = tensor.shape\n",
    "        for i in range(1, number):\n",
    "            new_matrix = np.vstack((new_matrix, tensor[i].T.flatten()))\n",
    "        return new_matrix\n",
    "\n",
    "    def tensor_unfold(self, tensor, mode):\n",
    "        unfold_tensor = None\n",
    "        if mode == 0:\n",
    "            unfold_tensor = self.mode_zero_unfold(tensor)\n",
    "        elif mode == 1:\n",
    "            unfold_tensor = self.mode_one_unfold(tensor)\n",
    "        elif mode == 2:\n",
    "            unfold_tensor = self.mode_two_unfold(tensor)\n",
    "        else:\n",
    "            print(\"Wrong mode value please enter mode between 0, 1 and 2 only.\")\n",
    "        return unfold_tensor"
   ]
  },
  {
   "cell_type": "code",
   "execution_count": 3,
   "metadata": {},
   "outputs": [
    {
     "name": "stdout",
     "output_type": "stream",
     "text": [
      "Tensor [frontal slices]: \n",
      "[[[ 0  2  4  6]\n",
      "  [ 8 10 12 14]\n",
      "  [16 18 20 22]]\n",
      "\n",
      " [[ 1  3  5  7]\n",
      "  [ 9 11 13 15]\n",
      "  [17 19 21 23]]]\n",
      "\n",
      "Mode-0 unfolding...\n",
      "[[ 0  2  4  6  1  3  5  7]\n",
      " [ 8 10 12 14  9 11 13 15]\n",
      " [16 18 20 22 17 19 21 23]]\n",
      "\n",
      "Mode-1 unfolding...\n",
      "[[ 0  8 16  1  9 17]\n",
      " [ 2 10 18  3 11 19]\n",
      " [ 4 12 20  5 13 21]\n",
      " [ 6 14 22  7 15 23]]\n",
      "\n",
      "Mode-2 unfolding...\n",
      "[[ 0  8 16  2 10 18  4 12 20  6 14 22]\n",
      " [ 1  9 17  3 11 19  5 13 21  7 15 23]]\n"
     ]
    }
   ],
   "source": [
    "A = np.array([[[0, 2, 4, 6], [8, 10, 12, 14], [16, 18, 20, 22]], \n",
    "              [[1, 3, 5, 7], [9, 11, 13, 15], [17, 19, 21, 23]]])\n",
    "u = unfold_Tensor()\n",
    "print(\"Tensor [frontal slices]: \")\n",
    "print(A)\n",
    "print()\n",
    "X_0 = u.tensor_unfold(A, 0)\n",
    "print(\"Mode-0 unfolding...\")\n",
    "print(X_0)\n",
    "print()\n",
    "X_1 = u.tensor_unfold(A, 1)\n",
    "print(\"Mode-1 unfolding...\")\n",
    "print(X_1)\n",
    "print()\n",
    "X_2 = u.tensor_unfold(A, 2)\n",
    "print(\"Mode-2 unfolding...\")\n",
    "print(X_2)"
   ]
  },
  {
   "cell_type": "markdown",
   "metadata": {},
   "source": [
    "## CANDECOMP/PARAFAC Decomposition:"
   ]
  },
  {
   "cell_type": "code",
   "execution_count": 138,
   "metadata": {},
   "outputs": [],
   "source": [
    "def reconstruct_estimation_tensor(a, b, c, input_shape):\n",
    "    M = np.zeros(input_shape)\n",
    "    if a.shape[1] == b.shape[1] == c.shape[1]:\n",
    "        pass\n",
    "    else:\n",
    "        print(\"Columns of a, b, c matrices must be equal\")\n",
    "        return None\n",
    "    for col_index in range(0, a.shape[1]):\n",
    "        a_tilde = np.asarray([a[:, col_index]]).T\n",
    "        b_tilde = np.asarray([b[:, col_index]]).T\n",
    "        c_tilde = np.asarray([c[:, col_index]]).T\n",
    "        result_1 = khatri_rao(a_tilde, b_tilde)\n",
    "        result_2 = khatri_rao(result_1,c_tilde)\n",
    "        result_2 = np.reshape(result_2, input_shape)\n",
    "        M += result_2\n",
    "    return M\n",
    "        \n",
    "def CP_Decomposition(tensor, rank, max_iter):\n",
    "    error = []\n",
    "    u = unfold_Tensor()\n",
    "    a = np.random.random((rank, tensor.shape[0]))\n",
    "    b = np.random.random((rank, tensor.shape[1]))\n",
    "    c = np.random.random((rank, tensor.shape[2]))\n",
    "\n",
    "    for epoch in range(max_iter):\n",
    "        input_a = khatri_rao(b.T, c.T)\n",
    "        target_a = u.tensor_unfold(tensor, mode=2).T\n",
    "        a = np.linalg.solve(input_a.T.dot(input_a), input_a.T.dot(target_a))\n",
    "        input_b = khatri_rao(a.T, c.T)\n",
    "        target_b = u.tensor_unfold(tensor, mode=0).T\n",
    "        b = np.linalg.solve(input_b.T.dot(input_b), input_b.T.dot(target_b))\n",
    "        input_c = khatri_rao(a.T, b.T)\n",
    "        target_c = u.tensor_unfold(tensor, mode=1).T\n",
    "        c = np.linalg.solve(input_c.T.dot(input_c), input_c.T.dot(target_c))\n",
    "        M = reconstruct_estimation_tensor(a.T, b.T, c.T, tensor.shape)\n",
    "        sse_error = (np.linalg.norm((tensor-M)))**2\n",
    "        error.append(sse_error)\n",
    "        if epoch %50 == 0:\n",
    "            print(\"Epoch: \",epoch, \"Sum of squared error: \", sse_error)\n",
    "    return a.T, b.T, c.T, error"
   ]
  },
  {
   "cell_type": "code",
   "execution_count": 196,
   "metadata": {},
   "outputs": [],
   "source": [
    "input_shape = (3, 6, 5)\n",
    "A = np.random.random(input_shape)\n",
    "max_iter = 100"
   ]
  },
  {
   "cell_type": "code",
   "execution_count": 241,
   "metadata": {
    "scrolled": false
   },
   "outputs": [
    {
     "name": "stdout",
     "output_type": "stream",
     "text": [
      "Epoch:  0 Sum of squared error:  5.907042879737223\n",
      "Epoch:  50 Sum of squared error:  4.928371513714217\n"
     ]
    },
    {
     "data": {
      "image/png": "[encoded data removed]",
      "text/plain": [
       "<Figure size 720x720 with 1 Axes>"
      ]
     },
     "metadata": {
      "needs_background": "light"
     },
     "output_type": "display_data"
    }
   ],
   "source": [
    "a, b, c, error = CP_Decomposition(A, 3, max_iter)\n",
    "M = reconstruct_estimation_tensor(a, b, c, input_shape)\n",
    "plt.figure(figsize=(10, 10))\n",
    "plt.plot(error)\n",
    "plt.grid()\n",
    "plt.xlabel(\"# of Iterations\")\n",
    "plt.ylabel(\"SSE\")\n",
    "plt.show()"
   ]
  },
  {
   "cell_type": "code",
   "execution_count": 39,
   "metadata": {},
   "outputs": [
    {
     "name": "stdout",
     "output_type": "stream",
     "text": [
      "Difference between original and reconstructed matrix\n",
      "[[[ 0.0297431  -0.3817655   0.10890938  0.33698199  0.02782941]\n",
      "  [ 0.3083479  -0.01561479  0.35658192 -0.26066986 -0.04970721]\n",
      "  [-0.50940499  0.20986453 -0.0023741  -0.12333371 -0.00192119]\n",
      "  [-0.0635939   0.11779233 -0.27609891  0.09479687 -0.14494902]\n",
      "  [ 0.19242844 -0.11517954 -0.05022703 -0.0243241   0.06974998]\n",
      "  [-0.0663356   0.14951743  0.04565794  0.2687185  -0.02736053]]\n",
      "\n",
      " [[ 0.34902265 -0.13653515 -0.06920438 -0.36529205  0.06384364]\n",
      "  [-0.28947421 -0.12651289 -0.37912843  0.01851369  0.23423023]\n",
      "  [ 0.3285362  -0.06024201  0.12290796 -0.2104958   0.01483131]\n",
      "  [ 0.14842903  0.11819045  0.40990887 -0.22267668  0.20321488]\n",
      "  [-0.16814657 -0.21458894 -0.25580602 -0.02024618  0.07789937]\n",
      "  [ 0.02230559 -0.02035439 -0.0282589  -0.10907021 -0.1304734 ]]\n",
      "\n",
      " [[-0.24959867  0.40531345 -0.03341552 -0.08001136 -0.03821325]\n",
      "  [ 0.06655318  0.01424684  0.01278033  0.33545057 -0.25154458]\n",
      "  [ 0.25380386  0.36693436 -0.23160194  0.16606485 -0.08604529]\n",
      "  [-0.24082621 -0.30653408 -0.1301178   0.28442058 -0.07658729]\n",
      "  [ 0.1096383   0.27649778  0.28945564  0.12785239 -0.21252747]\n",
      "  [-0.21583731 -0.15715549  0.1044736  -0.03682279  0.22360845]]]\n"
     ]
    }
   ],
   "source": [
    "print(\"Difference between original and reconstructed matrix\")\n",
    "print(A-M)"
   ]
  },
  {
   "cell_type": "code",
   "execution_count": 40,
   "metadata": {},
   "outputs": [
    {
     "name": "stdout",
     "output_type": "stream",
     "text": [
      "[[[0.67868233 0.02731701 0.66001516 0.9243717  0.19331144]\n",
      "  [0.82607673 0.36808438 0.80010093 0.26006326 0.55169811]\n",
      "  [0.16870634 0.71570366 0.59892528 0.55858004 0.78115261]\n",
      "  [0.72405425 0.54074342 0.0291093  0.79621816 0.01334835]\n",
      "  [0.74598129 0.31809484 0.5302497  0.53721227 0.73787645]\n",
      "  [0.62012096 0.66575609 0.86176715 0.93086235 0.4763281 ]]\n",
      "\n",
      " [[0.97100308 0.25175983 0.46026584 0.19401472 0.18903459]\n",
      "  [0.20738112 0.23683804 0.04796262 0.51354328 0.76866812]\n",
      "  [0.9793884  0.41645163 0.70259305 0.43551133 0.6893721 ]\n",
      "  [0.90175326 0.56127621 0.690365   0.48539762 0.69227061]\n",
      "  [0.36357344 0.18358504 0.30668832 0.50182711 0.562658  ]\n",
      "  [0.68166904 0.44270318 0.76454282 0.4954088  0.06741625]]\n",
      "\n",
      " [[0.19901216 0.68030962 0.35024315 0.31846472 0.00730829]\n",
      "  [0.42274738 0.27021122 0.32093545 0.68587531 0.09102404]\n",
      "  [0.71767674 0.69926614 0.185222   0.61910104 0.32749064]\n",
      "  [0.35151189 0.06954439 0.1000254  0.86514037 0.52247125]\n",
      "  [0.47646875 0.53881338 0.68773948 0.47506787 0.00328072]\n",
      "  [0.22726843 0.13041061 0.66102165 0.34402095 0.12366544]]]\n"
     ]
    }
   ],
   "source": [
    "print(A)"
   ]
  },
  {
   "cell_type": "markdown",
   "metadata": {},
   "source": [
    "## Pytorch implementation of 3 way decomposition"
   ]
  },
  {
   "cell_type": "code",
   "execution_count": 272,
   "metadata": {},
   "outputs": [],
   "source": [
    "import torch\n",
    "import tensorly"
   ]
  },
  {
   "cell_type": "code",
   "execution_count": 346,
   "metadata": {},
   "outputs": [],
   "source": [
    "class unfold_Tensor():\n",
    "    def mode_zero_unfold(self, tensor):\n",
    "        new_matrix = tensor[0]\n",
    "        for i in range(1, tensor.shape[0]):\n",
    "            new_matrix = torch.cat((new_matrix, tensor[i]), 1)\n",
    "        return new_matrix\n",
    "\n",
    "    def mode_one_unfold(self, tensor):\n",
    "        new_matrix = tensor[0].T\n",
    "        for i in range(1, tensor.shape[0]):\n",
    "            new_matrix = torch.cat((new_matrix, tensor[i].T), 1)\n",
    "        return new_matrix\n",
    "\n",
    "    def mode_two_unfold(self, tensor):\n",
    "        x, y, z = tensor.shape\n",
    "        new_matrix = torch.flatten(tensor[0].T)\n",
    "        for i in range(1, tensor.shape[0]):\n",
    "            new_matrix = torch.cat((new_matrix, torch.flatten(tensor[i].T)), dim=0)\n",
    "        new_matrix = torch.reshape(new_matrix, (x, y*z))\n",
    "        return new_matrix\n",
    "\n",
    "    def tensor_unfold(self, tensor, mode):\n",
    "        unfold_tensor = None\n",
    "        if mode == 0:\n",
    "            unfold_tensor = self.mode_zero_unfold(tensor)\n",
    "        elif mode == 1:\n",
    "            unfold_tensor = self.mode_one_unfold(tensor)\n",
    "        elif mode == 2:\n",
    "            unfold_tensor = self.mode_two_unfold(tensor)\n",
    "        else:\n",
    "            print(\"Wrong mode value please enter mode between 0, 1 and 2 only.\")\n",
    "        return unfold_tensor"
   ]
  },
  {
   "cell_type": "code",
   "execution_count": 347,
   "metadata": {},
   "outputs": [
    {
     "name": "stdout",
     "output_type": "stream",
     "text": [
      "Type of A before conv:  <class 'numpy.ndarray'>\n",
      "Type of A after conv:  <class 'torch.Tensor'> torch.Size([3, 3, 4])\n",
      "Tensor [frontal slices]: \n",
      "tensor([[[ 0,  2,  4,  6],\n",
      "         [ 8, 10, 12, 14],\n",
      "         [16, 18, 20, 22]],\n",
      "\n",
      "        [[ 0,  2,  4,  6],\n",
      "         [ 8, 10, 12, 14],\n",
      "         [16, 18, 20, 22]],\n",
      "\n",
      "        [[ 1,  3,  5,  7],\n",
      "         [ 9, 11, 13, 15],\n",
      "         [17, 19, 21, 23]]])\n",
      "\n",
      "Mode-0 unfolding...\n",
      "tensor([[ 0,  2,  4,  6,  0,  2,  4,  6,  1,  3,  5,  7],\n",
      "        [ 8, 10, 12, 14,  8, 10, 12, 14,  9, 11, 13, 15],\n",
      "        [16, 18, 20, 22, 16, 18, 20, 22, 17, 19, 21, 23]])\n",
      "\n",
      "Mode-1 unfolding...\n",
      "tensor([[ 0,  8, 16,  0,  8, 16,  1,  9, 17],\n",
      "        [ 2, 10, 18,  2, 10, 18,  3, 11, 19],\n",
      "        [ 4, 12, 20,  4, 12, 20,  5, 13, 21],\n",
      "        [ 6, 14, 22,  6, 14, 22,  7, 15, 23]])\n",
      "\n"
     ]
    },
    {
     "ename": "TypeError",
     "evalue": "reshape(): argument 'input' (position 1) must be Tensor, not int",
     "output_type": "error",
     "traceback": [
      "\u001b[0;31m---------------------------------------------------------------------------\u001b[0m",
      "\u001b[0;31mTypeError\u001b[0m                                 Traceback (most recent call last)",
      "\u001b[0;32m<ipython-input-347-d24dfe061abd>\u001b[0m in \u001b[0;36m<module>\u001b[0;34m\u001b[0m\n\u001b[1;32m     18\u001b[0m \u001b[0mprint\u001b[0m\u001b[0;34m(\u001b[0m\u001b[0mX_1\u001b[0m\u001b[0;34m)\u001b[0m\u001b[0;34m\u001b[0m\u001b[0;34m\u001b[0m\u001b[0m\n\u001b[1;32m     19\u001b[0m \u001b[0mprint\u001b[0m\u001b[0;34m(\u001b[0m\u001b[0;34m)\u001b[0m\u001b[0;34m\u001b[0m\u001b[0;34m\u001b[0m\u001b[0m\n\u001b[0;32m---> 20\u001b[0;31m \u001b[0mX_2\u001b[0m \u001b[0;34m=\u001b[0m \u001b[0mu\u001b[0m\u001b[0;34m.\u001b[0m\u001b[0mtensor_unfold\u001b[0m\u001b[0;34m(\u001b[0m\u001b[0mA\u001b[0m\u001b[0;34m,\u001b[0m \u001b[0;36m2\u001b[0m\u001b[0;34m)\u001b[0m\u001b[0;34m\u001b[0m\u001b[0;34m\u001b[0m\u001b[0m\n\u001b[0m\u001b[1;32m     21\u001b[0m \u001b[0mprint\u001b[0m\u001b[0;34m(\u001b[0m\u001b[0;34m\"Mode-2 unfolding...\"\u001b[0m\u001b[0;34m)\u001b[0m\u001b[0;34m\u001b[0m\u001b[0;34m\u001b[0m\u001b[0m\n\u001b[1;32m     22\u001b[0m \u001b[0mprint\u001b[0m\u001b[0;34m(\u001b[0m\u001b[0mX_2\u001b[0m\u001b[0;34m)\u001b[0m\u001b[0;34m\u001b[0m\u001b[0;34m\u001b[0m\u001b[0m\n",
      "\u001b[0;32m<ipython-input-346-d8830a249b3c>\u001b[0m in \u001b[0;36mtensor_unfold\u001b[0;34m(self, tensor, mode)\u001b[0m\n\u001b[1;32m     27\u001b[0m             \u001b[0munfold_tensor\u001b[0m \u001b[0;34m=\u001b[0m \u001b[0mself\u001b[0m\u001b[0;34m.\u001b[0m\u001b[0mmode_one_unfold\u001b[0m\u001b[0;34m(\u001b[0m\u001b[0mtensor\u001b[0m\u001b[0;34m)\u001b[0m\u001b[0;34m\u001b[0m\u001b[0;34m\u001b[0m\u001b[0m\n\u001b[1;32m     28\u001b[0m         \u001b[0;32melif\u001b[0m \u001b[0mmode\u001b[0m \u001b[0;34m==\u001b[0m \u001b[0;36m2\u001b[0m\u001b[0;34m:\u001b[0m\u001b[0;34m\u001b[0m\u001b[0;34m\u001b[0m\u001b[0m\n\u001b[0;32m---> 29\u001b[0;31m             \u001b[0munfold_tensor\u001b[0m \u001b[0;34m=\u001b[0m \u001b[0mself\u001b[0m\u001b[0;34m.\u001b[0m\u001b[0mmode_two_unfold\u001b[0m\u001b[0;34m(\u001b[0m\u001b[0mtensor\u001b[0m\u001b[0;34m)\u001b[0m\u001b[0;34m\u001b[0m\u001b[0;34m\u001b[0m\u001b[0m\n\u001b[0m\u001b[1;32m     30\u001b[0m         \u001b[0;32melse\u001b[0m\u001b[0;34m:\u001b[0m\u001b[0;34m\u001b[0m\u001b[0;34m\u001b[0m\u001b[0m\n\u001b[1;32m     31\u001b[0m             \u001b[0mprint\u001b[0m\u001b[0;34m(\u001b[0m\u001b[0;34m\"Wrong mode value please enter mode between 0, 1 and 2 only.\"\u001b[0m\u001b[0;34m)\u001b[0m\u001b[0;34m\u001b[0m\u001b[0;34m\u001b[0m\u001b[0m\n",
      "\u001b[0;32m<ipython-input-346-d8830a249b3c>\u001b[0m in \u001b[0;36mmode_two_unfold\u001b[0;34m(self, tensor)\u001b[0m\n\u001b[1;32m     17\u001b[0m         \u001b[0;32mfor\u001b[0m \u001b[0mi\u001b[0m \u001b[0;32min\u001b[0m \u001b[0mrange\u001b[0m\u001b[0;34m(\u001b[0m\u001b[0;36m1\u001b[0m\u001b[0;34m,\u001b[0m \u001b[0mtensor\u001b[0m\u001b[0;34m.\u001b[0m\u001b[0mshape\u001b[0m\u001b[0;34m[\u001b[0m\u001b[0;36m0\u001b[0m\u001b[0;34m]\u001b[0m\u001b[0;34m)\u001b[0m\u001b[0;34m:\u001b[0m\u001b[0;34m\u001b[0m\u001b[0;34m\u001b[0m\u001b[0m\n\u001b[1;32m     18\u001b[0m             \u001b[0mnew_matrix\u001b[0m \u001b[0;34m=\u001b[0m \u001b[0mtorch\u001b[0m\u001b[0;34m.\u001b[0m\u001b[0mcat\u001b[0m\u001b[0;34m(\u001b[0m\u001b[0;34m(\u001b[0m\u001b[0mnew_matrix\u001b[0m\u001b[0;34m,\u001b[0m \u001b[0mtorch\u001b[0m\u001b[0;34m.\u001b[0m\u001b[0mflatten\u001b[0m\u001b[0;34m(\u001b[0m\u001b[0mtensor\u001b[0m\u001b[0;34m[\u001b[0m\u001b[0mi\u001b[0m\u001b[0;34m]\u001b[0m\u001b[0;34m.\u001b[0m\u001b[0mT\u001b[0m\u001b[0;34m)\u001b[0m\u001b[0;34m)\u001b[0m\u001b[0;34m,\u001b[0m \u001b[0mdim\u001b[0m\u001b[0;34m=\u001b[0m\u001b[0;36m0\u001b[0m\u001b[0;34m)\u001b[0m\u001b[0;34m\u001b[0m\u001b[0;34m\u001b[0m\u001b[0m\n\u001b[0;32m---> 19\u001b[0;31m         \u001b[0mnew_matrix\u001b[0m \u001b[0;34m=\u001b[0m \u001b[0mtorch\u001b[0m\u001b[0;34m.\u001b[0m\u001b[0mreshape\u001b[0m\u001b[0;34m(\u001b[0m\u001b[0mx\u001b[0m\u001b[0;34m,\u001b[0m \u001b[0my\u001b[0m\u001b[0;34m*\u001b[0m\u001b[0mz\u001b[0m\u001b[0;34m)\u001b[0m\u001b[0;34m\u001b[0m\u001b[0;34m\u001b[0m\u001b[0m\n\u001b[0m\u001b[1;32m     20\u001b[0m         \u001b[0;32mreturn\u001b[0m \u001b[0mnew_matrix\u001b[0m\u001b[0;34m\u001b[0m\u001b[0;34m\u001b[0m\u001b[0m\n\u001b[1;32m     21\u001b[0m \u001b[0;34m\u001b[0m\u001b[0m\n",
      "\u001b[0;31mTypeError\u001b[0m: reshape(): argument 'input' (position 1) must be Tensor, not int"
     ]
    }
   ],
   "source": [
    "A = np.array([[[0, 2, 4, 6], [8, 10, 12, 14], [16, 18, 20, 22]],\n",
    "              [[0, 2, 4, 6], [8, 10, 12, 14], [16, 18, 20, 22]],\n",
    "              [[1, 3, 5, 7], [9, 11, 13, 15], [17, 19, 21, 23]]])\n",
    "print(\"Type of A before conv: \", type(A))\n",
    "A = torch.from_numpy(A)\n",
    "print(\"Type of A after conv: \", type(A), A.shape)\n",
    "#A = torch.rand(3, 6, 5)\n",
    "u = unfold_Tensor()\n",
    "print(\"Tensor [frontal slices]: \")\n",
    "print(A)\n",
    "print()\n",
    "X_0 = u.tensor_unfold(A, 0)\n",
    "print(\"Mode-0 unfolding...\")\n",
    "print(X_0)\n",
    "print()\n",
    "X_1 = u.tensor_unfold(A, 1)\n",
    "print(\"Mode-1 unfolding...\")\n",
    "print(X_1)\n",
    "print()\n",
    "X_2 = u.tensor_unfold(A, 2)\n",
    "print(\"Mode-2 unfolding...\")\n",
    "print(X_2)\n",
    "print(X_2.shape)"
   ]
  },
  {
   "cell_type": "code",
   "execution_count": 301,
   "metadata": {},
   "outputs": [],
   "source": [
    "def reconstruct_estimation_tensor(a, b, c, input_shape):\n",
    "    M = np.zeros(input_shape)\n",
    "    if a.shape[1] == b.shape[1] == c.shape[1]:\n",
    "        pass\n",
    "    else:\n",
    "        print(\"Columns of a, b, c matrices must be equal\")\n",
    "        return None\n",
    "    for col_index in range(0, a.shape[1]):\n",
    "        a_tilde = np.asarray([a[:, col_index]]).T\n",
    "        b_tilde = np.asarray([b[:, col_index]]).T\n",
    "        c_tilde = np.asarray([c[:, col_index]]).T\n",
    "        result_1 = khatri_rao(a_tilde, b_tilde)\n",
    "        result_2 = khatri_rao(result_1,c_tilde)\n",
    "        result_2 = np.reshape(result_2, input_shape)\n",
    "        M += result_2\n",
    "    return M\n",
    "        \n",
    "def CP_Decomposition(tensor, rank, max_iter):\n",
    "    error = []\n",
    "    u = unfold_Tensor()\n",
    "    a = torch.rand((rank, tensor.shape[0]))\n",
    "    b = torch.rand((rank, tensor.shape[1]))\n",
    "    c = torch.rand((rank, tensor.shape[2]))\n",
    "\n",
    "    for epoch in range(max_iter):\n",
    "        input_a = khatri_rao(b.T, c.T)\n",
    "        input_a = torch.from_numpy(input_a)\n",
    "        print(tensor.shape)\n",
    "        target_a = u.tensor_unfold(tensor, mode=2).T\n",
    "        r1 = torch.matmul(input_a.T,input_a)\n",
    "        r2 = torch.matmul(input_a.T,target_a)\n",
    "        a = torch.solve(r1, r2)\n",
    "        #a = torch.solve(torch.matmul(input_a.T,input_a), torch.matmul(input_a.T,target_a))\n",
    "        print(a)\n",
    "        break\n",
    "        input_b = khatri_rao(a.T, c.T)\n",
    "        target_b = u.tensor_unfold(tensor, mode=0).T\n",
    "        b = np.linalg.solve(input_b.T.dot(input_b), input_b.T.dot(target_b))\n",
    "        input_c = khatri_rao(a.T, b.T)\n",
    "        target_c = u.tensor_unfold(tensor, mode=1).T\n",
    "        c = np.linalg.solve(input_c.T.dot(input_c), input_c.T.dot(target_c))\n",
    "        M = reconstruct_estimation_tensor(a.T, b.T, c.T, tensor.shape)\n",
    "        sse_error = (np.linalg.norm((tensor-M)))**2\n",
    "        error.append(sse_error)\n",
    "        if epoch %50 == 0:\n",
    "            print(\"Epoch: \",epoch, \"Sum of squared error: \", sse_error)\n",
    "    return a.T, b.T, c.T, error"
   ]
  },
  {
   "cell_type": "code",
   "execution_count": 302,
   "metadata": {},
   "outputs": [],
   "source": [
    "input_shape = (3, 6, 5)\n",
    "torch.manual_seed(0)\n",
    "A = torch.rand(input_shape)\n",
    "max_iter = 100"
   ]
  },
  {
   "cell_type": "code",
   "execution_count": 316,
   "metadata": {},
   "outputs": [
    {
     "name": "stdout",
     "output_type": "stream",
     "text": [
      "Inside the unfolding mode 2\n",
      "torch.Size([30])\n",
      "tensor([[0.3051, 0.9320, 0.1759, 0.2698, 0.1507],\n",
      "        [0.0317, 0.2081, 0.9298, 0.7231, 0.7423],\n",
      "        [0.5263, 0.2437, 0.5846, 0.0332, 0.1387],\n",
      "        [0.2422, 0.8155, 0.7932, 0.2783, 0.4820],\n",
      "        [0.8198, 0.9971, 0.6984, 0.5675, 0.8352],\n",
      "        [0.2056, 0.5932, 0.1123, 0.1535, 0.2417]])\n",
      "#####\n",
      "tensor([0.3051, 0.0317, 0.5263, 0.2422, 0.8198, 0.2056, 0.9320, 0.2081, 0.2437,\n",
      "        0.8155, 0.9971, 0.5932, 0.1759, 0.9298, 0.5846, 0.7932, 0.6984, 0.1123,\n",
      "        0.2698, 0.7231, 0.0332, 0.2783, 0.5675, 0.1535, 0.1507, 0.7423, 0.1387,\n",
      "        0.4820, 0.8352, 0.2417])\n",
      "tensor([[0.7262, 0.7011, 0.2038, 0.6511, 0.7745],\n",
      "        [0.4369, 0.5191, 0.6159, 0.8102, 0.9801],\n",
      "        [0.1147, 0.3168, 0.6965, 0.9143, 0.9351],\n",
      "        [0.9412, 0.5995, 0.0652, 0.5460, 0.1872],\n",
      "        [0.0340, 0.9442, 0.8802, 0.0012, 0.5936],\n",
      "        [0.4158, 0.4177, 0.2711, 0.6923, 0.2038]])\n",
      "#####\n",
      "tensor([0.7262, 0.4369, 0.1147, 0.9412, 0.0340, 0.4158, 0.7011, 0.5191, 0.3168,\n",
      "        0.5995, 0.9442, 0.4177, 0.2038, 0.6159, 0.6965, 0.0652, 0.8802, 0.2711,\n",
      "        0.6511, 0.8102, 0.9143, 0.5460, 0.0012, 0.6923, 0.7745, 0.9801, 0.9351,\n",
      "        0.1872, 0.5936, 0.2038])\n"
     ]
    },
    {
     "ename": "RuntimeError",
     "evalue": "stack expects each tensor to be equal size, but got [2, 30] at entry 0 and [30] at entry 1",
     "output_type": "error",
     "traceback": [
      "\u001b[0;31m---------------------------------------------------------------------------\u001b[0m",
      "\u001b[0;31mRuntimeError\u001b[0m                              Traceback (most recent call last)",
      "\u001b[0;32m<ipython-input-316-91039e9ab1a9>\u001b[0m in \u001b[0;36m<module>\u001b[0;34m\u001b[0m\n\u001b[1;32m      1\u001b[0m \u001b[0;31m#a, b, c, error = CP_Decomposition(A, 3, max_iter)\u001b[0m\u001b[0;34m\u001b[0m\u001b[0;34m\u001b[0m\u001b[0;34m\u001b[0m\u001b[0m\n\u001b[1;32m      2\u001b[0m \u001b[0mu\u001b[0m \u001b[0;34m=\u001b[0m \u001b[0munfold_Tensor\u001b[0m\u001b[0;34m(\u001b[0m\u001b[0;34m)\u001b[0m\u001b[0;34m\u001b[0m\u001b[0;34m\u001b[0m\u001b[0m\n\u001b[0;32m----> 3\u001b[0;31m \u001b[0mprint\u001b[0m\u001b[0;34m(\u001b[0m\u001b[0mu\u001b[0m\u001b[0;34m.\u001b[0m\u001b[0mtensor_unfold\u001b[0m\u001b[0;34m(\u001b[0m\u001b[0mA\u001b[0m\u001b[0;34m,\u001b[0m \u001b[0mmode\u001b[0m\u001b[0;34m=\u001b[0m\u001b[0;36m2\u001b[0m\u001b[0;34m)\u001b[0m\u001b[0;34m.\u001b[0m\u001b[0mT\u001b[0m\u001b[0;34m)\u001b[0m\u001b[0;34m\u001b[0m\u001b[0;34m\u001b[0m\u001b[0m\n\u001b[0m",
      "\u001b[0;32m<ipython-input-314-75e659df01b6>\u001b[0m in \u001b[0;36mtensor_unfold\u001b[0;34m(self, tensor, mode)\u001b[0m\n\u001b[1;32m     30\u001b[0m             \u001b[0munfold_tensor\u001b[0m \u001b[0;34m=\u001b[0m \u001b[0mself\u001b[0m\u001b[0;34m.\u001b[0m\u001b[0mmode_one_unfold\u001b[0m\u001b[0;34m(\u001b[0m\u001b[0mtensor\u001b[0m\u001b[0;34m)\u001b[0m\u001b[0;34m\u001b[0m\u001b[0;34m\u001b[0m\u001b[0m\n\u001b[1;32m     31\u001b[0m         \u001b[0;32melif\u001b[0m \u001b[0mmode\u001b[0m \u001b[0;34m==\u001b[0m \u001b[0;36m2\u001b[0m\u001b[0;34m:\u001b[0m\u001b[0;34m\u001b[0m\u001b[0;34m\u001b[0m\u001b[0m\n\u001b[0;32m---> 32\u001b[0;31m             \u001b[0munfold_tensor\u001b[0m \u001b[0;34m=\u001b[0m \u001b[0mself\u001b[0m\u001b[0;34m.\u001b[0m\u001b[0mmode_two_unfold\u001b[0m\u001b[0;34m(\u001b[0m\u001b[0mtensor\u001b[0m\u001b[0;34m)\u001b[0m\u001b[0;34m\u001b[0m\u001b[0;34m\u001b[0m\u001b[0m\n\u001b[0m\u001b[1;32m     33\u001b[0m         \u001b[0;32melse\u001b[0m\u001b[0;34m:\u001b[0m\u001b[0;34m\u001b[0m\u001b[0;34m\u001b[0m\u001b[0m\n\u001b[1;32m     34\u001b[0m             \u001b[0mprint\u001b[0m\u001b[0;34m(\u001b[0m\u001b[0;34m\"Wrong mode value please enter mode between 0, 1 and 2 only.\"\u001b[0m\u001b[0;34m)\u001b[0m\u001b[0;34m\u001b[0m\u001b[0;34m\u001b[0m\u001b[0m\n",
      "\u001b[0;32m<ipython-input-314-75e659df01b6>\u001b[0m in \u001b[0;36mmode_two_unfold\u001b[0;34m(self, tensor)\u001b[0m\n\u001b[1;32m     20\u001b[0m             \u001b[0mprint\u001b[0m\u001b[0;34m(\u001b[0m\u001b[0;34m\"#####\"\u001b[0m\u001b[0;34m)\u001b[0m\u001b[0;34m\u001b[0m\u001b[0;34m\u001b[0m\u001b[0m\n\u001b[1;32m     21\u001b[0m             \u001b[0mprint\u001b[0m\u001b[0;34m(\u001b[0m\u001b[0mtorch\u001b[0m\u001b[0;34m.\u001b[0m\u001b[0mflatten\u001b[0m\u001b[0;34m(\u001b[0m\u001b[0mtensor\u001b[0m\u001b[0;34m[\u001b[0m\u001b[0mi\u001b[0m\u001b[0;34m]\u001b[0m\u001b[0;34m.\u001b[0m\u001b[0mT\u001b[0m\u001b[0;34m)\u001b[0m\u001b[0;34m)\u001b[0m\u001b[0;34m\u001b[0m\u001b[0;34m\u001b[0m\u001b[0m\n\u001b[0;32m---> 22\u001b[0;31m             \u001b[0mnew_matrix\u001b[0m \u001b[0;34m=\u001b[0m \u001b[0mtorch\u001b[0m\u001b[0;34m.\u001b[0m\u001b[0mstack\u001b[0m\u001b[0;34m(\u001b[0m\u001b[0;34m(\u001b[0m\u001b[0mnew_matrix\u001b[0m\u001b[0;34m,\u001b[0m \u001b[0mtorch\u001b[0m\u001b[0;34m.\u001b[0m\u001b[0mflatten\u001b[0m\u001b[0;34m(\u001b[0m\u001b[0mtensor\u001b[0m\u001b[0;34m[\u001b[0m\u001b[0mi\u001b[0m\u001b[0;34m]\u001b[0m\u001b[0;34m.\u001b[0m\u001b[0mT\u001b[0m\u001b[0;34m)\u001b[0m\u001b[0;34m)\u001b[0m\u001b[0;34m,\u001b[0m \u001b[0;36m0\u001b[0m\u001b[0;34m)\u001b[0m\u001b[0;34m\u001b[0m\u001b[0;34m\u001b[0m\u001b[0m\n\u001b[0m\u001b[1;32m     23\u001b[0m         \u001b[0;32mreturn\u001b[0m \u001b[0mnew_matrix\u001b[0m\u001b[0;34m\u001b[0m\u001b[0;34m\u001b[0m\u001b[0m\n\u001b[1;32m     24\u001b[0m \u001b[0;34m\u001b[0m\u001b[0m\n",
      "\u001b[0;31mRuntimeError\u001b[0m: stack expects each tensor to be equal size, but got [2, 30] at entry 0 and [30] at entry 1"
     ]
    }
   ],
   "source": [
    "#a, b, c, error = CP_Decomposition(A, 3, max_iter)\n",
    "u = unfold_Tensor()\n",
    "print(u.tensor_unfold(A, mode=2).T)"
   ]
  }
 ],
 "metadata": {
  "kernelspec": {
   "display_name": "Python 3",
   "language": "python",
   "name": "python3"
  },
  "language_info": {
   "codemirror_mode": {
    "name": "ipython",
    "version": 3
   },
   "file_extension": ".py",
   "mimetype": "text/x-python",
   "name": "python",
   "nbconvert_exporter": "python",
   "pygments_lexer": "ipython3",
   "version": "3.6.10"
  }
 },
 "nbformat": 4,
 "nbformat_minor": 4
}
