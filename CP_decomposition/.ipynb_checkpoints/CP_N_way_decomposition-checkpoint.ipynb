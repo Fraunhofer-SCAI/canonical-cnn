{
 "cells": [
  {
   "cell_type": "code",
   "execution_count": 1,
   "metadata": {},
   "outputs": [],
   "source": [
    "from tensorly.decomposition import parafac\n",
    "import torch\n",
    "import numpy as np\n",
    "from scipy.linalg import khatri_rao\n",
    "import tensorly as tl"
   ]
  },
  {
   "cell_type": "code",
   "execution_count": 2,
   "metadata": {
    "scrolled": false
   },
   "outputs": [
    {
     "name": "stdout",
     "output_type": "stream",
     "text": [
      "tensor([[[ 1,  4,  5],\n",
      "         [ 0,  4,  8],\n",
      "         [ 2,  6,  6]],\n",
      "\n",
      "        [[ 2,  7,  8],\n",
      "         [ 0,  6, 12],\n",
      "         [ 4, 11, 10]],\n",
      "\n",
      "        [[ 1,  5,  7],\n",
      "         [ 0,  6, 12],\n",
      "         [ 2,  7,  8]]])\n"
     ]
    }
   ],
   "source": [
    "tensor = torch.randn(3, 6, 6)\n",
    "#print(tensor)\n",
    "#u, s, v = np.linalg.svd(tensor)\n",
    "#print(u)\n",
    "#print(s)\n",
    "#print(v.T)\n",
    "tensor = np.array([[[1, 4, 5], [0, 4, 8], [2, 6, 6]],\n",
    "                   [[2, 7, 8], [0, 6, 12], [4, 11, 10]],\n",
    "                   [[1, 5, 7], [0, 6, 12], [2, 7, 8]]])\n",
    "tensor = torch.from_numpy(tensor)\n",
    "print(tensor)"
   ]
  },
  {
   "cell_type": "markdown",
   "metadata": {},
   "source": [
    "## Standard PARAFAC method from tensorly:"
   ]
  },
  {
   "cell_type": "code",
   "execution_count": 3,
   "metadata": {
    "scrolled": true
   },
   "outputs": [
    {
     "name": "stdout",
     "output_type": "stream",
     "text": [
      "[1 1 1]\n",
      "[[ 1.39206899e+01 -2.55236235e+00 -4.06646529e-17]\n",
      " [ 2.13997927e+01 -3.40397181e+00 -1.09348468e-15]\n",
      " [ 2.03622771e+01 -4.25311524e+00  9.71490718e-16]]\n",
      "[[-0.46700294  0.1623161  -2.96934146]\n",
      " [-0.63521287 -0.70863939  1.19774318]\n",
      " [-0.61639944  0.6789519  -6.53755451]]\n",
      "[[-1.15141795e-01 -5.58433606e-01  1.66543323e+14]\n",
      " [-5.72806712e-01 -5.80959036e-01  2.93973909e+14]\n",
      " [-8.00188039e-01  5.13382745e-01  8.83178503e+13]]\n"
     ]
    }
   ],
   "source": [
    "x = parafac(tl.tensor(tensor), rank=3)\n",
    "print(x[0])\n",
    "for i in x[1]:\n",
    "    print(i)"
   ]
  },
  {
   "cell_type": "markdown",
   "metadata": {},
   "source": [
    "## Implementation of ALS algorithm:"
   ]
  },
  {
   "cell_type": "code",
   "execution_count": 5,
   "metadata": {},
   "outputs": [
    {
     "name": "stdout",
     "output_type": "stream",
     "text": [
      "[[ 5 21]\n",
      " [ 6 24]\n",
      " [10 28]\n",
      " [12 32]]\n",
      "[[ 5 21]\n",
      " [12 32]]\n"
     ]
    }
   ],
   "source": [
    "A = np.array([[1, 3], [2, 4]])\n",
    "B = np.array([[5, 7], [6, 8]])\n",
    "m = khatri_rao(A, B)\n",
    "print(m)\n",
    "print(A*B)"
   ]
  },
  {
   "cell_type": "code",
   "execution_count": 6,
   "metadata": {},
   "outputs": [
    {
     "name": "stdout",
     "output_type": "stream",
     "text": [
      "[[[4. 7. 0.]\n",
      "  [3. 1. 1.]\n",
      "  [2. 3. 4.]]\n",
      "\n",
      " [[5. 4. 7.]\n",
      "  [2. 9. 0.]\n",
      "  [7. 4. 6.]]]\n"
     ]
    }
   ],
   "source": [
    "np.random.seed(1)\n",
    "X_tensor = np.round(np.random.random((2, 3, 3))*10)\n",
    "print(X_tensor)"
   ]
  },
  {
   "cell_type": "code",
   "execution_count": 34,
   "metadata": {},
   "outputs": [],
   "source": [
    "def compute_ALS_CANDECOMP_PARAFAC(input_matrix, max_iterations, rank):\n",
    "    np.random.seed(1)\n",
    "    A = np.round(np.random.randn(input_matrix.shape[-1], rank),2)\n",
    "    while(max_iterations > 0):\n",
    "        for i in range(0, input_matrix.shape[-1]):\n",
    "            print(\"N value: \", i)\n",
    "            ## Step-01 (V calculation)\n",
    "            A_new = A[:, 0:i+1]\n",
    "            V = np.dot(A_new[:, 0:1], A_new[:, 0:1].T)\n",
    "            if i != 0:\n",
    "                for j in range(1, A_new.shape[-1]):\n",
    "                    V = V*A_new[:, j:j+1]\n",
    "            print(\"V matrix calculated\")\n",
    "            ## A Calculation\n",
    "            V_inv = np.linalg.pinv(V)\n",
    "            print(\"V inverse calculated\")\n",
    "            A_new = A[:, 0:i+1]\n",
    "            A_new = np.flip(A_new, 1)\n",
    "            print(\"A matrix flipped for reverse khatri rao product\")\n",
    "            A_KProduct = A_new[:, 0:1]\n",
    "            if i != 0:\n",
    "                for j in range(1, A_new.shape[-1]):\n",
    "                    A_KProduct = khatri_rao(A_KProduct, A_new[:, j:j+1])\n",
    "            print(\"Unfolding the tensor\")\n",
    "            X_unfolded = tl.unfold(input_matrix, mode = i)\n",
    "            print(\"Shapes: \")\n",
    "            print(X_unfolded.shape)\n",
    "            print(A_KProduct.shape)\n",
    "            print(V_inv.shape)\n",
    "            print(\"######\")\n",
    "        max_iterations -= 1"
   ]
  },
  {
   "cell_type": "code",
   "execution_count": 35,
   "metadata": {},
   "outputs": [
    {
     "name": "stdout",
     "output_type": "stream",
     "text": [
      "N value:  0\n",
      "V matrix calculated\n",
      "V inverse calculated\n",
      "A matrix flipped for reverse khatri rao product\n",
      "Unfolding the tensor\n",
      "Shapes: \n",
      "(2, 9)\n",
      "(3, 1)\n",
      "(3, 3)\n",
      "######\n",
      "N value:  1\n",
      "V matrix calculated\n",
      "V inverse calculated\n",
      "A matrix flipped for reverse khatri rao product\n",
      "Unfolding the tensor\n",
      "Shapes: \n",
      "(3, 6)\n",
      "(9, 1)\n",
      "(3, 3)\n",
      "######\n",
      "N value:  2\n",
      "V matrix calculated\n",
      "V inverse calculated\n",
      "A matrix flipped for reverse khatri rao product\n",
      "Unfolding the tensor\n",
      "Shapes: \n",
      "(3, 6)\n",
      "(27, 1)\n",
      "(3, 3)\n",
      "######\n"
     ]
    }
   ],
   "source": [
    "compute_ALS_CANDECOMP_PARAFAC(X_tensor, 1, 3)"
   ]
  }
 ],
 "metadata": {
  "kernelspec": {
   "display_name": "Python 3",
   "language": "python",
   "name": "python3"
  },
  "language_info": {
   "codemirror_mode": {
    "name": "ipython",
    "version": 3
   },
   "file_extension": ".py",
   "mimetype": "text/x-python",
   "name": "python",
   "nbconvert_exporter": "python",
   "pygments_lexer": "ipython3",
   "version": "3.6.10"
  }
 },
 "nbformat": 4,
 "nbformat_minor": 4
}
